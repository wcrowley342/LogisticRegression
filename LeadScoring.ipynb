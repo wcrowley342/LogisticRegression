{
  "nbformat": 4,
  "nbformat_minor": 0,
  "metadata": {
    "colab": {
      "name": "LeadScoring.ipynb",
      "provenance": [],
      "toc_visible": true,
      "authorship_tag": "ABX9TyMAe7op77aGY12SxYeFqkPX",
      "include_colab_link": true
    },
    "kernelspec": {
      "name": "python3",
      "display_name": "Python 3"
    },
    "language_info": {
      "name": "python"
    }
  },
  "cells": [
    {
      "cell_type": "markdown",
      "metadata": {
        "id": "view-in-github",
        "colab_type": "text"
      },
      "source": [
        "<a href=\"https://colab.research.google.com/github/wcrowley342/LogisticRegression/blob/main/LeadScoring.ipynb\" target=\"_parent\"><img src=\"https://colab.research.google.com/assets/colab-badge.svg\" alt=\"Open In Colab\"/></a>"
      ]
    },
    {
      "cell_type": "markdown",
      "metadata": {
        "id": "XNsaio6xGUb8"
      },
      "source": [
        "# Library & Data Import"
      ]
    },
    {
      "cell_type": "code",
      "metadata": {
        "colab": {
          "base_uri": "https://localhost:8080/",
          "height": 206
        },
        "id": "hufe2NwWTZNB",
        "outputId": "6ba435c7-ab83-40f1-fe48-d9c0225dde0d"
      },
      "source": [
        "#import necessary packages\n",
        "import pandas as pd\n",
        "import numpy as np\n",
        "import seaborn as sns\n",
        "import matplotlib.pyplot as plt\n",
        "\n",
        "#import and read in the data\n",
        "leads = pd.read_csv('https://raw.githubusercontent.com/wcrowley342/LogisticRegression/main/Lead%20Source%20Dataset%20V14.csv')\n",
        "\n",
        "#show first five rows\n",
        "leads.head()"
      ],
      "execution_count": 91,
      "outputs": [
        {
          "output_type": "execute_result",
          "data": {
            "text/html": [
              "\n",
              "  <div id=\"df-ec4ed65d-7a0a-4d31-b51f-4aeff6b0b0ef\">\n",
              "    <div class=\"colab-df-container\">\n",
              "      <div>\n",
              "<style scoped>\n",
              "    .dataframe tbody tr th:only-of-type {\n",
              "        vertical-align: middle;\n",
              "    }\n",
              "\n",
              "    .dataframe tbody tr th {\n",
              "        vertical-align: top;\n",
              "    }\n",
              "\n",
              "    .dataframe thead th {\n",
              "        text-align: right;\n",
              "    }\n",
              "</style>\n",
              "<table border=\"1\" class=\"dataframe\">\n",
              "  <thead>\n",
              "    <tr style=\"text-align: right;\">\n",
              "      <th></th>\n",
              "      <th>ID</th>\n",
              "      <th>State</th>\n",
              "      <th>PhoneNumber</th>\n",
              "      <th>WebsiteVisits</th>\n",
              "      <th>CompanySize</th>\n",
              "      <th>EmailOpens</th>\n",
              "      <th>EmailClicks</th>\n",
              "      <th>LeadSource</th>\n",
              "      <th>Customer</th>\n",
              "    </tr>\n",
              "  </thead>\n",
              "  <tbody>\n",
              "    <tr>\n",
              "      <th>0</th>\n",
              "      <td>7545550</td>\n",
              "      <td>Ohio</td>\n",
              "      <td>2-660-823-2444</td>\n",
              "      <td>10</td>\n",
              "      <td>106</td>\n",
              "      <td>14</td>\n",
              "      <td>7</td>\n",
              "      <td>Webinar</td>\n",
              "      <td>No</td>\n",
              "    </tr>\n",
              "    <tr>\n",
              "      <th>1</th>\n",
              "      <td>3824383</td>\n",
              "      <td>Colorado</td>\n",
              "      <td>5-484-700-5755</td>\n",
              "      <td>15</td>\n",
              "      <td>51</td>\n",
              "      <td>26</td>\n",
              "      <td>8</td>\n",
              "      <td>Print</td>\n",
              "      <td>Yes</td>\n",
              "    </tr>\n",
              "    <tr>\n",
              "      <th>2</th>\n",
              "      <td>6263389</td>\n",
              "      <td>Pennsylvania</td>\n",
              "      <td>6-554-705-2850</td>\n",
              "      <td>14</td>\n",
              "      <td>142</td>\n",
              "      <td>10</td>\n",
              "      <td>9</td>\n",
              "      <td>Adwords</td>\n",
              "      <td>No</td>\n",
              "    </tr>\n",
              "    <tr>\n",
              "      <th>3</th>\n",
              "      <td>4625163</td>\n",
              "      <td>Wyoming</td>\n",
              "      <td>6-468-186-1647</td>\n",
              "      <td>6</td>\n",
              "      <td>136</td>\n",
              "      <td>19</td>\n",
              "      <td>4</td>\n",
              "      <td>Print</td>\n",
              "      <td>No</td>\n",
              "    </tr>\n",
              "    <tr>\n",
              "      <th>4</th>\n",
              "      <td>1348223</td>\n",
              "      <td>Maryland</td>\n",
              "      <td>2-645-088-3657</td>\n",
              "      <td>5</td>\n",
              "      <td>137</td>\n",
              "      <td>14</td>\n",
              "      <td>6</td>\n",
              "      <td>Print</td>\n",
              "      <td>No</td>\n",
              "    </tr>\n",
              "  </tbody>\n",
              "</table>\n",
              "</div>\n",
              "      <button class=\"colab-df-convert\" onclick=\"convertToInteractive('df-ec4ed65d-7a0a-4d31-b51f-4aeff6b0b0ef')\"\n",
              "              title=\"Convert this dataframe to an interactive table.\"\n",
              "              style=\"display:none;\">\n",
              "        \n",
              "  <svg xmlns=\"http://www.w3.org/2000/svg\" height=\"24px\"viewBox=\"0 0 24 24\"\n",
              "       width=\"24px\">\n",
              "    <path d=\"M0 0h24v24H0V0z\" fill=\"none\"/>\n",
              "    <path d=\"M18.56 5.44l.94 2.06.94-2.06 2.06-.94-2.06-.94-.94-2.06-.94 2.06-2.06.94zm-11 1L8.5 8.5l.94-2.06 2.06-.94-2.06-.94L8.5 2.5l-.94 2.06-2.06.94zm10 10l.94 2.06.94-2.06 2.06-.94-2.06-.94-.94-2.06-.94 2.06-2.06.94z\"/><path d=\"M17.41 7.96l-1.37-1.37c-.4-.4-.92-.59-1.43-.59-.52 0-1.04.2-1.43.59L10.3 9.45l-7.72 7.72c-.78.78-.78 2.05 0 2.83L4 21.41c.39.39.9.59 1.41.59.51 0 1.02-.2 1.41-.59l7.78-7.78 2.81-2.81c.8-.78.8-2.07 0-2.86zM5.41 20L4 18.59l7.72-7.72 1.47 1.35L5.41 20z\"/>\n",
              "  </svg>\n",
              "      </button>\n",
              "      \n",
              "  <style>\n",
              "    .colab-df-container {\n",
              "      display:flex;\n",
              "      flex-wrap:wrap;\n",
              "      gap: 12px;\n",
              "    }\n",
              "\n",
              "    .colab-df-convert {\n",
              "      background-color: #E8F0FE;\n",
              "      border: none;\n",
              "      border-radius: 50%;\n",
              "      cursor: pointer;\n",
              "      display: none;\n",
              "      fill: #1967D2;\n",
              "      height: 32px;\n",
              "      padding: 0 0 0 0;\n",
              "      width: 32px;\n",
              "    }\n",
              "\n",
              "    .colab-df-convert:hover {\n",
              "      background-color: #E2EBFA;\n",
              "      box-shadow: 0px 1px 2px rgba(60, 64, 67, 0.3), 0px 1px 3px 1px rgba(60, 64, 67, 0.15);\n",
              "      fill: #174EA6;\n",
              "    }\n",
              "\n",
              "    [theme=dark] .colab-df-convert {\n",
              "      background-color: #3B4455;\n",
              "      fill: #D2E3FC;\n",
              "    }\n",
              "\n",
              "    [theme=dark] .colab-df-convert:hover {\n",
              "      background-color: #434B5C;\n",
              "      box-shadow: 0px 1px 3px 1px rgba(0, 0, 0, 0.15);\n",
              "      filter: drop-shadow(0px 1px 2px rgba(0, 0, 0, 0.3));\n",
              "      fill: #FFFFFF;\n",
              "    }\n",
              "  </style>\n",
              "\n",
              "      <script>\n",
              "        const buttonEl =\n",
              "          document.querySelector('#df-ec4ed65d-7a0a-4d31-b51f-4aeff6b0b0ef button.colab-df-convert');\n",
              "        buttonEl.style.display =\n",
              "          google.colab.kernel.accessAllowed ? 'block' : 'none';\n",
              "\n",
              "        async function convertToInteractive(key) {\n",
              "          const element = document.querySelector('#df-ec4ed65d-7a0a-4d31-b51f-4aeff6b0b0ef');\n",
              "          const dataTable =\n",
              "            await google.colab.kernel.invokeFunction('convertToInteractive',\n",
              "                                                     [key], {});\n",
              "          if (!dataTable) return;\n",
              "\n",
              "          const docLinkHtml = 'Like what you see? Visit the ' +\n",
              "            '<a target=\"_blank\" href=https://colab.research.google.com/notebooks/data_table.ipynb>data table notebook</a>'\n",
              "            + ' to learn more about interactive tables.';\n",
              "          element.innerHTML = '';\n",
              "          dataTable['output_type'] = 'display_data';\n",
              "          await google.colab.output.renderOutput(dataTable, element);\n",
              "          const docLink = document.createElement('div');\n",
              "          docLink.innerHTML = docLinkHtml;\n",
              "          element.appendChild(docLink);\n",
              "        }\n",
              "      </script>\n",
              "    </div>\n",
              "  </div>\n",
              "  "
            ],
            "text/plain": [
              "        ID         State     PhoneNumber  ...  EmailClicks  LeadSource  Customer\n",
              "0  7545550          Ohio  2-660-823-2444  ...            7     Webinar        No\n",
              "1  3824383      Colorado  5-484-700-5755  ...            8       Print       Yes\n",
              "2  6263389  Pennsylvania  6-554-705-2850  ...            9     Adwords        No\n",
              "3  4625163       Wyoming  6-468-186-1647  ...            4       Print        No\n",
              "4  1348223      Maryland  2-645-088-3657  ...            6       Print        No\n",
              "\n",
              "[5 rows x 9 columns]"
            ]
          },
          "metadata": {},
          "execution_count": 91
        }
      ]
    },
    {
      "cell_type": "markdown",
      "metadata": {
        "id": "1b8Tit1pGZiP"
      },
      "source": [
        "# EDA"
      ]
    },
    {
      "cell_type": "code",
      "metadata": {
        "colab": {
          "base_uri": "https://localhost:8080/"
        },
        "id": "A8SpHoe1FuPJ",
        "outputId": "96b1dba3-c26e-4db5-da17-da17728556fa"
      },
      "source": [
        "#understanding our data with .info\n",
        "leads.info()"
      ],
      "execution_count": 92,
      "outputs": [
        {
          "output_type": "stream",
          "name": "stdout",
          "text": [
            "<class 'pandas.core.frame.DataFrame'>\n",
            "RangeIndex: 800 entries, 0 to 799\n",
            "Data columns (total 9 columns):\n",
            " #   Column         Non-Null Count  Dtype \n",
            "---  ------         --------------  ----- \n",
            " 0   ID             800 non-null    int64 \n",
            " 1   State          800 non-null    object\n",
            " 2   PhoneNumber    800 non-null    object\n",
            " 3   WebsiteVisits  800 non-null    int64 \n",
            " 4   CompanySize    800 non-null    int64 \n",
            " 5   EmailOpens     800 non-null    int64 \n",
            " 6   EmailClicks    800 non-null    int64 \n",
            " 7   LeadSource     800 non-null    object\n",
            " 8   Customer       800 non-null    object\n",
            "dtypes: int64(5), object(4)\n",
            "memory usage: 56.4+ KB\n"
          ]
        }
      ]
    },
    {
      "cell_type": "code",
      "metadata": {
        "colab": {
          "base_uri": "https://localhost:8080/",
          "height": 0
        },
        "id": "4Y-VuYL7FxwZ",
        "outputId": "7d1c6927-e0bf-4df8-f592-44a61a15a6ea"
      },
      "source": [
        "leads.describe()"
      ],
      "execution_count": 93,
      "outputs": [
        {
          "output_type": "execute_result",
          "data": {
            "text/html": [
              "\n",
              "  <div id=\"df-939173a3-50e5-4ee7-93e5-d7a37dd26d51\">\n",
              "    <div class=\"colab-df-container\">\n",
              "      <div>\n",
              "<style scoped>\n",
              "    .dataframe tbody tr th:only-of-type {\n",
              "        vertical-align: middle;\n",
              "    }\n",
              "\n",
              "    .dataframe tbody tr th {\n",
              "        vertical-align: top;\n",
              "    }\n",
              "\n",
              "    .dataframe thead th {\n",
              "        text-align: right;\n",
              "    }\n",
              "</style>\n",
              "<table border=\"1\" class=\"dataframe\">\n",
              "  <thead>\n",
              "    <tr style=\"text-align: right;\">\n",
              "      <th></th>\n",
              "      <th>ID</th>\n",
              "      <th>WebsiteVisits</th>\n",
              "      <th>CompanySize</th>\n",
              "      <th>EmailOpens</th>\n",
              "      <th>EmailClicks</th>\n",
              "    </tr>\n",
              "  </thead>\n",
              "  <tbody>\n",
              "    <tr>\n",
              "      <th>count</th>\n",
              "      <td>8.000000e+02</td>\n",
              "      <td>800.000000</td>\n",
              "      <td>800.000000</td>\n",
              "      <td>800.000000</td>\n",
              "      <td>800.000000</td>\n",
              "    </tr>\n",
              "    <tr>\n",
              "      <th>mean</th>\n",
              "      <td>4.829681e+06</td>\n",
              "      <td>11.088750</td>\n",
              "      <td>104.391250</td>\n",
              "      <td>11.477500</td>\n",
              "      <td>5.251250</td>\n",
              "    </tr>\n",
              "    <tr>\n",
              "      <th>std</th>\n",
              "      <td>2.948017e+06</td>\n",
              "      <td>6.312344</td>\n",
              "      <td>25.603517</td>\n",
              "      <td>6.238842</td>\n",
              "      <td>3.353309</td>\n",
              "    </tr>\n",
              "    <tr>\n",
              "      <th>min</th>\n",
              "      <td>5.948000e+03</td>\n",
              "      <td>2.000000</td>\n",
              "      <td>50.000000</td>\n",
              "      <td>2.000000</td>\n",
              "      <td>0.000000</td>\n",
              "    </tr>\n",
              "    <tr>\n",
              "      <th>25%</th>\n",
              "      <td>2.280152e+06</td>\n",
              "      <td>6.000000</td>\n",
              "      <td>85.000000</td>\n",
              "      <td>6.000000</td>\n",
              "      <td>3.000000</td>\n",
              "    </tr>\n",
              "    <tr>\n",
              "      <th>50%</th>\n",
              "      <td>4.686133e+06</td>\n",
              "      <td>11.000000</td>\n",
              "      <td>103.000000</td>\n",
              "      <td>11.000000</td>\n",
              "      <td>5.000000</td>\n",
              "    </tr>\n",
              "    <tr>\n",
              "      <th>75%</th>\n",
              "      <td>7.402104e+06</td>\n",
              "      <td>15.000000</td>\n",
              "      <td>125.000000</td>\n",
              "      <td>16.000000</td>\n",
              "      <td>7.000000</td>\n",
              "    </tr>\n",
              "    <tr>\n",
              "      <th>max</th>\n",
              "      <td>9.975718e+06</td>\n",
              "      <td>29.000000</td>\n",
              "      <td>149.000000</td>\n",
              "      <td>29.000000</td>\n",
              "      <td>14.000000</td>\n",
              "    </tr>\n",
              "  </tbody>\n",
              "</table>\n",
              "</div>\n",
              "      <button class=\"colab-df-convert\" onclick=\"convertToInteractive('df-939173a3-50e5-4ee7-93e5-d7a37dd26d51')\"\n",
              "              title=\"Convert this dataframe to an interactive table.\"\n",
              "              style=\"display:none;\">\n",
              "        \n",
              "  <svg xmlns=\"http://www.w3.org/2000/svg\" height=\"24px\"viewBox=\"0 0 24 24\"\n",
              "       width=\"24px\">\n",
              "    <path d=\"M0 0h24v24H0V0z\" fill=\"none\"/>\n",
              "    <path d=\"M18.56 5.44l.94 2.06.94-2.06 2.06-.94-2.06-.94-.94-2.06-.94 2.06-2.06.94zm-11 1L8.5 8.5l.94-2.06 2.06-.94-2.06-.94L8.5 2.5l-.94 2.06-2.06.94zm10 10l.94 2.06.94-2.06 2.06-.94-2.06-.94-.94-2.06-.94 2.06-2.06.94z\"/><path d=\"M17.41 7.96l-1.37-1.37c-.4-.4-.92-.59-1.43-.59-.52 0-1.04.2-1.43.59L10.3 9.45l-7.72 7.72c-.78.78-.78 2.05 0 2.83L4 21.41c.39.39.9.59 1.41.59.51 0 1.02-.2 1.41-.59l7.78-7.78 2.81-2.81c.8-.78.8-2.07 0-2.86zM5.41 20L4 18.59l7.72-7.72 1.47 1.35L5.41 20z\"/>\n",
              "  </svg>\n",
              "      </button>\n",
              "      \n",
              "  <style>\n",
              "    .colab-df-container {\n",
              "      display:flex;\n",
              "      flex-wrap:wrap;\n",
              "      gap: 12px;\n",
              "    }\n",
              "\n",
              "    .colab-df-convert {\n",
              "      background-color: #E8F0FE;\n",
              "      border: none;\n",
              "      border-radius: 50%;\n",
              "      cursor: pointer;\n",
              "      display: none;\n",
              "      fill: #1967D2;\n",
              "      height: 32px;\n",
              "      padding: 0 0 0 0;\n",
              "      width: 32px;\n",
              "    }\n",
              "\n",
              "    .colab-df-convert:hover {\n",
              "      background-color: #E2EBFA;\n",
              "      box-shadow: 0px 1px 2px rgba(60, 64, 67, 0.3), 0px 1px 3px 1px rgba(60, 64, 67, 0.15);\n",
              "      fill: #174EA6;\n",
              "    }\n",
              "\n",
              "    [theme=dark] .colab-df-convert {\n",
              "      background-color: #3B4455;\n",
              "      fill: #D2E3FC;\n",
              "    }\n",
              "\n",
              "    [theme=dark] .colab-df-convert:hover {\n",
              "      background-color: #434B5C;\n",
              "      box-shadow: 0px 1px 3px 1px rgba(0, 0, 0, 0.15);\n",
              "      filter: drop-shadow(0px 1px 2px rgba(0, 0, 0, 0.3));\n",
              "      fill: #FFFFFF;\n",
              "    }\n",
              "  </style>\n",
              "\n",
              "      <script>\n",
              "        const buttonEl =\n",
              "          document.querySelector('#df-939173a3-50e5-4ee7-93e5-d7a37dd26d51 button.colab-df-convert');\n",
              "        buttonEl.style.display =\n",
              "          google.colab.kernel.accessAllowed ? 'block' : 'none';\n",
              "\n",
              "        async function convertToInteractive(key) {\n",
              "          const element = document.querySelector('#df-939173a3-50e5-4ee7-93e5-d7a37dd26d51');\n",
              "          const dataTable =\n",
              "            await google.colab.kernel.invokeFunction('convertToInteractive',\n",
              "                                                     [key], {});\n",
              "          if (!dataTable) return;\n",
              "\n",
              "          const docLinkHtml = 'Like what you see? Visit the ' +\n",
              "            '<a target=\"_blank\" href=https://colab.research.google.com/notebooks/data_table.ipynb>data table notebook</a>'\n",
              "            + ' to learn more about interactive tables.';\n",
              "          element.innerHTML = '';\n",
              "          dataTable['output_type'] = 'display_data';\n",
              "          await google.colab.output.renderOutput(dataTable, element);\n",
              "          const docLink = document.createElement('div');\n",
              "          docLink.innerHTML = docLinkHtml;\n",
              "          element.appendChild(docLink);\n",
              "        }\n",
              "      </script>\n",
              "    </div>\n",
              "  </div>\n",
              "  "
            ],
            "text/plain": [
              "                 ID  WebsiteVisits  CompanySize  EmailOpens  EmailClicks\n",
              "count  8.000000e+02     800.000000   800.000000  800.000000   800.000000\n",
              "mean   4.829681e+06      11.088750   104.391250   11.477500     5.251250\n",
              "std    2.948017e+06       6.312344    25.603517    6.238842     3.353309\n",
              "min    5.948000e+03       2.000000    50.000000    2.000000     0.000000\n",
              "25%    2.280152e+06       6.000000    85.000000    6.000000     3.000000\n",
              "50%    4.686133e+06      11.000000   103.000000   11.000000     5.000000\n",
              "75%    7.402104e+06      15.000000   125.000000   16.000000     7.000000\n",
              "max    9.975718e+06      29.000000   149.000000   29.000000    14.000000"
            ]
          },
          "metadata": {},
          "execution_count": 93
        }
      ]
    },
    {
      "cell_type": "code",
      "metadata": {
        "colab": {
          "base_uri": "https://localhost:8080/",
          "height": 0
        },
        "id": "qTqQNLkIY7BY",
        "outputId": "ef17b581-d065-4ac2-9f1b-4c9c1d68b687"
      },
      "source": [
        "sns.pairplot(leads)"
      ],
      "execution_count": 94,
      "outputs": [
        {
          "output_type": "execute_result",
          "data": {
            "text/plain": [
              "<seaborn.axisgrid.PairGrid at 0x7f48d8431c10>"
            ]
          },
          "metadata": {},
          "execution_count": 94
        },
        {
          "output_type": "display_data",
          "data": {
            "image/png": "[encoded data removed]",
            "text/plain": [
              "<Figure size 900x900 with 30 Axes>"
            ]
          },
          "metadata": {
            "needs_background": "light"
          }
        }
      ]
    },
    {
      "cell_type": "code",
      "metadata": {
        "colab": {
          "base_uri": "https://localhost:8080/"
        },
        "id": "rOuUV4XduYwd",
        "outputId": "6df06f17-e5a8-4bb2-b7fb-1ac84f7169c8"
      },
      "source": [
        "#grouping and summarizing data\n",
        "print(leads.groupby(['Customer']).mean())"
      ],
      "execution_count": 95,
      "outputs": [
        {
          "output_type": "stream",
          "name": "stdout",
          "text": [
            "                    ID  WebsiteVisits  CompanySize  EmailOpens  EmailClicks\n",
            "Customer                                                                   \n",
            "No        4.858848e+06       9.136667   113.083333   10.156667     4.156667\n",
            "Yes       4.742178e+06      16.945000    78.315000   15.440000     8.535000\n"
          ]
        }
      ]
    },
    {
      "cell_type": "code",
      "metadata": {
        "colab": {
          "base_uri": "https://localhost:8080/",
          "height": 0
        },
        "id": "XCEImuNzupCb",
        "outputId": "451ff66e-863c-45ff-aa3d-b77f9dbdbd04"
      },
      "source": [
        "#look at difference in customers vs non via boxplots\n",
        "sns.boxplot(x = 'Customer', y = 'EmailOpens', data = leads)"
      ],
      "execution_count": 96,
      "outputs": [
        {
          "output_type": "execute_result",
          "data": {
            "text/plain": [
              "<matplotlib.axes._subplots.AxesSubplot at 0x7f48d796fb50>"
            ]
          },
          "metadata": {},
          "execution_count": 96
        },
        {
          "output_type": "display_data",
          "data": {
            "image/png": "[encoded data removed]",
            "text/plain": [
              "<Figure size 432x288 with 1 Axes>"
            ]
          },
          "metadata": {
            "needs_background": "light"
          }
        }
      ]
    },
    {
      "cell_type": "code",
      "metadata": {
        "colab": {
          "base_uri": "https://localhost:8080/",
          "height": 0
        },
        "id": "oIaAMOP7scrV",
        "outputId": "6ed02e2e-8d23-41b4-8d61-2f6ad208d95c"
      },
      "source": [
        "#scatterplot of emailopens\n",
        "plt.scatter(leads.EmailOpens, leads.Customer,marker='+',color='red')"
      ],
      "execution_count": 97,
      "outputs": [
        {
          "output_type": "execute_result",
          "data": {
            "text/plain": [
              "<matplotlib.collections.PathCollection at 0x7f48d78adb50>"
            ]
          },
          "metadata": {},
          "execution_count": 97
        },
        {
          "output_type": "display_data",
          "data": {
            "image/png": "[encoded data removed]",
            "text/plain": [
              "<Figure size 432x288 with 1 Axes>"
            ]
          },
          "metadata": {
            "needs_background": "light"
          }
        }
      ]
    },
    {
      "cell_type": "code",
      "metadata": {
        "colab": {
          "base_uri": "https://localhost:8080/"
        },
        "id": "Qd4C8RH4im4j",
        "outputId": "bc2e8c44-884e-4f16-d68e-4458607bfb39"
      },
      "source": [
        "leads.groupby([\"State\", \"Customer\"])[\"ID\"].count()"
      ],
      "execution_count": 98,
      "outputs": [
        {
          "output_type": "execute_result",
          "data": {
            "text/plain": [
              "State           Customer\n",
              "Colorado        No          55\n",
              "                Yes          4\n",
              "Connecticut     No          29\n",
              "                Yes         26\n",
              "Delaware        No          23\n",
              "                Yes         32\n",
              "Georgia         No          31\n",
              "                Yes          1\n",
              "Illinois        No          61\n",
              "                Yes          4\n",
              "Indiana         No          12\n",
              "                Yes          5\n",
              "Maryland        No          25\n",
              "                Yes         21\n",
              "Montana         No          80\n",
              "                Yes         13\n",
              "New Jersey      No          20\n",
              "                Yes         27\n",
              "New York        No          18\n",
              "                Yes         11\n",
              "North Carolina  No          56\n",
              "                Yes          9\n",
              "Ohio            No          28\n",
              "                Yes          8\n",
              "Oregon          No          60\n",
              "                Yes          9\n",
              "Pennsylvania    No          27\n",
              "                Yes         17\n",
              "Vermont         No          56\n",
              "                Yes          9\n",
              "Virginia        No          15\n",
              "                Yes          4\n",
              "Wyoming         No           4\n",
              "Name: ID, dtype: int64"
            ]
          },
          "metadata": {},
          "execution_count": 98
        }
      ]
    },
    {
      "cell_type": "code",
      "metadata": {
        "colab": {
          "base_uri": "https://localhost:8080/"
        },
        "id": "NvY4fZFXjo7h",
        "outputId": "a4e72860-413b-4137-8ff3-bf6d9770b7ea"
      },
      "source": [
        "leads.groupby([\"LeadSource\", \"Customer\"])[\"ID\"].count()"
      ],
      "execution_count": 99,
      "outputs": [
        {
          "output_type": "execute_result",
          "data": {
            "text/plain": [
              "LeadSource  Customer\n",
              "Adwords     No           98\n",
              "            Yes          58\n",
              "Print       No          210\n",
              "            Yes          48\n",
              "Tradeshow   No          190\n",
              "            Yes          34\n",
              "Webinar     No          102\n",
              "            Yes          60\n",
              "Name: ID, dtype: int64"
            ]
          },
          "metadata": {},
          "execution_count": 99
        }
      ]
    },
    {
      "cell_type": "code",
      "source": [
        "Yes = [58, 48, 34, 60]\n",
        "No = [98, 210, 190, 102]\n",
        "index = ['Adwords', 'Print', 'Tradeshow', 'Webinar']\n",
        "df = pd.DataFrame({'Yes': Yes,\n",
        "                   'No': No}, index=index)\n",
        "ax = df.plot.bar(rot=0, stacked=False)"
      ],
      "metadata": {
        "colab": {
          "base_uri": "https://localhost:8080/",
          "height": 0
        },
        "id": "zyc-AnMrk-XL",
        "outputId": "88efbe68-1ca4-4cf6-a3b5-99f131d42f54"
      },
      "execution_count": 100,
      "outputs": [
        {
          "output_type": "display_data",
          "data": {
            "image/png": "[encoded data removed]",
            "text/plain": [
              "<Figure size 432x288 with 1 Axes>"
            ]
          },
          "metadata": {
            "needs_background": "light"
          }
        }
      ]
    },
    {
      "cell_type": "code",
      "metadata": {
        "colab": {
          "base_uri": "https://localhost:8080/"
        },
        "id": "TRTZZTciuRIy",
        "outputId": "1c681456-cc3c-4eb6-b68e-069507e6f7ea"
      },
      "source": [
        "#imbalanced class?\n",
        "\n",
        "leads['Customer'].value_counts()"
      ],
      "execution_count": 101,
      "outputs": [
        {
          "output_type": "execute_result",
          "data": {
            "text/plain": [
              "No     600\n",
              "Yes    200\n",
              "Name: Customer, dtype: int64"
            ]
          },
          "metadata": {},
          "execution_count": 101
        }
      ]
    },
    {
      "cell_type": "code",
      "metadata": {
        "colab": {
          "base_uri": "https://localhost:8080/",
          "height": 0
        },
        "id": "cIX4ZS-IGj0V",
        "outputId": "105d8009-b1ba-4509-90fc-e67238f7be97"
      },
      "source": [
        "#hist of variables\n",
        "plt.hist(leads.WebsiteVisits)"
      ],
      "execution_count": 102,
      "outputs": [
        {
          "output_type": "execute_result",
          "data": {
            "text/plain": [
              "(array([126., 145., 125.,  95., 131.,  90.,  19.,  24.,  23.,  22.]),\n",
              " array([ 2. ,  4.7,  7.4, 10.1, 12.8, 15.5, 18.2, 20.9, 23.6, 26.3, 29. ]),\n",
              " <a list of 10 Patch objects>)"
            ]
          },
          "metadata": {},
          "execution_count": 102
        },
        {
          "output_type": "display_data",
          "data": {
            "image/png": "[encoded data removed]",
            "text/plain": [
              "<Figure size 432x288 with 1 Axes>"
            ]
          },
          "metadata": {
            "needs_background": "light"
          }
        }
      ]
    },
    {
      "cell_type": "code",
      "metadata": {
        "colab": {
          "base_uri": "https://localhost:8080/",
          "height": 0
        },
        "id": "YLRrUqcrGpqc",
        "outputId": "8efe6b89-3886-46b3-e711-7c9752bcfc89"
      },
      "source": [
        "#hist of variables\n",
        "sns.distplot(leads['EmailOpens'])\n",
        "plt.show()"
      ],
      "execution_count": 103,
      "outputs": [
        {
          "output_type": "stream",
          "name": "stderr",
          "text": [
            "/usr/local/lib/python3.7/dist-packages/seaborn/distributions.py:2619: FutureWarning: `distplot` is a deprecated function and will be removed in a future version. Please adapt your code to use either `displot` (a figure-level function with similar flexibility) or `histplot` (an axes-level function for histograms).\n",
            "  warnings.warn(msg, FutureWarning)\n"
          ]
        },
        {
          "output_type": "display_data",
          "data": {
            "image/png": "[encoded data removed]",
            "text/plain": [
              "<Figure size 432x288 with 1 Axes>"
            ]
          },
          "metadata": {
            "needs_background": "light"
          }
        }
      ]
    },
    {
      "cell_type": "code",
      "metadata": {
        "colab": {
          "base_uri": "https://localhost:8080/",
          "height": 0
        },
        "id": "a0fMu-ZabDJo",
        "outputId": "1a9cd04d-3fb5-4fc8-8c13-5b5ea09728e4"
      },
      "source": [
        "# Creating a matrix using age, salry, balance as rows and columns\n",
        "#leads[['WebsiteVisits','CompanySize','EmailOpens']].corr()\n",
        "\n",
        "#plot the correlation matrix of salary, balance and age in data dataframe.\n",
        "sns.heatmap(leads[['EmailClicks', 'WebsiteVisits', 'EmailOpens']].corr(), annot=True, cmap = 'Reds')\n",
        "plt.show()"
      ],
      "execution_count": 104,
      "outputs": [
        {
          "output_type": "display_data",
          "data": {
            "image/png": "[encoded data removed]",
            "text/plain": [
              "<Figure size 432x288 with 2 Axes>"
            ]
          },
          "metadata": {
            "needs_background": "light"
          }
        }
      ]
    },
    {
      "cell_type": "markdown",
      "metadata": {
        "id": "f9feCYoVHRlL"
      },
      "source": [
        "# Data Cleanup / Prep / Preprocessing"
      ]
    },
    {
      "cell_type": "code",
      "source": [
        "#ensure no duplicate rows exist\n",
        "duplicateRowsDF = leads[leads.duplicated()]\n",
        "print(\"Duplicate Rows except first occurrence based on all columns are :\")\n",
        "print(duplicateRowsDF)"
      ],
      "metadata": {
        "colab": {
          "base_uri": "https://localhost:8080/"
        },
        "id": "3XHbHtTXFLlF",
        "outputId": "275ad43f-c752-4606-c672-13bccd9e3055"
      },
      "execution_count": 105,
      "outputs": [
        {
          "output_type": "stream",
          "name": "stdout",
          "text": [
            "Duplicate Rows except first occurrence based on all columns are :\n",
            "Empty DataFrame\n",
            "Columns: [ID, State, PhoneNumber, WebsiteVisits, CompanySize, EmailOpens, EmailClicks, LeadSource, Customer]\n",
            "Index: []\n"
          ]
        }
      ]
    },
    {
      "cell_type": "code",
      "metadata": {
        "colab": {
          "base_uri": "https://localhost:8080/"
        },
        "id": "N8XibM2ku191",
        "outputId": "4bde353a-39e7-4570-e7c2-605582e94cb4"
      },
      "source": [
        "#columns with text - like State - are usually objects\n",
        "#int64 and float64 are numeric\n",
        "leads.dtypes"
      ],
      "execution_count": 106,
      "outputs": [
        {
          "output_type": "execute_result",
          "data": {
            "text/plain": [
              "ID                int64\n",
              "State            object\n",
              "PhoneNumber      object\n",
              "WebsiteVisits     int64\n",
              "CompanySize       int64\n",
              "EmailOpens        int64\n",
              "EmailClicks       int64\n",
              "LeadSource       object\n",
              "Customer         object\n",
              "dtype: object"
            ]
          },
          "metadata": {},
          "execution_count": 106
        }
      ]
    },
    {
      "cell_type": "code",
      "source": [
        "#dropping phone number & ID\n",
        "leads= leads.drop(['PhoneNumber', 'ID'], axis=1)\n",
        "leads.head()"
      ],
      "metadata": {
        "colab": {
          "base_uri": "https://localhost:8080/",
          "height": 0
        },
        "id": "_EbHHI23GO1L",
        "outputId": "39864759-04d1-4472-8620-ac84120a4969"
      },
      "execution_count": 107,
      "outputs": [
        {
          "output_type": "execute_result",
          "data": {
            "text/html": [
              "\n",
              "  <div id=\"df-5c02ae1f-1bd2-46b4-9f0e-064425b7c4dc\">\n",
              "    <div class=\"colab-df-container\">\n",
              "      <div>\n",
              "<style scoped>\n",
              "    .dataframe tbody tr th:only-of-type {\n",
              "        vertical-align: middle;\n",
              "    }\n",
              "\n",
              "    .dataframe tbody tr th {\n",
              "        vertical-align: top;\n",
              "    }\n",
              "\n",
              "    .dataframe thead th {\n",
              "        text-align: right;\n",
              "    }\n",
              "</style>\n",
              "<table border=\"1\" class=\"dataframe\">\n",
              "  <thead>\n",
              "    <tr style=\"text-align: right;\">\n",
              "      <th></th>\n",
              "      <th>State</th>\n",
              "      <th>WebsiteVisits</th>\n",
              "      <th>CompanySize</th>\n",
              "      <th>EmailOpens</th>\n",
              "      <th>EmailClicks</th>\n",
              "      <th>LeadSource</th>\n",
              "      <th>Customer</th>\n",
              "    </tr>\n",
              "  </thead>\n",
              "  <tbody>\n",
              "    <tr>\n",
              "      <th>0</th>\n",
              "      <td>Ohio</td>\n",
              "      <td>10</td>\n",
              "      <td>106</td>\n",
              "      <td>14</td>\n",
              "      <td>7</td>\n",
              "      <td>Webinar</td>\n",
              "      <td>No</td>\n",
              "    </tr>\n",
              "    <tr>\n",
              "      <th>1</th>\n",
              "      <td>Colorado</td>\n",
              "      <td>15</td>\n",
              "      <td>51</td>\n",
              "      <td>26</td>\n",
              "      <td>8</td>\n",
              "      <td>Print</td>\n",
              "      <td>Yes</td>\n",
              "    </tr>\n",
              "    <tr>\n",
              "      <th>2</th>\n",
              "      <td>Pennsylvania</td>\n",
              "      <td>14</td>\n",
              "      <td>142</td>\n",
              "      <td>10</td>\n",
              "      <td>9</td>\n",
              "      <td>Adwords</td>\n",
              "      <td>No</td>\n",
              "    </tr>\n",
              "    <tr>\n",
              "      <th>3</th>\n",
              "      <td>Wyoming</td>\n",
              "      <td>6</td>\n",
              "      <td>136</td>\n",
              "      <td>19</td>\n",
              "      <td>4</td>\n",
              "      <td>Print</td>\n",
              "      <td>No</td>\n",
              "    </tr>\n",
              "    <tr>\n",
              "      <th>4</th>\n",
              "      <td>Maryland</td>\n",
              "      <td>5</td>\n",
              "      <td>137</td>\n",
              "      <td>14</td>\n",
              "      <td>6</td>\n",
              "      <td>Print</td>\n",
              "      <td>No</td>\n",
              "    </tr>\n",
              "  </tbody>\n",
              "</table>\n",
              "</div>\n",
              "      <button class=\"colab-df-convert\" onclick=\"convertToInteractive('df-5c02ae1f-1bd2-46b4-9f0e-064425b7c4dc')\"\n",
              "              title=\"Convert this dataframe to an interactive table.\"\n",
              "              style=\"display:none;\">\n",
              "        \n",
              "  <svg xmlns=\"http://www.w3.org/2000/svg\" height=\"24px\"viewBox=\"0 0 24 24\"\n",
              "       width=\"24px\">\n",
              "    <path d=\"M0 0h24v24H0V0z\" fill=\"none\"/>\n",
              "    <path d=\"M18.56 5.44l.94 2.06.94-2.06 2.06-.94-2.06-.94-.94-2.06-.94 2.06-2.06.94zm-11 1L8.5 8.5l.94-2.06 2.06-.94-2.06-.94L8.5 2.5l-.94 2.06-2.06.94zm10 10l.94 2.06.94-2.06 2.06-.94-2.06-.94-.94-2.06-.94 2.06-2.06.94z\"/><path d=\"M17.41 7.96l-1.37-1.37c-.4-.4-.92-.59-1.43-.59-.52 0-1.04.2-1.43.59L10.3 9.45l-7.72 7.72c-.78.78-.78 2.05 0 2.83L4 21.41c.39.39.9.59 1.41.59.51 0 1.02-.2 1.41-.59l7.78-7.78 2.81-2.81c.8-.78.8-2.07 0-2.86zM5.41 20L4 18.59l7.72-7.72 1.47 1.35L5.41 20z\"/>\n",
              "  </svg>\n",
              "      </button>\n",
              "      \n",
              "  <style>\n",
              "    .colab-df-container {\n",
              "      display:flex;\n",
              "      flex-wrap:wrap;\n",
              "      gap: 12px;\n",
              "    }\n",
              "\n",
              "    .colab-df-convert {\n",
              "      background-color: #E8F0FE;\n",
              "      border: none;\n",
              "      border-radius: 50%;\n",
              "      cursor: pointer;\n",
              "      display: none;\n",
              "      fill: #1967D2;\n",
              "      height: 32px;\n",
              "      padding: 0 0 0 0;\n",
              "      width: 32px;\n",
              "    }\n",
              "\n",
              "    .colab-df-convert:hover {\n",
              "      background-color: #E2EBFA;\n",
              "      box-shadow: 0px 1px 2px rgba(60, 64, 67, 0.3), 0px 1px 3px 1px rgba(60, 64, 67, 0.15);\n",
              "      fill: #174EA6;\n",
              "    }\n",
              "\n",
              "    [theme=dark] .colab-df-convert {\n",
              "      background-color: #3B4455;\n",
              "      fill: #D2E3FC;\n",
              "    }\n",
              "\n",
              "    [theme=dark] .colab-df-convert:hover {\n",
              "      background-color: #434B5C;\n",
              "      box-shadow: 0px 1px 3px 1px rgba(0, 0, 0, 0.15);\n",
              "      filter: drop-shadow(0px 1px 2px rgba(0, 0, 0, 0.3));\n",
              "      fill: #FFFFFF;\n",
              "    }\n",
              "  </style>\n",
              "\n",
              "      <script>\n",
              "        const buttonEl =\n",
              "          document.querySelector('#df-5c02ae1f-1bd2-46b4-9f0e-064425b7c4dc button.colab-df-convert');\n",
              "        buttonEl.style.display =\n",
              "          google.colab.kernel.accessAllowed ? 'block' : 'none';\n",
              "\n",
              "        async function convertToInteractive(key) {\n",
              "          const element = document.querySelector('#df-5c02ae1f-1bd2-46b4-9f0e-064425b7c4dc');\n",
              "          const dataTable =\n",
              "            await google.colab.kernel.invokeFunction('convertToInteractive',\n",
              "                                                     [key], {});\n",
              "          if (!dataTable) return;\n",
              "\n",
              "          const docLinkHtml = 'Like what you see? Visit the ' +\n",
              "            '<a target=\"_blank\" href=https://colab.research.google.com/notebooks/data_table.ipynb>data table notebook</a>'\n",
              "            + ' to learn more about interactive tables.';\n",
              "          element.innerHTML = '';\n",
              "          dataTable['output_type'] = 'display_data';\n",
              "          await google.colab.output.renderOutput(dataTable, element);\n",
              "          const docLink = document.createElement('div');\n",
              "          docLink.innerHTML = docLinkHtml;\n",
              "          element.appendChild(docLink);\n",
              "        }\n",
              "      </script>\n",
              "    </div>\n",
              "  </div>\n",
              "  "
            ],
            "text/plain": [
              "          State  WebsiteVisits  CompanySize  ...  EmailClicks  LeadSource Customer\n",
              "0          Ohio             10          106  ...            7     Webinar       No\n",
              "1      Colorado             15           51  ...            8       Print      Yes\n",
              "2  Pennsylvania             14          142  ...            9     Adwords       No\n",
              "3       Wyoming              6          136  ...            4       Print       No\n",
              "4      Maryland              5          137  ...            6       Print       No\n",
              "\n",
              "[5 rows x 7 columns]"
            ]
          },
          "metadata": {},
          "execution_count": 107
        }
      ]
    },
    {
      "cell_type": "code",
      "source": [
        "#creating new column - EmailScore\n",
        "leads['EmailScore'] = leads.loc[:,['EmailClicks','EmailOpens']].sum(axis=1)\n",
        "leads= leads.drop('EmailOpens', axis=1)\n",
        "leads= leads.drop('EmailClicks', axis=1)"
      ],
      "metadata": {
        "id": "HIXhcL0WIUHg"
      },
      "execution_count": 108,
      "outputs": []
    },
    {
      "cell_type": "code",
      "source": [
        "#reordering columns\n",
        "column_names = [\"State\", \"CompanySize\", \"WebsiteVisits\", \"EmailScore\", \"LeadSource\", \"Customer\"]\n",
        "leads = leads.reindex(columns=column_names)\n",
        "leads.head()"
      ],
      "metadata": {
        "colab": {
          "base_uri": "https://localhost:8080/",
          "height": 0
        },
        "id": "gWI1kQfbLOoM",
        "outputId": "9a74689a-0743-4b54-ac79-c31d2ddc77eb"
      },
      "execution_count": 109,
      "outputs": [
        {
          "output_type": "execute_result",
          "data": {
            "text/html": [
              "\n",
              "  <div id=\"df-b692b8e1-b50f-428e-b848-5116ca84af3e\">\n",
              "    <div class=\"colab-df-container\">\n",
              "      <div>\n",
              "<style scoped>\n",
              "    .dataframe tbody tr th:only-of-type {\n",
              "        vertical-align: middle;\n",
              "    }\n",
              "\n",
              "    .dataframe tbody tr th {\n",
              "        vertical-align: top;\n",
              "    }\n",
              "\n",
              "    .dataframe thead th {\n",
              "        text-align: right;\n",
              "    }\n",
              "</style>\n",
              "<table border=\"1\" class=\"dataframe\">\n",
              "  <thead>\n",
              "    <tr style=\"text-align: right;\">\n",
              "      <th></th>\n",
              "      <th>State</th>\n",
              "      <th>CompanySize</th>\n",
              "      <th>WebsiteVisits</th>\n",
              "      <th>EmailScore</th>\n",
              "      <th>LeadSource</th>\n",
              "      <th>Customer</th>\n",
              "    </tr>\n",
              "  </thead>\n",
              "  <tbody>\n",
              "    <tr>\n",
              "      <th>0</th>\n",
              "      <td>Ohio</td>\n",
              "      <td>106</td>\n",
              "      <td>10</td>\n",
              "      <td>21</td>\n",
              "      <td>Webinar</td>\n",
              "      <td>No</td>\n",
              "    </tr>\n",
              "    <tr>\n",
              "      <th>1</th>\n",
              "      <td>Colorado</td>\n",
              "      <td>51</td>\n",
              "      <td>15</td>\n",
              "      <td>34</td>\n",
              "      <td>Print</td>\n",
              "      <td>Yes</td>\n",
              "    </tr>\n",
              "    <tr>\n",
              "      <th>2</th>\n",
              "      <td>Pennsylvania</td>\n",
              "      <td>142</td>\n",
              "      <td>14</td>\n",
              "      <td>19</td>\n",
              "      <td>Adwords</td>\n",
              "      <td>No</td>\n",
              "    </tr>\n",
              "    <tr>\n",
              "      <th>3</th>\n",
              "      <td>Wyoming</td>\n",
              "      <td>136</td>\n",
              "      <td>6</td>\n",
              "      <td>23</td>\n",
              "      <td>Print</td>\n",
              "      <td>No</td>\n",
              "    </tr>\n",
              "    <tr>\n",
              "      <th>4</th>\n",
              "      <td>Maryland</td>\n",
              "      <td>137</td>\n",
              "      <td>5</td>\n",
              "      <td>20</td>\n",
              "      <td>Print</td>\n",
              "      <td>No</td>\n",
              "    </tr>\n",
              "  </tbody>\n",
              "</table>\n",
              "</div>\n",
              "      <button class=\"colab-df-convert\" onclick=\"convertToInteractive('df-b692b8e1-b50f-428e-b848-5116ca84af3e')\"\n",
              "              title=\"Convert this dataframe to an interactive table.\"\n",
              "              style=\"display:none;\">\n",
              "        \n",
              "  <svg xmlns=\"http://www.w3.org/2000/svg\" height=\"24px\"viewBox=\"0 0 24 24\"\n",
              "       width=\"24px\">\n",
              "    <path d=\"M0 0h24v24H0V0z\" fill=\"none\"/>\n",
              "    <path d=\"M18.56 5.44l.94 2.06.94-2.06 2.06-.94-2.06-.94-.94-2.06-.94 2.06-2.06.94zm-11 1L8.5 8.5l.94-2.06 2.06-.94-2.06-.94L8.5 2.5l-.94 2.06-2.06.94zm10 10l.94 2.06.94-2.06 2.06-.94-2.06-.94-.94-2.06-.94 2.06-2.06.94z\"/><path d=\"M17.41 7.96l-1.37-1.37c-.4-.4-.92-.59-1.43-.59-.52 0-1.04.2-1.43.59L10.3 9.45l-7.72 7.72c-.78.78-.78 2.05 0 2.83L4 21.41c.39.39.9.59 1.41.59.51 0 1.02-.2 1.41-.59l7.78-7.78 2.81-2.81c.8-.78.8-2.07 0-2.86zM5.41 20L4 18.59l7.72-7.72 1.47 1.35L5.41 20z\"/>\n",
              "  </svg>\n",
              "      </button>\n",
              "      \n",
              "  <style>\n",
              "    .colab-df-container {\n",
              "      display:flex;\n",
              "      flex-wrap:wrap;\n",
              "      gap: 12px;\n",
              "    }\n",
              "\n",
              "    .colab-df-convert {\n",
              "      background-color: #E8F0FE;\n",
              "      border: none;\n",
              "      border-radius: 50%;\n",
              "      cursor: pointer;\n",
              "      display: none;\n",
              "      fill: #1967D2;\n",
              "      height: 32px;\n",
              "      padding: 0 0 0 0;\n",
              "      width: 32px;\n",
              "    }\n",
              "\n",
              "    .colab-df-convert:hover {\n",
              "      background-color: #E2EBFA;\n",
              "      box-shadow: 0px 1px 2px rgba(60, 64, 67, 0.3), 0px 1px 3px 1px rgba(60, 64, 67, 0.15);\n",
              "      fill: #174EA6;\n",
              "    }\n",
              "\n",
              "    [theme=dark] .colab-df-convert {\n",
              "      background-color: #3B4455;\n",
              "      fill: #D2E3FC;\n",
              "    }\n",
              "\n",
              "    [theme=dark] .colab-df-convert:hover {\n",
              "      background-color: #434B5C;\n",
              "      box-shadow: 0px 1px 3px 1px rgba(0, 0, 0, 0.15);\n",
              "      filter: drop-shadow(0px 1px 2px rgba(0, 0, 0, 0.3));\n",
              "      fill: #FFFFFF;\n",
              "    }\n",
              "  </style>\n",
              "\n",
              "      <script>\n",
              "        const buttonEl =\n",
              "          document.querySelector('#df-b692b8e1-b50f-428e-b848-5116ca84af3e button.colab-df-convert');\n",
              "        buttonEl.style.display =\n",
              "          google.colab.kernel.accessAllowed ? 'block' : 'none';\n",
              "\n",
              "        async function convertToInteractive(key) {\n",
              "          const element = document.querySelector('#df-b692b8e1-b50f-428e-b848-5116ca84af3e');\n",
              "          const dataTable =\n",
              "            await google.colab.kernel.invokeFunction('convertToInteractive',\n",
              "                                                     [key], {});\n",
              "          if (!dataTable) return;\n",
              "\n",
              "          const docLinkHtml = 'Like what you see? Visit the ' +\n",
              "            '<a target=\"_blank\" href=https://colab.research.google.com/notebooks/data_table.ipynb>data table notebook</a>'\n",
              "            + ' to learn more about interactive tables.';\n",
              "          element.innerHTML = '';\n",
              "          dataTable['output_type'] = 'display_data';\n",
              "          await google.colab.output.renderOutput(dataTable, element);\n",
              "          const docLink = document.createElement('div');\n",
              "          docLink.innerHTML = docLinkHtml;\n",
              "          element.appendChild(docLink);\n",
              "        }\n",
              "      </script>\n",
              "    </div>\n",
              "  </div>\n",
              "  "
            ],
            "text/plain": [
              "          State  CompanySize  WebsiteVisits  EmailScore LeadSource Customer\n",
              "0          Ohio          106             10          21    Webinar       No\n",
              "1      Colorado           51             15          34      Print      Yes\n",
              "2  Pennsylvania          142             14          19    Adwords       No\n",
              "3       Wyoming          136              6          23      Print       No\n",
              "4      Maryland          137              5          20      Print       No"
            ]
          },
          "metadata": {},
          "execution_count": 109
        }
      ]
    },
    {
      "cell_type": "code",
      "source": [
        "#one hot encoding for leadsource\n",
        "leadsource_dummies = pd.get_dummies(leads['LeadSource'])\n",
        "leadsource_dummies.head()"
      ],
      "metadata": {
        "colab": {
          "base_uri": "https://localhost:8080/",
          "height": 0
        },
        "id": "mMEWY9hamPWg",
        "outputId": "ae2a461f-d989-4676-8b7d-8f64d2636aa1"
      },
      "execution_count": 110,
      "outputs": [
        {
          "output_type": "execute_result",
          "data": {
            "text/html": [
              "\n",
              "  <div id=\"df-7285ecb8-d894-459d-8ba6-0a550e067596\">\n",
              "    <div class=\"colab-df-container\">\n",
              "      <div>\n",
              "<style scoped>\n",
              "    .dataframe tbody tr th:only-of-type {\n",
              "        vertical-align: middle;\n",
              "    }\n",
              "\n",
              "    .dataframe tbody tr th {\n",
              "        vertical-align: top;\n",
              "    }\n",
              "\n",
              "    .dataframe thead th {\n",
              "        text-align: right;\n",
              "    }\n",
              "</style>\n",
              "<table border=\"1\" class=\"dataframe\">\n",
              "  <thead>\n",
              "    <tr style=\"text-align: right;\">\n",
              "      <th></th>\n",
              "      <th>Adwords</th>\n",
              "      <th>Print</th>\n",
              "      <th>Tradeshow</th>\n",
              "      <th>Webinar</th>\n",
              "    </tr>\n",
              "  </thead>\n",
              "  <tbody>\n",
              "    <tr>\n",
              "      <th>0</th>\n",
              "      <td>0</td>\n",
              "      <td>0</td>\n",
              "      <td>0</td>\n",
              "      <td>1</td>\n",
              "    </tr>\n",
              "    <tr>\n",
              "      <th>1</th>\n",
              "      <td>0</td>\n",
              "      <td>1</td>\n",
              "      <td>0</td>\n",
              "      <td>0</td>\n",
              "    </tr>\n",
              "    <tr>\n",
              "      <th>2</th>\n",
              "      <td>1</td>\n",
              "      <td>0</td>\n",
              "      <td>0</td>\n",
              "      <td>0</td>\n",
              "    </tr>\n",
              "    <tr>\n",
              "      <th>3</th>\n",
              "      <td>0</td>\n",
              "      <td>1</td>\n",
              "      <td>0</td>\n",
              "      <td>0</td>\n",
              "    </tr>\n",
              "    <tr>\n",
              "      <th>4</th>\n",
              "      <td>0</td>\n",
              "      <td>1</td>\n",
              "      <td>0</td>\n",
              "      <td>0</td>\n",
              "    </tr>\n",
              "  </tbody>\n",
              "</table>\n",
              "</div>\n",
              "      <button class=\"colab-df-convert\" onclick=\"convertToInteractive('df-7285ecb8-d894-459d-8ba6-0a550e067596')\"\n",
              "              title=\"Convert this dataframe to an interactive table.\"\n",
              "              style=\"display:none;\">\n",
              "        \n",
              "  <svg xmlns=\"http://www.w3.org/2000/svg\" height=\"24px\"viewBox=\"0 0 24 24\"\n",
              "       width=\"24px\">\n",
              "    <path d=\"M0 0h24v24H0V0z\" fill=\"none\"/>\n",
              "    <path d=\"M18.56 5.44l.94 2.06.94-2.06 2.06-.94-2.06-.94-.94-2.06-.94 2.06-2.06.94zm-11 1L8.5 8.5l.94-2.06 2.06-.94-2.06-.94L8.5 2.5l-.94 2.06-2.06.94zm10 10l.94 2.06.94-2.06 2.06-.94-2.06-.94-.94-2.06-.94 2.06-2.06.94z\"/><path d=\"M17.41 7.96l-1.37-1.37c-.4-.4-.92-.59-1.43-.59-.52 0-1.04.2-1.43.59L10.3 9.45l-7.72 7.72c-.78.78-.78 2.05 0 2.83L4 21.41c.39.39.9.59 1.41.59.51 0 1.02-.2 1.41-.59l7.78-7.78 2.81-2.81c.8-.78.8-2.07 0-2.86zM5.41 20L4 18.59l7.72-7.72 1.47 1.35L5.41 20z\"/>\n",
              "  </svg>\n",
              "      </button>\n",
              "      \n",
              "  <style>\n",
              "    .colab-df-container {\n",
              "      display:flex;\n",
              "      flex-wrap:wrap;\n",
              "      gap: 12px;\n",
              "    }\n",
              "\n",
              "    .colab-df-convert {\n",
              "      background-color: #E8F0FE;\n",
              "      border: none;\n",
              "      border-radius: 50%;\n",
              "      cursor: pointer;\n",
              "      display: none;\n",
              "      fill: #1967D2;\n",
              "      height: 32px;\n",
              "      padding: 0 0 0 0;\n",
              "      width: 32px;\n",
              "    }\n",
              "\n",
              "    .colab-df-convert:hover {\n",
              "      background-color: #E2EBFA;\n",
              "      box-shadow: 0px 1px 2px rgba(60, 64, 67, 0.3), 0px 1px 3px 1px rgba(60, 64, 67, 0.15);\n",
              "      fill: #174EA6;\n",
              "    }\n",
              "\n",
              "    [theme=dark] .colab-df-convert {\n",
              "      background-color: #3B4455;\n",
              "      fill: #D2E3FC;\n",
              "    }\n",
              "\n",
              "    [theme=dark] .colab-df-convert:hover {\n",
              "      background-color: #434B5C;\n",
              "      box-shadow: 0px 1px 3px 1px rgba(0, 0, 0, 0.15);\n",
              "      filter: drop-shadow(0px 1px 2px rgba(0, 0, 0, 0.3));\n",
              "      fill: #FFFFFF;\n",
              "    }\n",
              "  </style>\n",
              "\n",
              "      <script>\n",
              "        const buttonEl =\n",
              "          document.querySelector('#df-7285ecb8-d894-459d-8ba6-0a550e067596 button.colab-df-convert');\n",
              "        buttonEl.style.display =\n",
              "          google.colab.kernel.accessAllowed ? 'block' : 'none';\n",
              "\n",
              "        async function convertToInteractive(key) {\n",
              "          const element = document.querySelector('#df-7285ecb8-d894-459d-8ba6-0a550e067596');\n",
              "          const dataTable =\n",
              "            await google.colab.kernel.invokeFunction('convertToInteractive',\n",
              "                                                     [key], {});\n",
              "          if (!dataTable) return;\n",
              "\n",
              "          const docLinkHtml = 'Like what you see? Visit the ' +\n",
              "            '<a target=\"_blank\" href=https://colab.research.google.com/notebooks/data_table.ipynb>data table notebook</a>'\n",
              "            + ' to learn more about interactive tables.';\n",
              "          element.innerHTML = '';\n",
              "          dataTable['output_type'] = 'display_data';\n",
              "          await google.colab.output.renderOutput(dataTable, element);\n",
              "          const docLink = document.createElement('div');\n",
              "          docLink.innerHTML = docLinkHtml;\n",
              "          element.appendChild(docLink);\n",
              "        }\n",
              "      </script>\n",
              "    </div>\n",
              "  </div>\n",
              "  "
            ],
            "text/plain": [
              "   Adwords  Print  Tradeshow  Webinar\n",
              "0        0      0          0        1\n",
              "1        0      1          0        0\n",
              "2        1      0          0        0\n",
              "3        0      1          0        0\n",
              "4        0      1          0        0"
            ]
          },
          "metadata": {},
          "execution_count": 110
        }
      ]
    },
    {
      "cell_type": "code",
      "source": [
        "#concatenate the new dummies to original dataset and drop original leadsource\n",
        "leads = pd.concat([leads, leadsource_dummies], axis=1)\n",
        "leads.drop('LeadSource',axis=1,inplace=True)\n",
        "leads.head()"
      ],
      "metadata": {
        "colab": {
          "base_uri": "https://localhost:8080/",
          "height": 0
        },
        "id": "jGIzq4s1nOPW",
        "outputId": "4fa04358-45b2-4977-fc9f-94634161eae5"
      },
      "execution_count": 111,
      "outputs": [
        {
          "output_type": "execute_result",
          "data": {
            "text/html": [
              "\n",
              "  <div id=\"df-b27adadd-bade-4e92-93c0-ba48726c520f\">\n",
              "    <div class=\"colab-df-container\">\n",
              "      <div>\n",
              "<style scoped>\n",
              "    .dataframe tbody tr th:only-of-type {\n",
              "        vertical-align: middle;\n",
              "    }\n",
              "\n",
              "    .dataframe tbody tr th {\n",
              "        vertical-align: top;\n",
              "    }\n",
              "\n",
              "    .dataframe thead th {\n",
              "        text-align: right;\n",
              "    }\n",
              "</style>\n",
              "<table border=\"1\" class=\"dataframe\">\n",
              "  <thead>\n",
              "    <tr style=\"text-align: right;\">\n",
              "      <th></th>\n",
              "      <th>State</th>\n",
              "      <th>CompanySize</th>\n",
              "      <th>WebsiteVisits</th>\n",
              "      <th>EmailScore</th>\n",
              "      <th>Customer</th>\n",
              "      <th>Adwords</th>\n",
              "      <th>Print</th>\n",
              "      <th>Tradeshow</th>\n",
              "      <th>Webinar</th>\n",
              "    </tr>\n",
              "  </thead>\n",
              "  <tbody>\n",
              "    <tr>\n",
              "      <th>0</th>\n",
              "      <td>Ohio</td>\n",
              "      <td>106</td>\n",
              "      <td>10</td>\n",
              "      <td>21</td>\n",
              "      <td>No</td>\n",
              "      <td>0</td>\n",
              "      <td>0</td>\n",
              "      <td>0</td>\n",
              "      <td>1</td>\n",
              "    </tr>\n",
              "    <tr>\n",
              "      <th>1</th>\n",
              "      <td>Colorado</td>\n",
              "      <td>51</td>\n",
              "      <td>15</td>\n",
              "      <td>34</td>\n",
              "      <td>Yes</td>\n",
              "      <td>0</td>\n",
              "      <td>1</td>\n",
              "      <td>0</td>\n",
              "      <td>0</td>\n",
              "    </tr>\n",
              "    <tr>\n",
              "      <th>2</th>\n",
              "      <td>Pennsylvania</td>\n",
              "      <td>142</td>\n",
              "      <td>14</td>\n",
              "      <td>19</td>\n",
              "      <td>No</td>\n",
              "      <td>1</td>\n",
              "      <td>0</td>\n",
              "      <td>0</td>\n",
              "      <td>0</td>\n",
              "    </tr>\n",
              "    <tr>\n",
              "      <th>3</th>\n",
              "      <td>Wyoming</td>\n",
              "      <td>136</td>\n",
              "      <td>6</td>\n",
              "      <td>23</td>\n",
              "      <td>No</td>\n",
              "      <td>0</td>\n",
              "      <td>1</td>\n",
              "      <td>0</td>\n",
              "      <td>0</td>\n",
              "    </tr>\n",
              "    <tr>\n",
              "      <th>4</th>\n",
              "      <td>Maryland</td>\n",
              "      <td>137</td>\n",
              "      <td>5</td>\n",
              "      <td>20</td>\n",
              "      <td>No</td>\n",
              "      <td>0</td>\n",
              "      <td>1</td>\n",
              "      <td>0</td>\n",
              "      <td>0</td>\n",
              "    </tr>\n",
              "  </tbody>\n",
              "</table>\n",
              "</div>\n",
              "      <button class=\"colab-df-convert\" onclick=\"convertToInteractive('df-b27adadd-bade-4e92-93c0-ba48726c520f')\"\n",
              "              title=\"Convert this dataframe to an interactive table.\"\n",
              "              style=\"display:none;\">\n",
              "        \n",
              "  <svg xmlns=\"http://www.w3.org/2000/svg\" height=\"24px\"viewBox=\"0 0 24 24\"\n",
              "       width=\"24px\">\n",
              "    <path d=\"M0 0h24v24H0V0z\" fill=\"none\"/>\n",
              "    <path d=\"M18.56 5.44l.94 2.06.94-2.06 2.06-.94-2.06-.94-.94-2.06-.94 2.06-2.06.94zm-11 1L8.5 8.5l.94-2.06 2.06-.94-2.06-.94L8.5 2.5l-.94 2.06-2.06.94zm10 10l.94 2.06.94-2.06 2.06-.94-2.06-.94-.94-2.06-.94 2.06-2.06.94z\"/><path d=\"M17.41 7.96l-1.37-1.37c-.4-.4-.92-.59-1.43-.59-.52 0-1.04.2-1.43.59L10.3 9.45l-7.72 7.72c-.78.78-.78 2.05 0 2.83L4 21.41c.39.39.9.59 1.41.59.51 0 1.02-.2 1.41-.59l7.78-7.78 2.81-2.81c.8-.78.8-2.07 0-2.86zM5.41 20L4 18.59l7.72-7.72 1.47 1.35L5.41 20z\"/>\n",
              "  </svg>\n",
              "      </button>\n",
              "      \n",
              "  <style>\n",
              "    .colab-df-container {\n",
              "      display:flex;\n",
              "      flex-wrap:wrap;\n",
              "      gap: 12px;\n",
              "    }\n",
              "\n",
              "    .colab-df-convert {\n",
              "      background-color: #E8F0FE;\n",
              "      border: none;\n",
              "      border-radius: 50%;\n",
              "      cursor: pointer;\n",
              "      display: none;\n",
              "      fill: #1967D2;\n",
              "      height: 32px;\n",
              "      padding: 0 0 0 0;\n",
              "      width: 32px;\n",
              "    }\n",
              "\n",
              "    .colab-df-convert:hover {\n",
              "      background-color: #E2EBFA;\n",
              "      box-shadow: 0px 1px 2px rgba(60, 64, 67, 0.3), 0px 1px 3px 1px rgba(60, 64, 67, 0.15);\n",
              "      fill: #174EA6;\n",
              "    }\n",
              "\n",
              "    [theme=dark] .colab-df-convert {\n",
              "      background-color: #3B4455;\n",
              "      fill: #D2E3FC;\n",
              "    }\n",
              "\n",
              "    [theme=dark] .colab-df-convert:hover {\n",
              "      background-color: #434B5C;\n",
              "      box-shadow: 0px 1px 3px 1px rgba(0, 0, 0, 0.15);\n",
              "      filter: drop-shadow(0px 1px 2px rgba(0, 0, 0, 0.3));\n",
              "      fill: #FFFFFF;\n",
              "    }\n",
              "  </style>\n",
              "\n",
              "      <script>\n",
              "        const buttonEl =\n",
              "          document.querySelector('#df-b27adadd-bade-4e92-93c0-ba48726c520f button.colab-df-convert');\n",
              "        buttonEl.style.display =\n",
              "          google.colab.kernel.accessAllowed ? 'block' : 'none';\n",
              "\n",
              "        async function convertToInteractive(key) {\n",
              "          const element = document.querySelector('#df-b27adadd-bade-4e92-93c0-ba48726c520f');\n",
              "          const dataTable =\n",
              "            await google.colab.kernel.invokeFunction('convertToInteractive',\n",
              "                                                     [key], {});\n",
              "          if (!dataTable) return;\n",
              "\n",
              "          const docLinkHtml = 'Like what you see? Visit the ' +\n",
              "            '<a target=\"_blank\" href=https://colab.research.google.com/notebooks/data_table.ipynb>data table notebook</a>'\n",
              "            + ' to learn more about interactive tables.';\n",
              "          element.innerHTML = '';\n",
              "          dataTable['output_type'] = 'display_data';\n",
              "          await google.colab.output.renderOutput(dataTable, element);\n",
              "          const docLink = document.createElement('div');\n",
              "          docLink.innerHTML = docLinkHtml;\n",
              "          element.appendChild(docLink);\n",
              "        }\n",
              "      </script>\n",
              "    </div>\n",
              "  </div>\n",
              "  "
            ],
            "text/plain": [
              "          State  CompanySize  WebsiteVisits  ...  Print Tradeshow  Webinar\n",
              "0          Ohio          106             10  ...      0         0        1\n",
              "1      Colorado           51             15  ...      1         0        0\n",
              "2  Pennsylvania          142             14  ...      0         0        0\n",
              "3       Wyoming          136              6  ...      1         0        0\n",
              "4      Maryland          137              5  ...      1         0        0\n",
              "\n",
              "[5 rows x 9 columns]"
            ]
          },
          "metadata": {},
          "execution_count": 111
        }
      ]
    },
    {
      "cell_type": "code",
      "metadata": {
        "id": "OAW6iHWDvCX1",
        "colab": {
          "base_uri": "https://localhost:8080/",
          "height": 0
        },
        "outputId": "23ef5f47-0829-474e-e322-0f5c70dd01cf"
      },
      "source": [
        "# Perform one hot encoding on 'State'\n",
        "state_dummies = pd.get_dummies(leads['State'])\n",
        "state_dummies.head()"
      ],
      "execution_count": 112,
      "outputs": [
        {
          "output_type": "execute_result",
          "data": {
            "text/html": [
              "\n",
              "  <div id=\"df-0e069f77-fe43-4dad-be1a-dfbf99d608ea\">\n",
              "    <div class=\"colab-df-container\">\n",
              "      <div>\n",
              "<style scoped>\n",
              "    .dataframe tbody tr th:only-of-type {\n",
              "        vertical-align: middle;\n",
              "    }\n",
              "\n",
              "    .dataframe tbody tr th {\n",
              "        vertical-align: top;\n",
              "    }\n",
              "\n",
              "    .dataframe thead th {\n",
              "        text-align: right;\n",
              "    }\n",
              "</style>\n",
              "<table border=\"1\" class=\"dataframe\">\n",
              "  <thead>\n",
              "    <tr style=\"text-align: right;\">\n",
              "      <th></th>\n",
              "      <th>Colorado</th>\n",
              "      <th>Connecticut</th>\n",
              "      <th>Delaware</th>\n",
              "      <th>Georgia</th>\n",
              "      <th>Illinois</th>\n",
              "      <th>Indiana</th>\n",
              "      <th>Maryland</th>\n",
              "      <th>Montana</th>\n",
              "      <th>New Jersey</th>\n",
              "      <th>New York</th>\n",
              "      <th>North Carolina</th>\n",
              "      <th>Ohio</th>\n",
              "      <th>Oregon</th>\n",
              "      <th>Pennsylvania</th>\n",
              "      <th>Vermont</th>\n",
              "      <th>Virginia</th>\n",
              "      <th>Wyoming</th>\n",
              "    </tr>\n",
              "  </thead>\n",
              "  <tbody>\n",
              "    <tr>\n",
              "      <th>0</th>\n",
              "      <td>0</td>\n",
              "      <td>0</td>\n",
              "      <td>0</td>\n",
              "      <td>0</td>\n",
              "      <td>0</td>\n",
              "      <td>0</td>\n",
              "      <td>0</td>\n",
              "      <td>0</td>\n",
              "      <td>0</td>\n",
              "      <td>0</td>\n",
              "      <td>0</td>\n",
              "      <td>1</td>\n",
              "      <td>0</td>\n",
              "      <td>0</td>\n",
              "      <td>0</td>\n",
              "      <td>0</td>\n",
              "      <td>0</td>\n",
              "    </tr>\n",
              "    <tr>\n",
              "      <th>1</th>\n",
              "      <td>1</td>\n",
              "      <td>0</td>\n",
              "      <td>0</td>\n",
              "      <td>0</td>\n",
              "      <td>0</td>\n",
              "      <td>0</td>\n",
              "      <td>0</td>\n",
              "      <td>0</td>\n",
              "      <td>0</td>\n",
              "      <td>0</td>\n",
              "      <td>0</td>\n",
              "      <td>0</td>\n",
              "      <td>0</td>\n",
              "      <td>0</td>\n",
              "      <td>0</td>\n",
              "      <td>0</td>\n",
              "      <td>0</td>\n",
              "    </tr>\n",
              "    <tr>\n",
              "      <th>2</th>\n",
              "      <td>0</td>\n",
              "      <td>0</td>\n",
              "      <td>0</td>\n",
              "      <td>0</td>\n",
              "      <td>0</td>\n",
              "      <td>0</td>\n",
              "      <td>0</td>\n",
              "      <td>0</td>\n",
              "      <td>0</td>\n",
              "      <td>0</td>\n",
              "      <td>0</td>\n",
              "      <td>0</td>\n",
              "      <td>0</td>\n",
              "      <td>1</td>\n",
              "      <td>0</td>\n",
              "      <td>0</td>\n",
              "      <td>0</td>\n",
              "    </tr>\n",
              "    <tr>\n",
              "      <th>3</th>\n",
              "      <td>0</td>\n",
              "      <td>0</td>\n",
              "      <td>0</td>\n",
              "      <td>0</td>\n",
              "      <td>0</td>\n",
              "      <td>0</td>\n",
              "      <td>0</td>\n",
              "      <td>0</td>\n",
              "      <td>0</td>\n",
              "      <td>0</td>\n",
              "      <td>0</td>\n",
              "      <td>0</td>\n",
              "      <td>0</td>\n",
              "      <td>0</td>\n",
              "      <td>0</td>\n",
              "      <td>0</td>\n",
              "      <td>1</td>\n",
              "    </tr>\n",
              "    <tr>\n",
              "      <th>4</th>\n",
              "      <td>0</td>\n",
              "      <td>0</td>\n",
              "      <td>0</td>\n",
              "      <td>0</td>\n",
              "      <td>0</td>\n",
              "      <td>0</td>\n",
              "      <td>1</td>\n",
              "      <td>0</td>\n",
              "      <td>0</td>\n",
              "      <td>0</td>\n",
              "      <td>0</td>\n",
              "      <td>0</td>\n",
              "      <td>0</td>\n",
              "      <td>0</td>\n",
              "      <td>0</td>\n",
              "      <td>0</td>\n",
              "      <td>0</td>\n",
              "    </tr>\n",
              "  </tbody>\n",
              "</table>\n",
              "</div>\n",
              "      <button class=\"colab-df-convert\" onclick=\"convertToInteractive('df-0e069f77-fe43-4dad-be1a-dfbf99d608ea')\"\n",
              "              title=\"Convert this dataframe to an interactive table.\"\n",
              "              style=\"display:none;\">\n",
              "        \n",
              "  <svg xmlns=\"http://www.w3.org/2000/svg\" height=\"24px\"viewBox=\"0 0 24 24\"\n",
              "       width=\"24px\">\n",
              "    <path d=\"M0 0h24v24H0V0z\" fill=\"none\"/>\n",
              "    <path d=\"M18.56 5.44l.94 2.06.94-2.06 2.06-.94-2.06-.94-.94-2.06-.94 2.06-2.06.94zm-11 1L8.5 8.5l.94-2.06 2.06-.94-2.06-.94L8.5 2.5l-.94 2.06-2.06.94zm10 10l.94 2.06.94-2.06 2.06-.94-2.06-.94-.94-2.06-.94 2.06-2.06.94z\"/><path d=\"M17.41 7.96l-1.37-1.37c-.4-.4-.92-.59-1.43-.59-.52 0-1.04.2-1.43.59L10.3 9.45l-7.72 7.72c-.78.78-.78 2.05 0 2.83L4 21.41c.39.39.9.59 1.41.59.51 0 1.02-.2 1.41-.59l7.78-7.78 2.81-2.81c.8-.78.8-2.07 0-2.86zM5.41 20L4 18.59l7.72-7.72 1.47 1.35L5.41 20z\"/>\n",
              "  </svg>\n",
              "      </button>\n",
              "      \n",
              "  <style>\n",
              "    .colab-df-container {\n",
              "      display:flex;\n",
              "      flex-wrap:wrap;\n",
              "      gap: 12px;\n",
              "    }\n",
              "\n",
              "    .colab-df-convert {\n",
              "      background-color: #E8F0FE;\n",
              "      border: none;\n",
              "      border-radius: 50%;\n",
              "      cursor: pointer;\n",
              "      display: none;\n",
              "      fill: #1967D2;\n",
              "      height: 32px;\n",
              "      padding: 0 0 0 0;\n",
              "      width: 32px;\n",
              "    }\n",
              "\n",
              "    .colab-df-convert:hover {\n",
              "      background-color: #E2EBFA;\n",
              "      box-shadow: 0px 1px 2px rgba(60, 64, 67, 0.3), 0px 1px 3px 1px rgba(60, 64, 67, 0.15);\n",
              "      fill: #174EA6;\n",
              "    }\n",
              "\n",
              "    [theme=dark] .colab-df-convert {\n",
              "      background-color: #3B4455;\n",
              "      fill: #D2E3FC;\n",
              "    }\n",
              "\n",
              "    [theme=dark] .colab-df-convert:hover {\n",
              "      background-color: #434B5C;\n",
              "      box-shadow: 0px 1px 3px 1px rgba(0, 0, 0, 0.15);\n",
              "      filter: drop-shadow(0px 1px 2px rgba(0, 0, 0, 0.3));\n",
              "      fill: #FFFFFF;\n",
              "    }\n",
              "  </style>\n",
              "\n",
              "      <script>\n",
              "        const buttonEl =\n",
              "          document.querySelector('#df-0e069f77-fe43-4dad-be1a-dfbf99d608ea button.colab-df-convert');\n",
              "        buttonEl.style.display =\n",
              "          google.colab.kernel.accessAllowed ? 'block' : 'none';\n",
              "\n",
              "        async function convertToInteractive(key) {\n",
              "          const element = document.querySelector('#df-0e069f77-fe43-4dad-be1a-dfbf99d608ea');\n",
              "          const dataTable =\n",
              "            await google.colab.kernel.invokeFunction('convertToInteractive',\n",
              "                                                     [key], {});\n",
              "          if (!dataTable) return;\n",
              "\n",
              "          const docLinkHtml = 'Like what you see? Visit the ' +\n",
              "            '<a target=\"_blank\" href=https://colab.research.google.com/notebooks/data_table.ipynb>data table notebook</a>'\n",
              "            + ' to learn more about interactive tables.';\n",
              "          element.innerHTML = '';\n",
              "          dataTable['output_type'] = 'display_data';\n",
              "          await google.colab.output.renderOutput(dataTable, element);\n",
              "          const docLink = document.createElement('div');\n",
              "          docLink.innerHTML = docLinkHtml;\n",
              "          element.appendChild(docLink);\n",
              "        }\n",
              "      </script>\n",
              "    </div>\n",
              "  </div>\n",
              "  "
            ],
            "text/plain": [
              "   Colorado  Connecticut  Delaware  ...  Vermont  Virginia  Wyoming\n",
              "0         0            0         0  ...        0         0        0\n",
              "1         1            0         0  ...        0         0        0\n",
              "2         0            0         0  ...        0         0        0\n",
              "3         0            0         0  ...        0         0        1\n",
              "4         0            0         0  ...        0         0        0\n",
              "\n",
              "[5 rows x 17 columns]"
            ]
          },
          "metadata": {},
          "execution_count": 112
        }
      ]
    },
    {
      "cell_type": "code",
      "source": [
        "#concatenate the new dummies to original dataset and drop original leadsource\n",
        "\n",
        "leads = pd.concat([leads, state_dummies], axis=1)\n",
        "leads.drop('State',axis=1,inplace=True)\n",
        "leads.head()"
      ],
      "metadata": {
        "colab": {
          "base_uri": "https://localhost:8080/",
          "height": 0
        },
        "id": "Um_lBvRG9B6b",
        "outputId": "431eaa12-aa98-4e36-bc9e-e4f71d70c838"
      },
      "execution_count": 113,
      "outputs": [
        {
          "output_type": "execute_result",
          "data": {
            "text/html": [
              "\n",
              "  <div id=\"df-c2e0f297-9b6b-415d-b6a6-e05798683099\">\n",
              "    <div class=\"colab-df-container\">\n",
              "      <div>\n",
              "<style scoped>\n",
              "    .dataframe tbody tr th:only-of-type {\n",
              "        vertical-align: middle;\n",
              "    }\n",
              "\n",
              "    .dataframe tbody tr th {\n",
              "        vertical-align: top;\n",
              "    }\n",
              "\n",
              "    .dataframe thead th {\n",
              "        text-align: right;\n",
              "    }\n",
              "</style>\n",
              "<table border=\"1\" class=\"dataframe\">\n",
              "  <thead>\n",
              "    <tr style=\"text-align: right;\">\n",
              "      <th></th>\n",
              "      <th>CompanySize</th>\n",
              "      <th>WebsiteVisits</th>\n",
              "      <th>EmailScore</th>\n",
              "      <th>Customer</th>\n",
              "      <th>Adwords</th>\n",
              "      <th>Print</th>\n",
              "      <th>Tradeshow</th>\n",
              "      <th>Webinar</th>\n",
              "      <th>Colorado</th>\n",
              "      <th>Connecticut</th>\n",
              "      <th>Delaware</th>\n",
              "      <th>Georgia</th>\n",
              "      <th>Illinois</th>\n",
              "      <th>Indiana</th>\n",
              "      <th>Maryland</th>\n",
              "      <th>Montana</th>\n",
              "      <th>New Jersey</th>\n",
              "      <th>New York</th>\n",
              "      <th>North Carolina</th>\n",
              "      <th>Ohio</th>\n",
              "      <th>Oregon</th>\n",
              "      <th>Pennsylvania</th>\n",
              "      <th>Vermont</th>\n",
              "      <th>Virginia</th>\n",
              "      <th>Wyoming</th>\n",
              "    </tr>\n",
              "  </thead>\n",
              "  <tbody>\n",
              "    <tr>\n",
              "      <th>0</th>\n",
              "      <td>106</td>\n",
              "      <td>10</td>\n",
              "      <td>21</td>\n",
              "      <td>No</td>\n",
              "      <td>0</td>\n",
              "      <td>0</td>\n",
              "      <td>0</td>\n",
              "      <td>1</td>\n",
              "      <td>0</td>\n",
              "      <td>0</td>\n",
              "      <td>0</td>\n",
              "      <td>0</td>\n",
              "      <td>0</td>\n",
              "      <td>0</td>\n",
              "      <td>0</td>\n",
              "      <td>0</td>\n",
              "      <td>0</td>\n",
              "      <td>0</td>\n",
              "      <td>0</td>\n",
              "      <td>1</td>\n",
              "      <td>0</td>\n",
              "      <td>0</td>\n",
              "      <td>0</td>\n",
              "      <td>0</td>\n",
              "      <td>0</td>\n",
              "    </tr>\n",
              "    <tr>\n",
              "      <th>1</th>\n",
              "      <td>51</td>\n",
              "      <td>15</td>\n",
              "      <td>34</td>\n",
              "      <td>Yes</td>\n",
              "      <td>0</td>\n",
              "      <td>1</td>\n",
              "      <td>0</td>\n",
              "      <td>0</td>\n",
              "      <td>1</td>\n",
              "      <td>0</td>\n",
              "      <td>0</td>\n",
              "      <td>0</td>\n",
              "      <td>0</td>\n",
              "      <td>0</td>\n",
              "      <td>0</td>\n",
              "      <td>0</td>\n",
              "      <td>0</td>\n",
              "      <td>0</td>\n",
              "      <td>0</td>\n",
              "      <td>0</td>\n",
              "      <td>0</td>\n",
              "      <td>0</td>\n",
              "      <td>0</td>\n",
              "      <td>0</td>\n",
              "      <td>0</td>\n",
              "    </tr>\n",
              "    <tr>\n",
              "      <th>2</th>\n",
              "      <td>142</td>\n",
              "      <td>14</td>\n",
              "      <td>19</td>\n",
              "      <td>No</td>\n",
              "      <td>1</td>\n",
              "      <td>0</td>\n",
              "      <td>0</td>\n",
              "      <td>0</td>\n",
              "      <td>0</td>\n",
              "      <td>0</td>\n",
              "      <td>0</td>\n",
              "      <td>0</td>\n",
              "      <td>0</td>\n",
              "      <td>0</td>\n",
              "      <td>0</td>\n",
              "      <td>0</td>\n",
              "      <td>0</td>\n",
              "      <td>0</td>\n",
              "      <td>0</td>\n",
              "      <td>0</td>\n",
              "      <td>0</td>\n",
              "      <td>1</td>\n",
              "      <td>0</td>\n",
              "      <td>0</td>\n",
              "      <td>0</td>\n",
              "    </tr>\n",
              "    <tr>\n",
              "      <th>3</th>\n",
              "      <td>136</td>\n",
              "      <td>6</td>\n",
              "      <td>23</td>\n",
              "      <td>No</td>\n",
              "      <td>0</td>\n",
              "      <td>1</td>\n",
              "      <td>0</td>\n",
              "      <td>0</td>\n",
              "      <td>0</td>\n",
              "      <td>0</td>\n",
              "      <td>0</td>\n",
              "      <td>0</td>\n",
              "      <td>0</td>\n",
              "      <td>0</td>\n",
              "      <td>0</td>\n",
              "      <td>0</td>\n",
              "      <td>0</td>\n",
              "      <td>0</td>\n",
              "      <td>0</td>\n",
              "      <td>0</td>\n",
              "      <td>0</td>\n",
              "      <td>0</td>\n",
              "      <td>0</td>\n",
              "      <td>0</td>\n",
              "      <td>1</td>\n",
              "    </tr>\n",
              "    <tr>\n",
              "      <th>4</th>\n",
              "      <td>137</td>\n",
              "      <td>5</td>\n",
              "      <td>20</td>\n",
              "      <td>No</td>\n",
              "      <td>0</td>\n",
              "      <td>1</td>\n",
              "      <td>0</td>\n",
              "      <td>0</td>\n",
              "      <td>0</td>\n",
              "      <td>0</td>\n",
              "      <td>0</td>\n",
              "      <td>0</td>\n",
              "      <td>0</td>\n",
              "      <td>0</td>\n",
              "      <td>1</td>\n",
              "      <td>0</td>\n",
              "      <td>0</td>\n",
              "      <td>0</td>\n",
              "      <td>0</td>\n",
              "      <td>0</td>\n",
              "      <td>0</td>\n",
              "      <td>0</td>\n",
              "      <td>0</td>\n",
              "      <td>0</td>\n",
              "      <td>0</td>\n",
              "    </tr>\n",
              "  </tbody>\n",
              "</table>\n",
              "</div>\n",
              "      <button class=\"colab-df-convert\" onclick=\"convertToInteractive('df-c2e0f297-9b6b-415d-b6a6-e05798683099')\"\n",
              "              title=\"Convert this dataframe to an interactive table.\"\n",
              "              style=\"display:none;\">\n",
              "        \n",
              "  <svg xmlns=\"http://www.w3.org/2000/svg\" height=\"24px\"viewBox=\"0 0 24 24\"\n",
              "       width=\"24px\">\n",
              "    <path d=\"M0 0h24v24H0V0z\" fill=\"none\"/>\n",
              "    <path d=\"M18.56 5.44l.94 2.06.94-2.06 2.06-.94-2.06-.94-.94-2.06-.94 2.06-2.06.94zm-11 1L8.5 8.5l.94-2.06 2.06-.94-2.06-.94L8.5 2.5l-.94 2.06-2.06.94zm10 10l.94 2.06.94-2.06 2.06-.94-2.06-.94-.94-2.06-.94 2.06-2.06.94z\"/><path d=\"M17.41 7.96l-1.37-1.37c-.4-.4-.92-.59-1.43-.59-.52 0-1.04.2-1.43.59L10.3 9.45l-7.72 7.72c-.78.78-.78 2.05 0 2.83L4 21.41c.39.39.9.59 1.41.59.51 0 1.02-.2 1.41-.59l7.78-7.78 2.81-2.81c.8-.78.8-2.07 0-2.86zM5.41 20L4 18.59l7.72-7.72 1.47 1.35L5.41 20z\"/>\n",
              "  </svg>\n",
              "      </button>\n",
              "      \n",
              "  <style>\n",
              "    .colab-df-container {\n",
              "      display:flex;\n",
              "      flex-wrap:wrap;\n",
              "      gap: 12px;\n",
              "    }\n",
              "\n",
              "    .colab-df-convert {\n",
              "      background-color: #E8F0FE;\n",
              "      border: none;\n",
              "      border-radius: 50%;\n",
              "      cursor: pointer;\n",
              "      display: none;\n",
              "      fill: #1967D2;\n",
              "      height: 32px;\n",
              "      padding: 0 0 0 0;\n",
              "      width: 32px;\n",
              "    }\n",
              "\n",
              "    .colab-df-convert:hover {\n",
              "      background-color: #E2EBFA;\n",
              "      box-shadow: 0px 1px 2px rgba(60, 64, 67, 0.3), 0px 1px 3px 1px rgba(60, 64, 67, 0.15);\n",
              "      fill: #174EA6;\n",
              "    }\n",
              "\n",
              "    [theme=dark] .colab-df-convert {\n",
              "      background-color: #3B4455;\n",
              "      fill: #D2E3FC;\n",
              "    }\n",
              "\n",
              "    [theme=dark] .colab-df-convert:hover {\n",
              "      background-color: #434B5C;\n",
              "      box-shadow: 0px 1px 3px 1px rgba(0, 0, 0, 0.15);\n",
              "      filter: drop-shadow(0px 1px 2px rgba(0, 0, 0, 0.3));\n",
              "      fill: #FFFFFF;\n",
              "    }\n",
              "  </style>\n",
              "\n",
              "      <script>\n",
              "        const buttonEl =\n",
              "          document.querySelector('#df-c2e0f297-9b6b-415d-b6a6-e05798683099 button.colab-df-convert');\n",
              "        buttonEl.style.display =\n",
              "          google.colab.kernel.accessAllowed ? 'block' : 'none';\n",
              "\n",
              "        async function convertToInteractive(key) {\n",
              "          const element = document.querySelector('#df-c2e0f297-9b6b-415d-b6a6-e05798683099');\n",
              "          const dataTable =\n",
              "            await google.colab.kernel.invokeFunction('convertToInteractive',\n",
              "                                                     [key], {});\n",
              "          if (!dataTable) return;\n",
              "\n",
              "          const docLinkHtml = 'Like what you see? Visit the ' +\n",
              "            '<a target=\"_blank\" href=https://colab.research.google.com/notebooks/data_table.ipynb>data table notebook</a>'\n",
              "            + ' to learn more about interactive tables.';\n",
              "          element.innerHTML = '';\n",
              "          dataTable['output_type'] = 'display_data';\n",
              "          await google.colab.output.renderOutput(dataTable, element);\n",
              "          const docLink = document.createElement('div');\n",
              "          docLink.innerHTML = docLinkHtml;\n",
              "          element.appendChild(docLink);\n",
              "        }\n",
              "      </script>\n",
              "    </div>\n",
              "  </div>\n",
              "  "
            ],
            "text/plain": [
              "   CompanySize  WebsiteVisits  EmailScore  ... Vermont  Virginia  Wyoming\n",
              "0          106             10          21  ...       0         0        0\n",
              "1           51             15          34  ...       0         0        0\n",
              "2          142             14          19  ...       0         0        0\n",
              "3          136              6          23  ...       0         0        1\n",
              "4          137              5          20  ...       0         0        0\n",
              "\n",
              "[5 rows x 25 columns]"
            ]
          },
          "metadata": {},
          "execution_count": 113
        }
      ]
    },
    {
      "cell_type": "code",
      "metadata": {
        "id": "71VRUotp1W-T",
        "colab": {
          "base_uri": "https://localhost:8080/",
          "height": 0
        },
        "outputId": "6b3f4c85-5e89-4e15-c603-0bae40cd2de2"
      },
      "source": [
        "#encoding binary features into numeric data \n",
        "\n",
        "leads['Customer'] = leads['Customer'].replace({'Yes' : 1, 'No': 0})\n",
        "leads.head()"
      ],
      "execution_count": 114,
      "outputs": [
        {
          "output_type": "execute_result",
          "data": {
            "text/html": [
              "\n",
              "  <div id=\"df-4435f5f5-0d5c-48b7-8730-26c630669a07\">\n",
              "    <div class=\"colab-df-container\">\n",
              "      <div>\n",
              "<style scoped>\n",
              "    .dataframe tbody tr th:only-of-type {\n",
              "        vertical-align: middle;\n",
              "    }\n",
              "\n",
              "    .dataframe tbody tr th {\n",
              "        vertical-align: top;\n",
              "    }\n",
              "\n",
              "    .dataframe thead th {\n",
              "        text-align: right;\n",
              "    }\n",
              "</style>\n",
              "<table border=\"1\" class=\"dataframe\">\n",
              "  <thead>\n",
              "    <tr style=\"text-align: right;\">\n",
              "      <th></th>\n",
              "      <th>CompanySize</th>\n",
              "      <th>WebsiteVisits</th>\n",
              "      <th>EmailScore</th>\n",
              "      <th>Customer</th>\n",
              "      <th>Adwords</th>\n",
              "      <th>Print</th>\n",
              "      <th>Tradeshow</th>\n",
              "      <th>Webinar</th>\n",
              "      <th>Colorado</th>\n",
              "      <th>Connecticut</th>\n",
              "      <th>Delaware</th>\n",
              "      <th>Georgia</th>\n",
              "      <th>Illinois</th>\n",
              "      <th>Indiana</th>\n",
              "      <th>Maryland</th>\n",
              "      <th>Montana</th>\n",
              "      <th>New Jersey</th>\n",
              "      <th>New York</th>\n",
              "      <th>North Carolina</th>\n",
              "      <th>Ohio</th>\n",
              "      <th>Oregon</th>\n",
              "      <th>Pennsylvania</th>\n",
              "      <th>Vermont</th>\n",
              "      <th>Virginia</th>\n",
              "      <th>Wyoming</th>\n",
              "    </tr>\n",
              "  </thead>\n",
              "  <tbody>\n",
              "    <tr>\n",
              "      <th>0</th>\n",
              "      <td>106</td>\n",
              "      <td>10</td>\n",
              "      <td>21</td>\n",
              "      <td>0</td>\n",
              "      <td>0</td>\n",
              "      <td>0</td>\n",
              "      <td>0</td>\n",
              "      <td>1</td>\n",
              "      <td>0</td>\n",
              "      <td>0</td>\n",
              "      <td>0</td>\n",
              "      <td>0</td>\n",
              "      <td>0</td>\n",
              "      <td>0</td>\n",
              "      <td>0</td>\n",
              "      <td>0</td>\n",
              "      <td>0</td>\n",
              "      <td>0</td>\n",
              "      <td>0</td>\n",
              "      <td>1</td>\n",
              "      <td>0</td>\n",
              "      <td>0</td>\n",
              "      <td>0</td>\n",
              "      <td>0</td>\n",
              "      <td>0</td>\n",
              "    </tr>\n",
              "    <tr>\n",
              "      <th>1</th>\n",
              "      <td>51</td>\n",
              "      <td>15</td>\n",
              "      <td>34</td>\n",
              "      <td>1</td>\n",
              "      <td>0</td>\n",
              "      <td>1</td>\n",
              "      <td>0</td>\n",
              "      <td>0</td>\n",
              "      <td>1</td>\n",
              "      <td>0</td>\n",
              "      <td>0</td>\n",
              "      <td>0</td>\n",
              "      <td>0</td>\n",
              "      <td>0</td>\n",
              "      <td>0</td>\n",
              "      <td>0</td>\n",
              "      <td>0</td>\n",
              "      <td>0</td>\n",
              "      <td>0</td>\n",
              "      <td>0</td>\n",
              "      <td>0</td>\n",
              "      <td>0</td>\n",
              "      <td>0</td>\n",
              "      <td>0</td>\n",
              "      <td>0</td>\n",
              "    </tr>\n",
              "    <tr>\n",
              "      <th>2</th>\n",
              "      <td>142</td>\n",
              "      <td>14</td>\n",
              "      <td>19</td>\n",
              "      <td>0</td>\n",
              "      <td>1</td>\n",
              "      <td>0</td>\n",
              "      <td>0</td>\n",
              "      <td>0</td>\n",
              "      <td>0</td>\n",
              "      <td>0</td>\n",
              "      <td>0</td>\n",
              "      <td>0</td>\n",
              "      <td>0</td>\n",
              "      <td>0</td>\n",
              "      <td>0</td>\n",
              "      <td>0</td>\n",
              "      <td>0</td>\n",
              "      <td>0</td>\n",
              "      <td>0</td>\n",
              "      <td>0</td>\n",
              "      <td>0</td>\n",
              "      <td>1</td>\n",
              "      <td>0</td>\n",
              "      <td>0</td>\n",
              "      <td>0</td>\n",
              "    </tr>\n",
              "    <tr>\n",
              "      <th>3</th>\n",
              "      <td>136</td>\n",
              "      <td>6</td>\n",
              "      <td>23</td>\n",
              "      <td>0</td>\n",
              "      <td>0</td>\n",
              "      <td>1</td>\n",
              "      <td>0</td>\n",
              "      <td>0</td>\n",
              "      <td>0</td>\n",
              "      <td>0</td>\n",
              "      <td>0</td>\n",
              "      <td>0</td>\n",
              "      <td>0</td>\n",
              "      <td>0</td>\n",
              "      <td>0</td>\n",
              "      <td>0</td>\n",
              "      <td>0</td>\n",
              "      <td>0</td>\n",
              "      <td>0</td>\n",
              "      <td>0</td>\n",
              "      <td>0</td>\n",
              "      <td>0</td>\n",
              "      <td>0</td>\n",
              "      <td>0</td>\n",
              "      <td>1</td>\n",
              "    </tr>\n",
              "    <tr>\n",
              "      <th>4</th>\n",
              "      <td>137</td>\n",
              "      <td>5</td>\n",
              "      <td>20</td>\n",
              "      <td>0</td>\n",
              "      <td>0</td>\n",
              "      <td>1</td>\n",
              "      <td>0</td>\n",
              "      <td>0</td>\n",
              "      <td>0</td>\n",
              "      <td>0</td>\n",
              "      <td>0</td>\n",
              "      <td>0</td>\n",
              "      <td>0</td>\n",
              "      <td>0</td>\n",
              "      <td>1</td>\n",
              "      <td>0</td>\n",
              "      <td>0</td>\n",
              "      <td>0</td>\n",
              "      <td>0</td>\n",
              "      <td>0</td>\n",
              "      <td>0</td>\n",
              "      <td>0</td>\n",
              "      <td>0</td>\n",
              "      <td>0</td>\n",
              "      <td>0</td>\n",
              "    </tr>\n",
              "  </tbody>\n",
              "</table>\n",
              "</div>\n",
              "      <button class=\"colab-df-convert\" onclick=\"convertToInteractive('df-4435f5f5-0d5c-48b7-8730-26c630669a07')\"\n",
              "              title=\"Convert this dataframe to an interactive table.\"\n",
              "              style=\"display:none;\">\n",
              "        \n",
              "  <svg xmlns=\"http://www.w3.org/2000/svg\" height=\"24px\"viewBox=\"0 0 24 24\"\n",
              "       width=\"24px\">\n",
              "    <path d=\"M0 0h24v24H0V0z\" fill=\"none\"/>\n",
              "    <path d=\"M18.56 5.44l.94 2.06.94-2.06 2.06-.94-2.06-.94-.94-2.06-.94 2.06-2.06.94zm-11 1L8.5 8.5l.94-2.06 2.06-.94-2.06-.94L8.5 2.5l-.94 2.06-2.06.94zm10 10l.94 2.06.94-2.06 2.06-.94-2.06-.94-.94-2.06-.94 2.06-2.06.94z\"/><path d=\"M17.41 7.96l-1.37-1.37c-.4-.4-.92-.59-1.43-.59-.52 0-1.04.2-1.43.59L10.3 9.45l-7.72 7.72c-.78.78-.78 2.05 0 2.83L4 21.41c.39.39.9.59 1.41.59.51 0 1.02-.2 1.41-.59l7.78-7.78 2.81-2.81c.8-.78.8-2.07 0-2.86zM5.41 20L4 18.59l7.72-7.72 1.47 1.35L5.41 20z\"/>\n",
              "  </svg>\n",
              "      </button>\n",
              "      \n",
              "  <style>\n",
              "    .colab-df-container {\n",
              "      display:flex;\n",
              "      flex-wrap:wrap;\n",
              "      gap: 12px;\n",
              "    }\n",
              "\n",
              "    .colab-df-convert {\n",
              "      background-color: #E8F0FE;\n",
              "      border: none;\n",
              "      border-radius: 50%;\n",
              "      cursor: pointer;\n",
              "      display: none;\n",
              "      fill: #1967D2;\n",
              "      height: 32px;\n",
              "      padding: 0 0 0 0;\n",
              "      width: 32px;\n",
              "    }\n",
              "\n",
              "    .colab-df-convert:hover {\n",
              "      background-color: #E2EBFA;\n",
              "      box-shadow: 0px 1px 2px rgba(60, 64, 67, 0.3), 0px 1px 3px 1px rgba(60, 64, 67, 0.15);\n",
              "      fill: #174EA6;\n",
              "    }\n",
              "\n",
              "    [theme=dark] .colab-df-convert {\n",
              "      background-color: #3B4455;\n",
              "      fill: #D2E3FC;\n",
              "    }\n",
              "\n",
              "    [theme=dark] .colab-df-convert:hover {\n",
              "      background-color: #434B5C;\n",
              "      box-shadow: 0px 1px 3px 1px rgba(0, 0, 0, 0.15);\n",
              "      filter: drop-shadow(0px 1px 2px rgba(0, 0, 0, 0.3));\n",
              "      fill: #FFFFFF;\n",
              "    }\n",
              "  </style>\n",
              "\n",
              "      <script>\n",
              "        const buttonEl =\n",
              "          document.querySelector('#df-4435f5f5-0d5c-48b7-8730-26c630669a07 button.colab-df-convert');\n",
              "        buttonEl.style.display =\n",
              "          google.colab.kernel.accessAllowed ? 'block' : 'none';\n",
              "\n",
              "        async function convertToInteractive(key) {\n",
              "          const element = document.querySelector('#df-4435f5f5-0d5c-48b7-8730-26c630669a07');\n",
              "          const dataTable =\n",
              "            await google.colab.kernel.invokeFunction('convertToInteractive',\n",
              "                                                     [key], {});\n",
              "          if (!dataTable) return;\n",
              "\n",
              "          const docLinkHtml = 'Like what you see? Visit the ' +\n",
              "            '<a target=\"_blank\" href=https://colab.research.google.com/notebooks/data_table.ipynb>data table notebook</a>'\n",
              "            + ' to learn more about interactive tables.';\n",
              "          element.innerHTML = '';\n",
              "          dataTable['output_type'] = 'display_data';\n",
              "          await google.colab.output.renderOutput(dataTable, element);\n",
              "          const docLink = document.createElement('div');\n",
              "          docLink.innerHTML = docLinkHtml;\n",
              "          element.appendChild(docLink);\n",
              "        }\n",
              "      </script>\n",
              "    </div>\n",
              "  </div>\n",
              "  "
            ],
            "text/plain": [
              "   CompanySize  WebsiteVisits  EmailScore  ...  Vermont  Virginia  Wyoming\n",
              "0          106             10          21  ...        0         0        0\n",
              "1           51             15          34  ...        0         0        0\n",
              "2          142             14          19  ...        0         0        0\n",
              "3          136              6          23  ...        0         0        1\n",
              "4          137              5          20  ...        0         0        0\n",
              "\n",
              "[5 rows x 25 columns]"
            ]
          },
          "metadata": {},
          "execution_count": 114
        }
      ]
    },
    {
      "cell_type": "markdown",
      "metadata": {
        "id": "ns64Xhq4Gbh2"
      },
      "source": [
        "# Model Builiding"
      ]
    },
    {
      "cell_type": "code",
      "source": [
        "#load contents from Sklearn\n",
        "from sklearn.model_selection import train_test_split\n",
        "from sklearn.linear_model import LogisticRegression\n",
        "from sklearn import metrics\n",
        "\n",
        "#instantiate the classifier model\n",
        "model = LogisticRegression()\n",
        "\n",
        "#create feature/input variable(s)\n",
        "X = leads.drop('Customer', axis=1)\n",
        "\n",
        "#create target variable\n",
        "y = leads['Customer']"
      ],
      "metadata": {
        "id": "SuNgV63e7dP7"
      },
      "execution_count": 115,
      "outputs": []
    },
    {
      "cell_type": "code",
      "source": [
        "#create training and testing sets \n",
        "X_train, X_test, y_train, y_test = train_test_split(X, y, test_size=0.2)\n",
        "\n",
        "print(f'Training set size: {len(y_train)}')\n",
        "print(f'Test set size: {len(y_test)}')\n",
        "print() \n",
        "\n",
        "#fit to training data / train model on our data \n",
        "model.fit(X_train, y_train)\n",
        "\n",
        "#make predictions\n",
        "y_predict = model.predict(X_test)\n",
        "y_predict"
      ],
      "metadata": {
        "colab": {
          "base_uri": "https://localhost:8080/"
        },
        "id": "DiTrthNzBYSO",
        "outputId": "c318dbed-74b8-45d5-f055-523f71a2c5b7"
      },
      "execution_count": 116,
      "outputs": [
        {
          "output_type": "stream",
          "name": "stdout",
          "text": [
            "Training set size: 640\n",
            "Test set size: 160\n",
            "\n"
          ]
        },
        {
          "output_type": "stream",
          "name": "stderr",
          "text": [
            "/usr/local/lib/python3.7/dist-packages/sklearn/linear_model/_logistic.py:818: ConvergenceWarning: lbfgs failed to converge (status=1):\n",
            "STOP: TOTAL NO. of ITERATIONS REACHED LIMIT.\n",
            "\n",
            "Increase the number of iterations (max_iter) or scale the data as shown in:\n",
            "    https://scikit-learn.org/stable/modules/preprocessing.html\n",
            "Please also refer to the documentation for alternative solver options:\n",
            "    https://scikit-learn.org/stable/modules/linear_model.html#logistic-regression\n",
            "  extra_warning_msg=_LOGISTIC_SOLVER_CONVERGENCE_MSG,\n"
          ]
        },
        {
          "output_type": "execute_result",
          "data": {
            "text/plain": [
              "array([0, 1, 0, 0, 0, 0, 0, 0, 0, 0, 1, 1, 0, 0, 0, 0, 0, 0, 1, 0, 0, 0,\n",
              "       0, 0, 0, 0, 0, 0, 0, 0, 1, 0, 0, 0, 1, 0, 0, 0, 0, 0, 0, 1, 0, 1,\n",
              "       0, 0, 1, 0, 0, 1, 0, 0, 1, 0, 1, 0, 1, 0, 0, 0, 0, 0, 0, 0, 0, 0,\n",
              "       0, 0, 0, 0, 0, 0, 0, 0, 0, 0, 0, 0, 0, 0, 0, 0, 0, 0, 0, 0, 0, 0,\n",
              "       1, 1, 1, 0, 0, 0, 0, 0, 1, 0, 1, 1, 1, 0, 0, 0, 0, 0, 0, 0, 1, 1,\n",
              "       0, 0, 0, 0, 0, 0, 0, 0, 0, 0, 0, 0, 0, 1, 0, 0, 0, 0, 1, 0, 0, 0,\n",
              "       0, 0, 1, 0, 1, 0, 0, 0, 0, 0, 0, 0, 1, 0, 0, 1, 0, 1, 1, 0, 0, 0,\n",
              "       1, 0, 0, 0, 0, 0])"
            ]
          },
          "metadata": {},
          "execution_count": 116
        }
      ]
    },
    {
      "cell_type": "code",
      "source": [
        "#generating probabilities in sklearn\n",
        "model.predict_proba(X_test)[:,1]"
      ],
      "metadata": {
        "colab": {
          "base_uri": "https://localhost:8080/"
        },
        "id": "RwR1AsznHLne",
        "outputId": "eb3315c9-4683-4365-82bf-6a8414681e76"
      },
      "execution_count": 117,
      "outputs": [
        {
          "output_type": "execute_result",
          "data": {
            "text/plain": [
              "array([5.29635388e-03, 8.34011743e-01, 2.84760842e-01, 3.38481697e-04,\n",
              "       2.16980896e-04, 4.02030873e-03, 9.92451108e-03, 2.43888710e-05,\n",
              "       9.30963089e-04, 1.14218369e-04, 9.99975123e-01, 9.04156680e-01,\n",
              "       1.10897532e-02, 8.94224502e-02, 8.78030434e-03, 4.82487296e-03,\n",
              "       3.43339745e-02, 1.00657702e-04, 9.99897710e-01, 1.99474786e-04,\n",
              "       4.46929904e-04, 2.25653472e-05, 1.15659381e-03, 2.58086489e-04,\n",
              "       4.87784485e-03, 4.65913550e-02, 1.43020696e-03, 3.43575801e-01,\n",
              "       1.38548893e-02, 5.37358658e-03, 9.98850316e-01, 6.02736323e-02,\n",
              "       2.60466958e-01, 1.83193351e-03, 9.53128386e-01, 4.91131366e-01,\n",
              "       1.42961255e-03, 7.51006325e-03, 1.60914716e-05, 9.16057139e-03,\n",
              "       6.11012755e-03, 9.94282858e-01, 3.80386121e-02, 9.79593302e-01,\n",
              "       3.66102323e-04, 5.39115604e-03, 8.52929613e-01, 1.97638817e-02,\n",
              "       4.06906668e-02, 7.94173654e-01, 6.25992246e-04, 5.23359743e-02,\n",
              "       9.99807821e-01, 1.11722398e-02, 9.91422058e-01, 1.65783610e-02,\n",
              "       9.73465373e-01, 9.45140906e-02, 1.16283384e-01, 1.78477770e-03,\n",
              "       5.85651555e-03, 3.43764271e-03, 1.47280803e-01, 1.26984973e-02,\n",
              "       2.46322357e-02, 3.87356124e-03, 3.44706579e-02, 5.21255722e-04,\n",
              "       4.77783857e-04, 1.02037734e-01, 6.34851480e-05, 4.42676923e-01,\n",
              "       2.61041351e-01, 9.07485839e-05, 3.77070045e-03, 3.57083340e-01,\n",
              "       5.94892394e-04, 1.36012792e-03, 1.02543898e-01, 8.67325946e-05,\n",
              "       3.63104067e-01, 7.76478481e-04, 2.15030762e-05, 1.84185283e-02,\n",
              "       7.91449237e-03, 2.32586012e-03, 3.74739342e-04, 8.00989916e-02,\n",
              "       9.11995411e-01, 9.38052285e-01, 5.69562754e-01, 2.74840700e-04,\n",
              "       6.92632008e-04, 1.98558470e-02, 1.15400994e-01, 7.87590985e-04,\n",
              "       7.68055255e-01, 7.09388284e-02, 9.22640111e-01, 9.77915785e-01,\n",
              "       9.82381666e-01, 1.40796870e-02, 1.28721254e-03, 3.93369063e-02,\n",
              "       4.26662217e-03, 3.32812306e-03, 2.46520174e-05, 9.01735384e-02,\n",
              "       9.98427355e-01, 9.93779606e-01, 1.26458526e-03, 1.46906714e-01,\n",
              "       2.24549336e-03, 2.50713157e-04, 6.73813341e-03, 9.15017713e-05,\n",
              "       1.13281457e-04, 2.51759486e-01, 4.52343751e-01, 9.13742191e-03,\n",
              "       1.91897347e-01, 1.69103569e-01, 3.14970099e-02, 8.75357780e-01,\n",
              "       5.15172923e-04, 7.31097096e-03, 2.14415907e-05, 5.96088638e-04,\n",
              "       5.96270321e-01, 3.02043821e-03, 8.39005201e-04, 1.19791519e-04,\n",
              "       1.98805749e-03, 4.83451644e-03, 7.49049553e-01, 3.27276913e-02,\n",
              "       9.99783025e-01, 1.40978262e-01, 2.96487606e-04, 8.26075829e-04,\n",
              "       3.50187968e-04, 8.51310145e-04, 1.87454796e-03, 1.08833420e-03,\n",
              "       8.64665019e-01, 1.26712797e-01, 4.89233993e-04, 9.89146028e-01,\n",
              "       1.57417008e-02, 8.38891211e-01, 9.94889116e-01, 1.63729435e-01,\n",
              "       7.54616583e-02, 4.55547341e-04, 8.27763036e-01, 4.99994133e-03,\n",
              "       8.89069724e-03, 3.65326161e-02, 2.40837014e-03, 3.10357555e-02])"
            ]
          },
          "metadata": {},
          "execution_count": 117
        }
      ]
    },
    {
      "cell_type": "code",
      "source": [
        "target_proba_predicted = pd.DataFrame(model.predict_proba(X_test),\n",
        "                                      columns=model.classes_)\n",
        "\n",
        "target_proba_predicted[:10]"
      ],
      "metadata": {
        "colab": {
          "base_uri": "https://localhost:8080/",
          "height": 363
        },
        "id": "p-GUFj8Rickx",
        "outputId": "5a41a569-3334-48ed-94b2-7deea2220c5c"
      },
      "execution_count": 118,
      "outputs": [
        {
          "output_type": "execute_result",
          "data": {
            "text/html": [
              "\n",
              "  <div id=\"df-10c8041c-4d6d-4a35-8a89-50322d3c301c\">\n",
              "    <div class=\"colab-df-container\">\n",
              "      <div>\n",
              "<style scoped>\n",
              "    .dataframe tbody tr th:only-of-type {\n",
              "        vertical-align: middle;\n",
              "    }\n",
              "\n",
              "    .dataframe tbody tr th {\n",
              "        vertical-align: top;\n",
              "    }\n",
              "\n",
              "    .dataframe thead th {\n",
              "        text-align: right;\n",
              "    }\n",
              "</style>\n",
              "<table border=\"1\" class=\"dataframe\">\n",
              "  <thead>\n",
              "    <tr style=\"text-align: right;\">\n",
              "      <th></th>\n",
              "      <th>0</th>\n",
              "      <th>1</th>\n",
              "    </tr>\n",
              "  </thead>\n",
              "  <tbody>\n",
              "    <tr>\n",
              "      <th>0</th>\n",
              "      <td>0.994704</td>\n",
              "      <td>0.005296</td>\n",
              "    </tr>\n",
              "    <tr>\n",
              "      <th>1</th>\n",
              "      <td>0.165988</td>\n",
              "      <td>0.834012</td>\n",
              "    </tr>\n",
              "    <tr>\n",
              "      <th>2</th>\n",
              "      <td>0.715239</td>\n",
              "      <td>0.284761</td>\n",
              "    </tr>\n",
              "    <tr>\n",
              "      <th>3</th>\n",
              "      <td>0.999662</td>\n",
              "      <td>0.000338</td>\n",
              "    </tr>\n",
              "    <tr>\n",
              "      <th>4</th>\n",
              "      <td>0.999783</td>\n",
              "      <td>0.000217</td>\n",
              "    </tr>\n",
              "    <tr>\n",
              "      <th>5</th>\n",
              "      <td>0.995980</td>\n",
              "      <td>0.004020</td>\n",
              "    </tr>\n",
              "    <tr>\n",
              "      <th>6</th>\n",
              "      <td>0.990075</td>\n",
              "      <td>0.009925</td>\n",
              "    </tr>\n",
              "    <tr>\n",
              "      <th>7</th>\n",
              "      <td>0.999976</td>\n",
              "      <td>0.000024</td>\n",
              "    </tr>\n",
              "    <tr>\n",
              "      <th>8</th>\n",
              "      <td>0.999069</td>\n",
              "      <td>0.000931</td>\n",
              "    </tr>\n",
              "    <tr>\n",
              "      <th>9</th>\n",
              "      <td>0.999886</td>\n",
              "      <td>0.000114</td>\n",
              "    </tr>\n",
              "  </tbody>\n",
              "</table>\n",
              "</div>\n",
              "      <button class=\"colab-df-convert\" onclick=\"convertToInteractive('df-10c8041c-4d6d-4a35-8a89-50322d3c301c')\"\n",
              "              title=\"Convert this dataframe to an interactive table.\"\n",
              "              style=\"display:none;\">\n",
              "        \n",
              "  <svg xmlns=\"http://www.w3.org/2000/svg\" height=\"24px\"viewBox=\"0 0 24 24\"\n",
              "       width=\"24px\">\n",
              "    <path d=\"M0 0h24v24H0V0z\" fill=\"none\"/>\n",
              "    <path d=\"M18.56 5.44l.94 2.06.94-2.06 2.06-.94-2.06-.94-.94-2.06-.94 2.06-2.06.94zm-11 1L8.5 8.5l.94-2.06 2.06-.94-2.06-.94L8.5 2.5l-.94 2.06-2.06.94zm10 10l.94 2.06.94-2.06 2.06-.94-2.06-.94-.94-2.06-.94 2.06-2.06.94z\"/><path d=\"M17.41 7.96l-1.37-1.37c-.4-.4-.92-.59-1.43-.59-.52 0-1.04.2-1.43.59L10.3 9.45l-7.72 7.72c-.78.78-.78 2.05 0 2.83L4 21.41c.39.39.9.59 1.41.59.51 0 1.02-.2 1.41-.59l7.78-7.78 2.81-2.81c.8-.78.8-2.07 0-2.86zM5.41 20L4 18.59l7.72-7.72 1.47 1.35L5.41 20z\"/>\n",
              "  </svg>\n",
              "      </button>\n",
              "      \n",
              "  <style>\n",
              "    .colab-df-container {\n",
              "      display:flex;\n",
              "      flex-wrap:wrap;\n",
              "      gap: 12px;\n",
              "    }\n",
              "\n",
              "    .colab-df-convert {\n",
              "      background-color: #E8F0FE;\n",
              "      border: none;\n",
              "      border-radius: 50%;\n",
              "      cursor: pointer;\n",
              "      display: none;\n",
              "      fill: #1967D2;\n",
              "      height: 32px;\n",
              "      padding: 0 0 0 0;\n",
              "      width: 32px;\n",
              "    }\n",
              "\n",
              "    .colab-df-convert:hover {\n",
              "      background-color: #E2EBFA;\n",
              "      box-shadow: 0px 1px 2px rgba(60, 64, 67, 0.3), 0px 1px 3px 1px rgba(60, 64, 67, 0.15);\n",
              "      fill: #174EA6;\n",
              "    }\n",
              "\n",
              "    [theme=dark] .colab-df-convert {\n",
              "      background-color: #3B4455;\n",
              "      fill: #D2E3FC;\n",
              "    }\n",
              "\n",
              "    [theme=dark] .colab-df-convert:hover {\n",
              "      background-color: #434B5C;\n",
              "      box-shadow: 0px 1px 3px 1px rgba(0, 0, 0, 0.15);\n",
              "      filter: drop-shadow(0px 1px 2px rgba(0, 0, 0, 0.3));\n",
              "      fill: #FFFFFF;\n",
              "    }\n",
              "  </style>\n",
              "\n",
              "      <script>\n",
              "        const buttonEl =\n",
              "          document.querySelector('#df-10c8041c-4d6d-4a35-8a89-50322d3c301c button.colab-df-convert');\n",
              "        buttonEl.style.display =\n",
              "          google.colab.kernel.accessAllowed ? 'block' : 'none';\n",
              "\n",
              "        async function convertToInteractive(key) {\n",
              "          const element = document.querySelector('#df-10c8041c-4d6d-4a35-8a89-50322d3c301c');\n",
              "          const dataTable =\n",
              "            await google.colab.kernel.invokeFunction('convertToInteractive',\n",
              "                                                     [key], {});\n",
              "          if (!dataTable) return;\n",
              "\n",
              "          const docLinkHtml = 'Like what you see? Visit the ' +\n",
              "            '<a target=\"_blank\" href=https://colab.research.google.com/notebooks/data_table.ipynb>data table notebook</a>'\n",
              "            + ' to learn more about interactive tables.';\n",
              "          element.innerHTML = '';\n",
              "          dataTable['output_type'] = 'display_data';\n",
              "          await google.colab.output.renderOutput(dataTable, element);\n",
              "          const docLink = document.createElement('div');\n",
              "          docLink.innerHTML = docLinkHtml;\n",
              "          element.appendChild(docLink);\n",
              "        }\n",
              "      </script>\n",
              "    </div>\n",
              "  </div>\n",
              "  "
            ],
            "text/plain": [
              "          0         1\n",
              "0  0.994704  0.005296\n",
              "1  0.165988  0.834012\n",
              "2  0.715239  0.284761\n",
              "3  0.999662  0.000338\n",
              "4  0.999783  0.000217\n",
              "5  0.995980  0.004020\n",
              "6  0.990075  0.009925\n",
              "7  0.999976  0.000024\n",
              "8  0.999069  0.000931\n",
              "9  0.999886  0.000114"
            ]
          },
          "metadata": {},
          "execution_count": 118
        }
      ]
    },
    {
      "cell_type": "code",
      "source": [
        "y_pred_class = model.predict(X_test)"
      ],
      "metadata": {
        "id": "SRs23adPj6vW"
      },
      "execution_count": 119,
      "outputs": []
    },
    {
      "cell_type": "code",
      "source": [
        "#compute model accuracy \n",
        "print(model.score(X_test, y_test))"
      ],
      "metadata": {
        "colab": {
          "base_uri": "https://localhost:8080/"
        },
        "id": "yG0EQGdgLdzU",
        "outputId": "ea8f0963-5f28-4be4-a65f-6117ca1807e0"
      },
      "execution_count": 120,
      "outputs": [
        {
          "output_type": "stream",
          "name": "stdout",
          "text": [
            "0.94375\n"
          ]
        }
      ]
    },
    {
      "cell_type": "code",
      "source": [
        "print(\"Accuracy:\",metrics.accuracy_score(y_test, y_predict))"
      ],
      "metadata": {
        "colab": {
          "base_uri": "https://localhost:8080/"
        },
        "id": "OZrslL7SbQaz",
        "outputId": "2ac88088-5c14-4584-8a5d-911139b0b5d7"
      },
      "execution_count": 122,
      "outputs": [
        {
          "output_type": "stream",
          "name": "stdout",
          "text": [
            "Accuracy: 0.94375\n"
          ]
        }
      ]
    },
    {
      "cell_type": "markdown",
      "metadata": {
        "id": "2AzDGbONGdM0"
      },
      "source": [
        "# Model Evaluation"
      ]
    },
    {
      "cell_type": "code",
      "source": [
        "#view class balance\n",
        "leads['Customer'].value_counts()"
      ],
      "metadata": {
        "id": "tgFGtPqsR-MZ",
        "outputId": "3430b752-1941-4f3a-854c-9a08f62e9959",
        "colab": {
          "base_uri": "https://localhost:8080/"
        }
      },
      "execution_count": 123,
      "outputs": [
        {
          "output_type": "execute_result",
          "data": {
            "text/plain": [
              "0    600\n",
              "1    200\n",
              "Name: Customer, dtype: int64"
            ]
          },
          "metadata": {},
          "execution_count": 123
        }
      ]
    },
    {
      "cell_type": "code",
      "metadata": {
        "id": "jhW7p9ltwKZe",
        "colab": {
          "base_uri": "https://localhost:8080/"
        },
        "outputId": "ea0a6053-c121-4463-bf99-bcf9e72a7cba"
      },
      "source": [
        "#confusion matrix\n",
        "from sklearn.metrics import confusion_matrix\n",
        "cm = confusion_matrix(y_test, y_predict)\n",
        "print(cm)"
      ],
      "execution_count": 124,
      "outputs": [
        {
          "output_type": "stream",
          "name": "stdout",
          "text": [
            "[[122   2]\n",
            " [  7  29]]\n"
          ]
        }
      ]
    },
    {
      "cell_type": "code",
      "source": [
        "import numpy as np\n",
        "import matplotlib.pyplot as plt\n",
        "import seaborn as sns\n",
        "%matplotlib inline\n",
        "\n",
        "cnf_matrix = metrics.confusion_matrix(y_test, y_predict)\n",
        "class_names=[0,1] # name  of classes\n",
        "fig, ax = plt.subplots()\n",
        "tick_marks = np.arange(len(class_names))\n",
        "plt.xticks(tick_marks, class_names)\n",
        "plt.yticks(tick_marks, class_names)\n",
        "\n",
        "# create confusion matrix via sns heatmap\n",
        "sns.heatmap(pd.DataFrame(cnf_matrix), annot=True, cmap=\"YlGnBu\" ,fmt='g')\n",
        "ax.xaxis.set_label_position(\"top\")\n",
        "plt.tight_layout()\n",
        "plt.title('Confusion matrix', y=1.1)\n",
        "plt.ylabel('Actual label')\n",
        "plt.xlabel('Predicted label')"
      ],
      "metadata": {
        "colab": {
          "base_uri": "https://localhost:8080/",
          "height": 343
        },
        "id": "BdQZzafYK0va",
        "outputId": "6da77eb2-d986-43b6-884e-b715d98c270c"
      },
      "execution_count": 125,
      "outputs": [
        {
          "output_type": "execute_result",
          "data": {
            "text/plain": [
              "Text(0.5, 257.44, 'Predicted label')"
            ]
          },
          "metadata": {},
          "execution_count": 125
        },
        {
          "output_type": "display_data",
          "data": {
            "image/png": "[encoded data removed]",
            "text/plain": [
              "<Figure size 432x288 with 2 Axes>"
            ]
          },
          "metadata": {
            "needs_background": "light"
          }
        }
      ]
    },
    {
      "cell_type": "code",
      "source": [
        "# print 10 random true and predicted responses\n",
        "print('True', y_test.values[0:11])\n",
        "print('Pred', y_pred_class[0:11])"
      ],
      "metadata": {
        "colab": {
          "base_uri": "https://localhost:8080/"
        },
        "id": "uzIvj2IzjyXM",
        "outputId": "42e102d5-d5f0-4a46-a2df-addada5540c6"
      },
      "execution_count": 126,
      "outputs": [
        {
          "output_type": "stream",
          "name": "stdout",
          "text": [
            "True [0 1 0 0 0 0 0 0 0 0 1]\n",
            "Pred [0 1 0 0 0 0 0 0 0 0 1]\n"
          ]
        }
      ]
    },
    {
      "cell_type": "code",
      "source": [
        "# Compute evaluation Metrics\n",
        "from sklearn.metrics import precision_score\n",
        "from sklearn.metrics import recall_score\n",
        "\n",
        "print(\"Accuracy:\",metrics.accuracy_score(y_test, y_predict))\n",
        "print(\"Precision:\",metrics.precision_score(y_test, y_predict))\n",
        "print(\"Recall:\",metrics.recall_score(y_test, y_predict))"
      ],
      "metadata": {
        "colab": {
          "base_uri": "https://localhost:8080/"
        },
        "id": "gwUvUSa9MauR",
        "outputId": "ce1a2140-005f-4214-dcc0-e096d2bac6f0"
      },
      "execution_count": 127,
      "outputs": [
        {
          "output_type": "stream",
          "name": "stdout",
          "text": [
            "Accuracy: 0.94375\n",
            "Precision: 0.9354838709677419\n",
            "Recall: 0.8055555555555556\n"
          ]
        }
      ]
    },
    {
      "cell_type": "code",
      "metadata": {
        "colab": {
          "base_uri": "https://localhost:8080/"
        },
        "id": "hyWpkW0jCIJv",
        "outputId": "dee4eaa2-c7b6-4a16-e4e6-0cf050270521"
      },
      "source": [
        "#f1 score\n",
        "from sklearn import metrics\n",
        "\n",
        "print(\"F1 Score: %2f\" % metrics.f1_score(y_test, y_predict))"
      ],
      "execution_count": 128,
      "outputs": [
        {
          "output_type": "stream",
          "name": "stdout",
          "text": [
            "F1 Score: 0.865672\n"
          ]
        }
      ]
    },
    {
      "cell_type": "code",
      "metadata": {
        "id": "koER2B-5DSy2",
        "colab": {
          "base_uri": "https://localhost:8080/",
          "height": 295
        },
        "outputId": "a2c86715-f84d-47fe-8a77-3a1acee735d7"
      },
      "source": [
        "#plot ROC curve  \n",
        "\n",
        "y_pred_proba = model.predict_proba(X_test)[::,1]\n",
        "fpr, tpr, _ = metrics.roc_curve(y_test,  y_pred_proba)\n",
        "\n",
        "auc = metrics.roc_auc_score(y_test, y_pred_proba)\n",
        "\n",
        "plt.plot(fpr,tpr,label=\"AUC=\"+str(auc))\n",
        "plt.plot([0, 1], [0, 1], \"k--\")\n",
        "plt.legend(loc=4)\n",
        "plt.title(\"ROC Curve\")\n",
        "plt.xlabel(\"False Positive Rate\")\n",
        "plt.ylabel(\"True Positive Rate\")\n",
        "plt.show()"
      ],
      "execution_count": 129,
      "outputs": [
        {
          "output_type": "display_data",
          "data": {
            "image/png": "[encoded data removed]",
            "text/plain": [
              "<Figure size 432x288 with 1 Axes>"
            ]
          },
          "metadata": {
            "needs_background": "light"
          }
        }
      ]
    },
    {
      "cell_type": "code",
      "source": [
        "#calculate AUC score\n",
        "from sklearn.metrics import roc_auc_score\n",
        "auc = roc_auc_score(y_test, y_pred_proba)\n",
        "auc"
      ],
      "metadata": {
        "colab": {
          "base_uri": "https://localhost:8080/"
        },
        "id": "OtSuSYATfLzw",
        "outputId": "1659df76-bbbf-47ab-8303-18005877a23a"
      },
      "execution_count": 52,
      "outputs": [
        {
          "output_type": "execute_result",
          "data": {
            "text/plain": [
              "0.9710550887021474"
            ]
          },
          "metadata": {},
          "execution_count": 52
        }
      ]
    },
    {
      "cell_type": "code",
      "source": [
        "#http://lijiancheng0614.github.io/scikit-learn/modules/generated/sklearn.metrics.precision_recall_curve.html\n",
        "\n",
        "from sklearn.metrics import precision_recall_curve\n",
        "\n",
        "#calculate precision and recall\n",
        "precision, recall, thresholds = precision_recall_curve(y_test, y_pred_proba)\n",
        "\n",
        "#create precision recall curve\n",
        "fig, ax = plt.subplots()\n",
        "ax.plot(recall, precision, color='purple')\n",
        "\n",
        "#add axis labels to plot\n",
        "ax.set_title('Precision-Recall Curve')\n",
        "ax.set_ylabel('Precision')\n",
        "ax.set_xlabel('Recall')\n",
        "\n",
        "#display plot\n",
        "plt.show()"
      ],
      "metadata": {
        "colab": {
          "base_uri": "https://localhost:8080/",
          "height": 295
        },
        "id": "exOvRd3aYWbB",
        "outputId": "0a51ae47-23ce-4d51-cf96-1ae7df39a37c"
      },
      "execution_count": 53,
      "outputs": [
        {
          "output_type": "display_data",
          "data": {
            "image/png": "[encoded data removed]",
            "text/plain": [
              "<Figure size 432x288 with 1 Axes>"
            ]
          },
          "metadata": {
            "needs_background": "light"
          }
        }
      ]
    },
    {
      "cell_type": "code",
      "source": [
        "from sklearn.metrics import average_precision_score\n",
        "\n",
        "round(average_precision_score(y_test, y_pred_proba), 2)\n"
      ],
      "metadata": {
        "colab": {
          "base_uri": "https://localhost:8080/"
        },
        "id": "pBA6XCXoV6N4",
        "outputId": "dffd7518-46e4-456d-d714-419ca2db7450"
      },
      "execution_count": 54,
      "outputs": [
        {
          "output_type": "execute_result",
          "data": {
            "text/plain": [
              "0.93"
            ]
          },
          "metadata": {},
          "execution_count": 54
        }
      ]
    },
    {
      "cell_type": "code",
      "source": [
        "precision, recall, thresholds = precision_recall_curve(y_test, y_pred_proba)\n",
        "\n",
        "thresholds"
      ],
      "metadata": {
        "colab": {
          "base_uri": "https://localhost:8080/"
        },
        "id": "WJkGZzTJatlE",
        "outputId": "8b980abc-9d69-4fa6-89c3-e57e0fefc250"
      },
      "execution_count": 55,
      "outputs": [
        {
          "output_type": "execute_result",
          "data": {
            "text/plain": [
              "array([0.01605149, 0.01688796, 0.01745092, 0.01788891, 0.02203311,\n",
              "       0.02336585, 0.02496742, 0.02551952, 0.03067739, 0.03194789,\n",
              "       0.03328638, 0.03518345, 0.04111642, 0.04195005, 0.0529069 ,\n",
              "       0.05712645, 0.05749762, 0.06065557, 0.06749697, 0.07392911,\n",
              "       0.0757285 , 0.08759624, 0.09446103, 0.09877054, 0.10181973,\n",
              "       0.1144622 , 0.11954688, 0.12513238, 0.12550848, 0.14836703,\n",
              "       0.14890309, 0.1499794 , 0.1593457 , 0.16807234, 0.18855333,\n",
              "       0.20533421, 0.2191172 , 0.23530655, 0.26910068, 0.28697357,\n",
              "       0.31188613, 0.33062757, 0.35184605, 0.3804168 , 0.38087061,\n",
              "       0.43023354, 0.45170938, 0.46784234, 0.5096738 , 0.54389613,\n",
              "       0.55790824, 0.56328464, 0.57653327, 0.60660291, 0.6160078 ,\n",
              "       0.64496494, 0.67018042, 0.72706088, 0.78206556, 0.79246878,\n",
              "       0.81008286, 0.8171124 , 0.83819426, 0.85847491, 0.86087474,\n",
              "       0.90012621, 0.90871131, 0.94757024, 0.95935281, 0.97125533,\n",
              "       0.97689156, 0.97701534, 0.984096  , 0.98426256, 0.98463186,\n",
              "       0.98901798, 0.99064601, 0.99274111, 0.99554469, 0.99581713,\n",
              "       0.99757303, 0.99793287, 0.99931119, 0.99993392, 0.99999845])"
            ]
          },
          "metadata": {},
          "execution_count": 55
        }
      ]
    },
    {
      "cell_type": "code",
      "source": [
        "thresholds"
      ],
      "metadata": {
        "colab": {
          "base_uri": "https://localhost:8080/"
        },
        "id": "h2MNYG2ka-hk",
        "outputId": "23b1f970-ddea-4610-810b-d38a86fd1f19"
      },
      "execution_count": 56,
      "outputs": [
        {
          "output_type": "execute_result",
          "data": {
            "text/plain": [
              "array([0.01605149, 0.01688796, 0.01745092, 0.01788891, 0.02203311,\n",
              "       0.02336585, 0.02496742, 0.02551952, 0.03067739, 0.03194789,\n",
              "       0.03328638, 0.03518345, 0.04111642, 0.04195005, 0.0529069 ,\n",
              "       0.05712645, 0.05749762, 0.06065557, 0.06749697, 0.07392911,\n",
              "       0.0757285 , 0.08759624, 0.09446103, 0.09877054, 0.10181973,\n",
              "       0.1144622 , 0.11954688, 0.12513238, 0.12550848, 0.14836703,\n",
              "       0.14890309, 0.1499794 , 0.1593457 , 0.16807234, 0.18855333,\n",
              "       0.20533421, 0.2191172 , 0.23530655, 0.26910068, 0.28697357,\n",
              "       0.31188613, 0.33062757, 0.35184605, 0.3804168 , 0.38087061,\n",
              "       0.43023354, 0.45170938, 0.46784234, 0.5096738 , 0.54389613,\n",
              "       0.55790824, 0.56328464, 0.57653327, 0.60660291, 0.6160078 ,\n",
              "       0.64496494, 0.67018042, 0.72706088, 0.78206556, 0.79246878,\n",
              "       0.81008286, 0.8171124 , 0.83819426, 0.85847491, 0.86087474,\n",
              "       0.90012621, 0.90871131, 0.94757024, 0.95935281, 0.97125533,\n",
              "       0.97689156, 0.97701534, 0.984096  , 0.98426256, 0.98463186,\n",
              "       0.98901798, 0.99064601, 0.99274111, 0.99554469, 0.99581713,\n",
              "       0.99757303, 0.99793287, 0.99931119, 0.99993392, 0.99999845])"
            ]
          },
          "metadata": {},
          "execution_count": 56
        }
      ]
    },
    {
      "cell_type": "code",
      "source": [
        "from sklearn.metrics import balanced_accuracy_score\n",
        "\n",
        "threshold = []\n",
        "accuracy = []\n",
        "\n",
        "for p in np.unique(model.predict_proba(X_train)[:,1]):\n",
        "  threshold.append(p)\n",
        "  y_pred = (model.predict_proba(X_train)[:,1] >= p).astype(int)\n",
        "  accuracy.append(balanced_accuracy_score(y_train,y_pred))"
      ],
      "metadata": {
        "id": "iTloBCBGWGQM"
      },
      "execution_count": 57,
      "outputs": []
    },
    {
      "cell_type": "code",
      "source": [
        "plt.scatter(threshold,accuracy)\n",
        "plt.xlabel(\"Threshold\")\n",
        "plt.ylabel(\"Balanced accuracy\")\n",
        "plt.show()"
      ],
      "metadata": {
        "colab": {
          "base_uri": "https://localhost:8080/",
          "height": 279
        },
        "id": "B1SJ1ujFXQos",
        "outputId": "e83a2719-f447-4206-e508-ea90daef4d7e"
      },
      "execution_count": 58,
      "outputs": [
        {
          "output_type": "display_data",
          "data": {
            "image/png": "[encoded data removed]",
            "text/plain": [
              "<Figure size 432x288 with 1 Axes>"
            ]
          },
          "metadata": {
            "needs_background": "light"
          }
        }
      ]
    },
    {
      "cell_type": "markdown",
      "metadata": {
        "id": "Q9WLk_t0HqQt"
      },
      "source": [
        "#Oversampling / Imbalanced Class\n"
      ]
    },
    {
      "cell_type": "code",
      "source": [
        "#instantiate the the classifier with weighted classes\n",
        "\n",
        "model = LogisticRegression(random_state=0, class_weight='balanced')"
      ],
      "metadata": {
        "id": "gZEbp5paiRf0"
      },
      "execution_count": null,
      "outputs": []
    },
    {
      "cell_type": "code",
      "source": [
        "#oversampling\n",
        "\n",
        "\n",
        "print(\"Before OverSampling, counts of label '1': {}\".format(sum(y_train == 1)))\n",
        "print(\"Before OverSampling, counts of label '0': {} \\n\".format(sum(y_train == 0)))\n",
        "  \n",
        "# import SMOTE module from imblearn library\n",
        "# pip install imblearn (if you don't have imblearn in your system)\n",
        "from imblearn.over_sampling import SMOTE\n",
        "oversample = SMOTE()\n",
        "X_train_res, y_train_res = oversample.fit_resample(X, y)\n",
        "\n",
        "  \n",
        "print('After OverSampling, the shape of train_X: {}'.format(X_train_res.shape))\n",
        "print('After OverSampling, the shape of train_y: {} \\n'.format(y_train_res.shape))\n",
        "  \n",
        "print(\"After OverSampling, counts of label '1': {}\".format(sum(y_train_res == 1)))\n",
        "print(\"After OverSampling, counts of label '0': {}\".format(sum(y_train_res == 0)))"
      ],
      "metadata": {
        "colab": {
          "base_uri": "https://localhost:8080/"
        },
        "id": "W9ySYfV2Ei-b",
        "outputId": "8e766359-6ddd-44a4-efc9-f27ff1f63170"
      },
      "execution_count": null,
      "outputs": [
        {
          "output_type": "stream",
          "name": "stdout",
          "text": [
            "Before OverSampling, counts of label '1': 161\n",
            "Before OverSampling, counts of label '0': 479 \n",
            "\n",
            "After OverSampling, the shape of train_X: (1200, 58)\n",
            "After OverSampling, the shape of train_y: (1200,) \n",
            "\n",
            "After OverSampling, counts of label '1': 600\n",
            "After OverSampling, counts of label '0': 600\n"
          ]
        }
      ]
    },
    {
      "cell_type": "code",
      "source": [
        "lr1 = LogisticRegression()\n",
        "lr1.fit(X_train_res, y_train_res.ravel())\n",
        "predictions = lr1.predict(X_test)\n",
        "\n",
        "\n",
        "# print classification report\n",
        "print(classification_report(y_test, predictions))"
      ],
      "metadata": {
        "colab": {
          "base_uri": "https://localhost:8080/"
        },
        "id": "V4tZp_6nFwAd",
        "outputId": "a1a284d6-0666-405b-fa14-2dbe28ff1bb4"
      },
      "execution_count": null,
      "outputs": [
        {
          "output_type": "stream",
          "name": "stdout",
          "text": [
            "              precision    recall  f1-score   support\n",
            "\n",
            "           0       0.00      0.00      0.00       121\n",
            "           1       0.24      1.00      0.39        39\n",
            "\n",
            "    accuracy                           0.24       160\n",
            "   macro avg       0.12      0.50      0.20       160\n",
            "weighted avg       0.06      0.24      0.10       160\n",
            "\n"
          ]
        },
        {
          "output_type": "stream",
          "name": "stderr",
          "text": [
            "/usr/local/lib/python3.7/dist-packages/sklearn/metrics/_classification.py:1308: UndefinedMetricWarning: Precision and F-score are ill-defined and being set to 0.0 in labels with no predicted samples. Use `zero_division` parameter to control this behavior.\n",
            "  _warn_prf(average, modifier, msg_start, len(result))\n",
            "/usr/local/lib/python3.7/dist-packages/sklearn/metrics/_classification.py:1308: UndefinedMetricWarning: Precision and F-score are ill-defined and being set to 0.0 in labels with no predicted samples. Use `zero_division` parameter to control this behavior.\n",
            "  _warn_prf(average, modifier, msg_start, len(result))\n",
            "/usr/local/lib/python3.7/dist-packages/sklearn/metrics/_classification.py:1308: UndefinedMetricWarning: Precision and F-score are ill-defined and being set to 0.0 in labels with no predicted samples. Use `zero_division` parameter to control this behavior.\n",
            "  _warn_prf(average, modifier, msg_start, len(result))\n"
          ]
        }
      ]
    },
    {
      "cell_type": "code",
      "source": [
        "from sklearn.utils import resample\n",
        "\n",
        "# Separate majority and minority classes\n",
        "leads_majority = data4[data4.Customer==0]\n",
        "leads_minority = data4[data4.Customer==1]"
      ],
      "metadata": {
        "id": "RiKFAuFNKS3G"
      },
      "execution_count": null,
      "outputs": []
    },
    {
      "cell_type": "code",
      "source": [
        "leads_minority_upsampled = resample(leads_minority, \n",
        "                                    replace=True,\n",
        "                                    n_samples=600,\n",
        "                                    random_state=123)"
      ],
      "metadata": {
        "id": "5geDn8TtKs0M"
      },
      "execution_count": null,
      "outputs": []
    },
    {
      "cell_type": "code",
      "source": [
        "leads_upsampled = pd.concat([leads_majority, leads_minority_upsampled])\n",
        "\n",
        "leads_upsampled.Customer.value_counts()"
      ],
      "metadata": {
        "colab": {
          "base_uri": "https://localhost:8080/"
        },
        "id": "_dCYJhDdLAMq",
        "outputId": "d554e2f5-769e-4e5e-b476-1381c74b913d"
      },
      "execution_count": null,
      "outputs": [
        {
          "output_type": "execute_result",
          "data": {
            "text/plain": [
              "1    600\n",
              "0    600\n",
              "Name: Customer, dtype: int64"
            ]
          },
          "metadata": {},
          "execution_count": 290
        }
      ]
    },
    {
      "cell_type": "code",
      "source": [
        "b = leads_upsampled.Customer\n",
        "A = leads_upsampled.drop('Customer', axis = 1)\n",
        "\n",
        "clf_0 = LogisticRegression().fit(A, b)\n",
        "\n",
        "pred_y_0 = clf_0.predict(A)"
      ],
      "metadata": {
        "id": "3j20Q8LLLmNd"
      },
      "execution_count": null,
      "outputs": []
    },
    {
      "cell_type": "code",
      "source": [
        "#instantiate the the classifier with weighted classes\n",
        "\n",
        "model = LogisticRegression(random_state=0, class_weight='balanced')"
      ],
      "metadata": {
        "id": "bYf3CoEEiOSW"
      },
      "execution_count": null,
      "outputs": []
    },
    {
      "cell_type": "markdown",
      "metadata": {
        "id": "2Xxl5EdRlq4t"
      },
      "source": [
        "# Model Tuning (adjusting threshold)"
      ]
    },
    {
      "cell_type": "code",
      "source": [
        "import matplotlib.pyplot as plt\n",
        "\n",
        "#histogram of predicted probabilities\n",
        "\n",
        "#8 bins\n",
        "plt.hist(y_pred_proba, bins=8)\n",
        "\n",
        "plt.xlim(0,1)\n",
        "plt.title('Histogram of predicted probabilities')\n",
        "plt.xlabel('Predicted probability of becoming customer')\n",
        "plt.ylabel('Frequency')"
      ],
      "metadata": {
        "colab": {
          "base_uri": "https://localhost:8080/",
          "height": 313
        },
        "id": "jc3u-Sn3lVDO",
        "outputId": "cb9c8151-ee6e-452e-d928-9950db757d9b"
      },
      "execution_count": 130,
      "outputs": [
        {
          "output_type": "execute_result",
          "data": {
            "text/plain": [
              "Text(0, 0.5, 'Frequency')"
            ]
          },
          "metadata": {},
          "execution_count": 130
        },
        {
          "output_type": "display_data",
          "data": {
            "image/png": "[encoded data removed]",
            "text/plain": [
              "<Figure size 432x288 with 1 Axes>"
            ]
          },
          "metadata": {
            "needs_background": "light"
          }
        }
      ]
    },
    {
      "cell_type": "markdown",
      "source": [
        "https://www.infinitycodex.in/how-to-find-optimal-threshold-value-and\n",
        "\n"
      ],
      "metadata": {
        "id": "LF-6nb2JN5id"
      }
    },
    {
      "cell_type": "code",
      "source": [
        "from sklearn.linear_model import LogisticRegression\n",
        "from sklearn.metrics import accuracy_score, confusion_matrix, recall_score, roc_auc_score, precision_score, classification_report\n",
        "\n",
        "model2 = LogisticRegression(random_state=0, class_weight='balanced')\n",
        "model2.fit(X_train, y_train)\n",
        "\n",
        "THRESHOLD = 0.40\n",
        "preds = np.where(model2.predict_proba(X_test)[:,1] > THRESHOLD, 1, 0)\n",
        "\n",
        "print(\"Accuracy:\", metrics.accuracy_score(y_test, preds))\n",
        "print(\"Precision:\", metrics.precision_score(y_test, preds))\n",
        "print(\"Recall:\", metrics.recall_score(y_test, preds))\n",
        "print(\"F1 Score: %2f\" % metrics.f1_score(y_test, preds))\n",
        "\n",
        "print()"
      ],
      "metadata": {
        "colab": {
          "base_uri": "https://localhost:8080/"
        },
        "id": "1VGLPhjPeBEq",
        "outputId": "8f864402-9423-4ec1-fa51-e61c0b27d82f"
      },
      "execution_count": 131,
      "outputs": [
        {
          "output_type": "stream",
          "name": "stdout",
          "text": [
            "Accuracy: 0.93125\n",
            "Precision: 0.8048780487804879\n",
            "Recall: 0.9166666666666666\n",
            "F1 Score: 0.857143\n",
            "\n"
          ]
        },
        {
          "output_type": "stream",
          "name": "stderr",
          "text": [
            "/usr/local/lib/python3.7/dist-packages/sklearn/linear_model/_logistic.py:818: ConvergenceWarning: lbfgs failed to converge (status=1):\n",
            "STOP: TOTAL NO. of ITERATIONS REACHED LIMIT.\n",
            "\n",
            "Increase the number of iterations (max_iter) or scale the data as shown in:\n",
            "    https://scikit-learn.org/stable/modules/preprocessing.html\n",
            "Please also refer to the documentation for alternative solver options:\n",
            "    https://scikit-learn.org/stable/modules/linear_model.html#logistic-regression\n",
            "  extra_warning_msg=_LOGISTIC_SOLVER_CONVERGENCE_MSG,\n"
          ]
        }
      ]
    },
    {
      "cell_type": "code",
      "source": [
        "print(metrics.roc_auc_score(y_test, preds))"
      ],
      "metadata": {
        "colab": {
          "base_uri": "https://localhost:8080/"
        },
        "id": "wEgK_KpdmOML",
        "outputId": "da1f9cde-f1a6-43d9-b477-9339d241daba"
      },
      "execution_count": 132,
      "outputs": [
        {
          "output_type": "stream",
          "name": "stdout",
          "text": [
            "0.9260752688172043\n"
          ]
        }
      ]
    },
    {
      "cell_type": "code",
      "source": [
        "print(confusion_matrix(y_test,preds))\n"
      ],
      "metadata": {
        "colab": {
          "base_uri": "https://localhost:8080/"
        },
        "id": "DLEkzT9ZQDrw",
        "outputId": "bda17c94-e253-4791-fbb9-0fdee9395a6a"
      },
      "execution_count": 133,
      "outputs": [
        {
          "output_type": "stream",
          "name": "stdout",
          "text": [
            "[[116   8]\n",
            " [  3  33]]\n"
          ]
        }
      ]
    },
    {
      "cell_type": "markdown",
      "source": [
        "# Feature Importance\n"
      ],
      "metadata": {
        "id": "ftOSZQez6Jrt"
      }
    },
    {
      "cell_type": "markdown",
      "source": [
        "A negative coefficient means that higher value of the corresponding feature pushes the classification more towards the negative class"
      ],
      "metadata": {
        "id": "5QBYRqTE7Ku2"
      }
    },
    {
      "cell_type": "code",
      "source": [
        "#https://sefiks.com/2021/01/06/feature-importance-in-logistic-regression/\n",
        "\n",
        "feature_names = ['CompanySize', 'WebsiteVisits', 'EmailScore', 'Adwords', 'Print', 'Tradeshow', 'Webinar', 'Colorado', 'Connecticut', 'Delaware', 'Georgia', 'Illinois', 'Indiana', 'Maryland', 'Montana', 'New Jersey', 'New York', 'North Carolina', 'Ohio', 'Oregon', 'Pennsylvania', 'Vermont', 'Virginia', 'Wyoming']\n",
        "\n",
        "feature_importance = pd.DataFrame(feature_names, columns = [\"Feature\"])\n",
        "feature_importance[\"Importance\"] = model2.coef_[0]\n",
        "feature_importance = feature_importance.sort_values(by = [\"Importance\"], ascending=False)\n",
        " \n",
        "from sklearn.linear_model import LogisticRegression\n",
        "ax = feature_importance.plot.barh(x='Feature', y='Importance', figsize=(20,15))\n",
        "plt.show()"
      ],
      "metadata": {
        "colab": {
          "base_uri": "https://localhost:8080/",
          "height": 863
        },
        "id": "3X23QoyhHWNw",
        "outputId": "1e528d71-1f1c-4597-858a-532605e0fb86"
      },
      "execution_count": 134,
      "outputs": [
        {
          "output_type": "display_data",
          "data": {
            "image/png": "[encoded data removed]",
            "text/plain": [
              "<Figure size 1440x1080 with 1 Axes>"
            ]
          },
          "metadata": {
            "needs_background": "light"
          }
        }
      ]
    },
    {
      "cell_type": "code",
      "source": [
        "print(feature_importance)"
      ],
      "metadata": {
        "id": "JNa-GsscBbcv",
        "outputId": "694844e8-c663-41c4-823b-c705df7982b2",
        "colab": {
          "base_uri": "https://localhost:8080/"
        }
      },
      "execution_count": 135,
      "outputs": [
        {
          "output_type": "stream",
          "name": "stdout",
          "text": [
            "           Feature  Importance\n",
            "15      New Jersey    1.569070\n",
            "8      Connecticut    1.334573\n",
            "13        Maryland    0.639734\n",
            "20    Pennsylvania    0.479966\n",
            "3          Adwords    0.411433\n",
            "9         Delaware    0.382895\n",
            "12         Indiana    0.373630\n",
            "1    WebsiteVisits    0.268829\n",
            "2       EmailScore    0.226609\n",
            "6          Webinar    0.174208\n",
            "21         Vermont    0.061402\n",
            "22        Virginia    0.025771\n",
            "4            Print    0.012281\n",
            "23         Wyoming   -0.024990\n",
            "16        New York   -0.054008\n",
            "0      CompanySize   -0.085444\n",
            "10         Georgia   -0.125823\n",
            "18            Ohio   -0.190021\n",
            "19          Oregon   -0.419282\n",
            "5        Tradeshow   -0.426111\n",
            "7         Colorado   -0.562494\n",
            "17  North Carolina   -1.001184\n",
            "11        Illinois   -1.053188\n",
            "14         Montana   -1.264241\n"
          ]
        }
      ]
    },
    {
      "cell_type": "code",
      "source": [
        "print('Top positive features')\n",
        "print(feature_importance[feature_importance.Importance > .32])\n",
        "\n",
        "print()\n",
        "print('Top negative features')\n",
        "print(feature_importance[feature_importance.Importance < -.32])"
      ],
      "metadata": {
        "colab": {
          "base_uri": "https://localhost:8080/"
        },
        "id": "OPhWWkIHIhZy",
        "outputId": "15a65ab8-69e1-4846-f5bf-4c067446af5f"
      },
      "execution_count": 136,
      "outputs": [
        {
          "output_type": "stream",
          "name": "stdout",
          "text": [
            "Top positive features\n",
            "         Feature  Importance\n",
            "15    New Jersey    1.569070\n",
            "8    Connecticut    1.334573\n",
            "13      Maryland    0.639734\n",
            "20  Pennsylvania    0.479966\n",
            "3        Adwords    0.411433\n",
            "9       Delaware    0.382895\n",
            "12       Indiana    0.373630\n",
            "\n",
            "Top negative features\n",
            "           Feature  Importance\n",
            "19          Oregon   -0.419282\n",
            "5        Tradeshow   -0.426111\n",
            "7         Colorado   -0.562494\n",
            "17  North Carolina   -1.001184\n",
            "11        Illinois   -1.053188\n",
            "14         Montana   -1.264241\n"
          ]
        }
      ]
    },
    {
      "cell_type": "markdown",
      "metadata": {
        "id": "b5uggj9SIehe"
      },
      "source": [
        "# Delivery of Model"
      ]
    },
    {
      "cell_type": "code",
      "source": [
        "#Creating an influx of new leads to put the model into practice \n",
        "\n",
        "New_observations = [[99, 10, 34, 1, 0, 0, 0, 0, 1, 0, 0, 0, 0, 0, 0, 0, 0, 0, 0, 0, 0, 0, 0, 0], \n",
        "                    [120, 11, 17, 0, 1, 0, 0, 0, 0, 0, 0, 0, 0, 0, 0, 0, 0, 0, 0, 0, 1, 0, 0, 0],\n",
        "                    [115, 14, 20, 0, 0, 1, 0, 0, 0, 0, 0, 0, 0, 0, 0, 0, 0, 0, 0, 0, 0, 1, 0, 0],\n",
        "                    [77, 8, 14, 1, 0, 0, 0, 0, 1, 0, 0, 0, 0, 0, 0, 0, 0, 0, 0, 0, 0, 0, 0, 0]]"
      ],
      "metadata": {
        "id": "XcdhZ0lGJ8ym"
      },
      "execution_count": 137,
      "outputs": []
    },
    {
      "cell_type": "code",
      "source": [
        "#append lead score to new leads and sort by lead score\n",
        "\n",
        "new_leads = pd.DataFrame(New_observations, columns = ['Company Size', 'Website Visits', 'Email Score', 'Adwords', 'Print', 'Tradeshow', 'Webinar', 'Colorado', 'Connecticut', 'Delaware', 'Georgia', 'Illinois', 'Indiana', 'Maryland', 'Montana', 'New Jersey', 'New York', 'North Carolina', 'Ohio', 'Oregon', 'Pennsylvania', 'Vermont', 'Virginia', 'Wyoming'])\n",
        "\n",
        "new_leads['Lead Score'] = model2.predict_proba(New_observations)[::,1]\n",
        "new_leads['Name'] = ['Bob Vance of Vance Refrigeration', 'Larry Meyers', 'Lackawanna County', 'Aaron Grandy']\n",
        "new_leads.drop(['Adwords', 'Print', 'Tradeshow', 'Webinar', 'Colorado', 'Connecticut', 'Delaware', 'Georgia', 'Illinois', 'Indiana', 'Maryland', 'Montana', 'New Jersey', 'New York', 'North Carolina', 'Ohio', 'Oregon', 'Pennsylvania', 'Vermont', 'Virginia', 'Wyoming'], axis=1)\n",
        "new_leads_column_names = [\"Name\", \"Lead Score\", \"Company Size\", \"Website Visits\", \"Email Score\"]\n",
        "\n",
        "new_leads = new_leads.reindex(columns=new_leads_column_names)\n",
        "\n",
        "new_leads.sort_values(by='Lead Score', ascending=False)"
      ],
      "metadata": {
        "colab": {
          "base_uri": "https://localhost:8080/",
          "height": 210
        },
        "id": "tMC05qsG_D4U",
        "outputId": "ba2ef1f4-a056-48b8-cd7f-bd148822e59a"
      },
      "execution_count": 138,
      "outputs": [
        {
          "output_type": "stream",
          "name": "stderr",
          "text": [
            "/usr/local/lib/python3.7/dist-packages/sklearn/base.py:446: UserWarning: X does not have valid feature names, but LogisticRegression was fitted with feature names\n",
            "  \"X does not have valid feature names, but\"\n"
          ]
        },
        {
          "output_type": "execute_result",
          "data": {
            "text/html": [
              "\n",
              "  <div id=\"df-466b8d7b-b3b9-4f62-a3df-2d444f0856eb\">\n",
              "    <div class=\"colab-df-container\">\n",
              "      <div>\n",
              "<style scoped>\n",
              "    .dataframe tbody tr th:only-of-type {\n",
              "        vertical-align: middle;\n",
              "    }\n",
              "\n",
              "    .dataframe tbody tr th {\n",
              "        vertical-align: top;\n",
              "    }\n",
              "\n",
              "    .dataframe thead th {\n",
              "        text-align: right;\n",
              "    }\n",
              "</style>\n",
              "<table border=\"1\" class=\"dataframe\">\n",
              "  <thead>\n",
              "    <tr style=\"text-align: right;\">\n",
              "      <th></th>\n",
              "      <th>Name</th>\n",
              "      <th>Lead Score</th>\n",
              "      <th>Company Size</th>\n",
              "      <th>Website Visits</th>\n",
              "      <th>Email Score</th>\n",
              "    </tr>\n",
              "  </thead>\n",
              "  <tbody>\n",
              "    <tr>\n",
              "      <th>0</th>\n",
              "      <td>Bob Vance of Vance Refrigeration</td>\n",
              "      <td>0.984001</td>\n",
              "      <td>99</td>\n",
              "      <td>10</td>\n",
              "      <td>34</td>\n",
              "    </tr>\n",
              "    <tr>\n",
              "      <th>3</th>\n",
              "      <td>Aaron Grandy</td>\n",
              "      <td>0.716885</td>\n",
              "      <td>77</td>\n",
              "      <td>8</td>\n",
              "      <td>14</td>\n",
              "    </tr>\n",
              "    <tr>\n",
              "      <th>2</th>\n",
              "      <td>Lackawanna County</td>\n",
              "      <td>0.189093</td>\n",
              "      <td>115</td>\n",
              "      <td>14</td>\n",
              "      <td>20</td>\n",
              "    </tr>\n",
              "    <tr>\n",
              "      <th>1</th>\n",
              "      <td>Larry Meyers</td>\n",
              "      <td>0.074987</td>\n",
              "      <td>120</td>\n",
              "      <td>11</td>\n",
              "      <td>17</td>\n",
              "    </tr>\n",
              "  </tbody>\n",
              "</table>\n",
              "</div>\n",
              "      <button class=\"colab-df-convert\" onclick=\"convertToInteractive('df-466b8d7b-b3b9-4f62-a3df-2d444f0856eb')\"\n",
              "              title=\"Convert this dataframe to an interactive table.\"\n",
              "              style=\"display:none;\">\n",
              "        \n",
              "  <svg xmlns=\"http://www.w3.org/2000/svg\" height=\"24px\"viewBox=\"0 0 24 24\"\n",
              "       width=\"24px\">\n",
              "    <path d=\"M0 0h24v24H0V0z\" fill=\"none\"/>\n",
              "    <path d=\"M18.56 5.44l.94 2.06.94-2.06 2.06-.94-2.06-.94-.94-2.06-.94 2.06-2.06.94zm-11 1L8.5 8.5l.94-2.06 2.06-.94-2.06-.94L8.5 2.5l-.94 2.06-2.06.94zm10 10l.94 2.06.94-2.06 2.06-.94-2.06-.94-.94-2.06-.94 2.06-2.06.94z\"/><path d=\"M17.41 7.96l-1.37-1.37c-.4-.4-.92-.59-1.43-.59-.52 0-1.04.2-1.43.59L10.3 9.45l-7.72 7.72c-.78.78-.78 2.05 0 2.83L4 21.41c.39.39.9.59 1.41.59.51 0 1.02-.2 1.41-.59l7.78-7.78 2.81-2.81c.8-.78.8-2.07 0-2.86zM5.41 20L4 18.59l7.72-7.72 1.47 1.35L5.41 20z\"/>\n",
              "  </svg>\n",
              "      </button>\n",
              "      \n",
              "  <style>\n",
              "    .colab-df-container {\n",
              "      display:flex;\n",
              "      flex-wrap:wrap;\n",
              "      gap: 12px;\n",
              "    }\n",
              "\n",
              "    .colab-df-convert {\n",
              "      background-color: #E8F0FE;\n",
              "      border: none;\n",
              "      border-radius: 50%;\n",
              "      cursor: pointer;\n",
              "      display: none;\n",
              "      fill: #1967D2;\n",
              "      height: 32px;\n",
              "      padding: 0 0 0 0;\n",
              "      width: 32px;\n",
              "    }\n",
              "\n",
              "    .colab-df-convert:hover {\n",
              "      background-color: #E2EBFA;\n",
              "      box-shadow: 0px 1px 2px rgba(60, 64, 67, 0.3), 0px 1px 3px 1px rgba(60, 64, 67, 0.15);\n",
              "      fill: #174EA6;\n",
              "    }\n",
              "\n",
              "    [theme=dark] .colab-df-convert {\n",
              "      background-color: #3B4455;\n",
              "      fill: #D2E3FC;\n",
              "    }\n",
              "\n",
              "    [theme=dark] .colab-df-convert:hover {\n",
              "      background-color: #434B5C;\n",
              "      box-shadow: 0px 1px 3px 1px rgba(0, 0, 0, 0.15);\n",
              "      filter: drop-shadow(0px 1px 2px rgba(0, 0, 0, 0.3));\n",
              "      fill: #FFFFFF;\n",
              "    }\n",
              "  </style>\n",
              "\n",
              "      <script>\n",
              "        const buttonEl =\n",
              "          document.querySelector('#df-466b8d7b-b3b9-4f62-a3df-2d444f0856eb button.colab-df-convert');\n",
              "        buttonEl.style.display =\n",
              "          google.colab.kernel.accessAllowed ? 'block' : 'none';\n",
              "\n",
              "        async function convertToInteractive(key) {\n",
              "          const element = document.querySelector('#df-466b8d7b-b3b9-4f62-a3df-2d444f0856eb');\n",
              "          const dataTable =\n",
              "            await google.colab.kernel.invokeFunction('convertToInteractive',\n",
              "                                                     [key], {});\n",
              "          if (!dataTable) return;\n",
              "\n",
              "          const docLinkHtml = 'Like what you see? Visit the ' +\n",
              "            '<a target=\"_blank\" href=https://colab.research.google.com/notebooks/data_table.ipynb>data table notebook</a>'\n",
              "            + ' to learn more about interactive tables.';\n",
              "          element.innerHTML = '';\n",
              "          dataTable['output_type'] = 'display_data';\n",
              "          await google.colab.output.renderOutput(dataTable, element);\n",
              "          const docLink = document.createElement('div');\n",
              "          docLink.innerHTML = docLinkHtml;\n",
              "          element.appendChild(docLink);\n",
              "        }\n",
              "      </script>\n",
              "    </div>\n",
              "  </div>\n",
              "  "
            ],
            "text/plain": [
              "                               Name  Lead Score  ...  Website Visits  Email Score\n",
              "0  Bob Vance of Vance Refrigeration    0.984001  ...              10           34\n",
              "3                      Aaron Grandy    0.716885  ...               8           14\n",
              "2                 Lackawanna County    0.189093  ...              14           20\n",
              "1                      Larry Meyers    0.074987  ...              11           17\n",
              "\n",
              "[4 rows x 5 columns]"
            ]
          },
          "metadata": {},
          "execution_count": 138
        }
      ]
    },
    {
      "cell_type": "code",
      "source": [
        "model2.predict(New_observations)"
      ],
      "metadata": {
        "colab": {
          "base_uri": "https://localhost:8080/"
        },
        "id": "efzGFWzFKgF4",
        "outputId": "29f48032-5c38-4a64-d62e-c4256512e1be"
      },
      "execution_count": 476,
      "outputs": [
        {
          "output_type": "stream",
          "name": "stderr",
          "text": [
            "/usr/local/lib/python3.7/dist-packages/sklearn/base.py:446: UserWarning: X does not have valid feature names, but LogisticRegression was fitted with feature names\n",
            "  \"X does not have valid feature names, but\"\n"
          ]
        },
        {
          "output_type": "execute_result",
          "data": {
            "text/plain": [
              "array([1, 0, 0, 1])"
            ]
          },
          "metadata": {},
          "execution_count": 476
        }
      ]
    },
    {
      "cell_type": "markdown",
      "metadata": {
        "id": "lVUHLdufGe2y"
      },
      "source": [
        "# Extra/ Test Code\n"
      ]
    },
    {
      "cell_type": "markdown",
      "metadata": {
        "id": "HCcMM0cjluMK"
      },
      "source": [
        "**hyperparameters**\n",
        "\n",
        "each algorithm has its own specific hyperparameters\n",
        "\n",
        "Hyperparameters: cannot be directly learned from the regular training process. They are usually fixed before the actual training process begins. These parameters express important properties of the model such as its complexity or how fast it should learn.\n",
        "\n",
        "**Choose the optimal hyperparemeters that lead to the best performance**"
      ]
    },
    {
      "cell_type": "code",
      "source": [
        "  def threshold_from_optimal_f_score(self, X, y):\n",
        "        y_scores = LogisticRegression.predict_proba(self, X)[:, 1]\n",
        "        precisions, recalls, thresholds = precision_recall_curve(y, y_scores)\n",
        "\n",
        "        fscores = (2 * precisions * recalls) / (precisions + recalls)\n",
        "        \n",
        "        optimal_idx = np.argmax(fscores)\n",
        "        \n",
        "        return thresholds[optimal_idx], fscores[optimal_idx]"
      ],
      "metadata": {
        "id": "AxyOapBpPgSo"
      },
      "execution_count": null,
      "outputs": []
    },
    {
      "cell_type": "code",
      "source": [
        "lrt = LogisticRegressionWithThreshold()\n",
        "lrt.fit(X_train, y_train)\n",
        "\n",
        "threshold, optimal_f1_score = lrt.threshold_from_optimal_f_score(X_train, y_train)\n",
        "y_pred = lrt.predict(X_train, threshold)\n",
        "\n",
        "threshold, optimal_f1_score"
      ],
      "metadata": {
        "colab": {
          "base_uri": "https://localhost:8080/",
          "height": 235
        },
        "id": "lEvo1A1vPlOE",
        "outputId": "c084c474-34b0-4528-ccf6-a721fb6d29b1"
      },
      "execution_count": null,
      "outputs": [
        {
          "output_type": "error",
          "ename": "NameError",
          "evalue": "ignored",
          "traceback": [
            "\u001b[0;31m---------------------------------------------------------------------------\u001b[0m",
            "\u001b[0;31mNameError\u001b[0m                                 Traceback (most recent call last)",
            "\u001b[0;32m<ipython-input-100-2187f41b3bea>\u001b[0m in \u001b[0;36m<module>\u001b[0;34m()\u001b[0m\n\u001b[0;32m----> 1\u001b[0;31m \u001b[0mlrt\u001b[0m \u001b[0;34m=\u001b[0m \u001b[0mLogisticRegressionWithThreshold\u001b[0m\u001b[0;34m(\u001b[0m\u001b[0;34m)\u001b[0m\u001b[0;34m\u001b[0m\u001b[0;34m\u001b[0m\u001b[0m\n\u001b[0m\u001b[1;32m      2\u001b[0m \u001b[0mlrt\u001b[0m\u001b[0;34m.\u001b[0m\u001b[0mfit\u001b[0m\u001b[0;34m(\u001b[0m\u001b[0mX_train\u001b[0m\u001b[0;34m,\u001b[0m \u001b[0my_train\u001b[0m\u001b[0;34m)\u001b[0m\u001b[0;34m\u001b[0m\u001b[0;34m\u001b[0m\u001b[0m\n\u001b[1;32m      3\u001b[0m \u001b[0;34m\u001b[0m\u001b[0m\n\u001b[1;32m      4\u001b[0m \u001b[0mthreshold\u001b[0m\u001b[0;34m,\u001b[0m \u001b[0moptimal_f1_score\u001b[0m \u001b[0;34m=\u001b[0m \u001b[0mlrt\u001b[0m\u001b[0;34m.\u001b[0m\u001b[0mthreshold_from_optimal_f_score\u001b[0m\u001b[0;34m(\u001b[0m\u001b[0mX_train\u001b[0m\u001b[0;34m,\u001b[0m \u001b[0my_train\u001b[0m\u001b[0;34m)\u001b[0m\u001b[0;34m\u001b[0m\u001b[0;34m\u001b[0m\u001b[0m\n\u001b[1;32m      5\u001b[0m \u001b[0my_pred\u001b[0m \u001b[0;34m=\u001b[0m \u001b[0mlrt\u001b[0m\u001b[0;34m.\u001b[0m\u001b[0mpredict\u001b[0m\u001b[0;34m(\u001b[0m\u001b[0mX_train\u001b[0m\u001b[0;34m,\u001b[0m \u001b[0mthreshold\u001b[0m\u001b[0;34m)\u001b[0m\u001b[0;34m\u001b[0m\u001b[0;34m\u001b[0m\u001b[0m\n",
            "\u001b[0;31mNameError\u001b[0m: name 'LogisticRegressionWithThreshold' is not defined"
          ]
        }
      ]
    },
    {
      "cell_type": "markdown",
      "metadata": {
        "id": "D1XaBxHEmVWZ"
      },
      "source": [
        "**Gridsearch CV**\n",
        "\n",
        "In GridSearchCV approach (a brutesearch approach), machine learning model is evaluated for a range of hyperparameter values. This approach is called GridSearchCV, because it searches for best set of hyperparameters from a grid of hyperparameters values."
      ]
    },
    {
      "cell_type": "markdown",
      "metadata": {
        "id": "c-zVd_L_miqH"
      },
      "source": [
        "![GRIDSEARCH.PNG](data:image/png;base64,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)"
      ]
    },
    {
      "cell_type": "markdown",
      "metadata": {
        "id": "3clxZk73pB7h"
      },
      "source": [
        "The power of GridSearchCV really comes into play when you're tuning multiple hyperparameters, as then the algorithm tries out all possible combinations of hyperparameters to identify the best combination."
      ]
    },
    {
      "cell_type": "code",
      "metadata": {
        "id": "sZqd0bL3nGON"
      },
      "source": [
        "from sklearn.model_selection import GridSearchCV\n",
        "\n",
        "#build the array / hyperparameter grid based on the certain hyperparemeter, in this instance \"n_estimators\"\n",
        "param_grid = {'n_estimators': np.arange(10,51)}\n",
        "\n",
        "# Call GridSearch CV; returns an object you can fit to the data with GridsearchCV\n",
        "clf_cv = GridsearchCV(logisticregression, param_grid)\n",
        "\n",
        "#fit it to data\n",
        "clf_cv.fit(X, y)\n",
        "\n",
        "#retrieve optimal combo\n",
        "print(clf_cv.best_params_)\n",
        "\n",
        "#see the score of the model with this hyperparameter\n",
        "clf_cv.best_score_"
      ],
      "execution_count": null,
      "outputs": []
    },
    {
      "cell_type": "code",
      "source": [
        "#showcase confusion matrix\n",
        "\n",
        "# Function to create a confusion matrix \n",
        "def conf_matrix(y_test, y_predict):    \n",
        "    \n",
        "    # Creating a confusion matrix\n",
        "    con_mat = confusion_matrix(y_test, y_predict)\n",
        "    con_mat = pd.DataFrame(con_mat, range(2), range(2))\n",
        "   \n",
        "    #Ploting the confusion matrix\n",
        "    plt.figure(figsize=(6,6))\n",
        "    sns.set(font_scale=1.5) \n",
        "    sns.heatmap(con_mat, annot=True, annot_kws={\"size\": 16}, fmt='g', cmap='Blues', cbar=False)\n",
        "    \n",
        "#Calling function \n",
        "conf_matrix(y_test, y_predict)"
      ],
      "metadata": {
        "colab": {
          "base_uri": "https://localhost:8080/",
          "height": 384
        },
        "id": "ib6xxGJaNT32",
        "outputId": "30b007d2-20cc-4496-ace0-51b7983b6577"
      },
      "execution_count": null,
      "outputs": [
        {
          "output_type": "display_data",
          "data": {
            "image/png": "[encoded data removed]",
            "text/plain": [
              "<Figure size 432x432 with 1 Axes>"
            ]
          },
          "metadata": {
            "needs_background": "light"
          }
        }
      ]
    },
    {
      "cell_type": "markdown",
      "metadata": {
        "id": "TAH9nVpG45S-"
      },
      "source": [
        "**BROKE UP THE GOOD EXAMPLE ABOVE INTO PARTS BELOW**"
      ]
    },
    {
      "cell_type": "code",
      "metadata": {
        "id": "ycsnR4wIvy6b"
      },
      "source": [
        "#load libraries\n",
        "from sklearn.model_selection import train_test_split\n",
        "from sklearn.linear_model import LogisticRegression\n",
        "from sklearn import metrics\n",
        "from sklearn.metrics import confusion_matrix, classification_report"
      ],
      "execution_count": null,
      "outputs": []
    },
    {
      "cell_type": "code",
      "metadata": {
        "id": "w38gY5Vc4LVm"
      },
      "source": [
        "# Import Logistic regression\n",
        "from sklearn.linear_model import LogisticRegression\n",
        "\n",
        "# Instantiate the classifier\n",
        "model = LogisticRegression()"
      ],
      "execution_count": null,
      "outputs": []
    },
    {
      "cell_type": "code",
      "source": [
        "#instantiate the the classifier with weighted classes\n",
        "\n",
        "model = LogisticRegression(random_state=0, class_weight='balanced')"
      ],
      "metadata": {
        "id": "V79RyW8gzxxI"
      },
      "execution_count": null,
      "outputs": []
    },
    {
      "cell_type": "code",
      "metadata": {
        "id": "3ZOvzMkj4PdQ"
      },
      "source": [
        "#create feature/input variable(s)\n",
        "X = data3.drop('Customer', axis=1)\n",
        "\n",
        "#create target variable\n",
        "y = data3['Customer']"
      ],
      "execution_count": null,
      "outputs": []
    },
    {
      "cell_type": "code",
      "metadata": {
        "id": "XvpGkW_c4gcM"
      },
      "source": [
        "from sklearn.model_selection import train_test_split\n",
        "\n",
        "#create training and testing sets \n",
        "X_train, X_test, y_train, y_test = train_test_split(X, y, test_size=0.2)"
      ],
      "execution_count": null,
      "outputs": []
    },
    {
      "cell_type": "code",
      "metadata": {
        "colab": {
          "base_uri": "https://localhost:8080/"
        },
        "id": "9Ci7CrcI4mBg",
        "outputId": "710f3c88-bae3-4dd8-cbce-72e2ff5a114d"
      },
      "source": [
        "#fit to training data\n",
        "model.fit(X_train, y_train)"
      ],
      "execution_count": null,
      "outputs": [
        {
          "output_type": "stream",
          "name": "stderr",
          "text": [
            "/usr/local/lib/python3.7/dist-packages/sklearn/linear_model/_logistic.py:818: ConvergenceWarning: lbfgs failed to converge (status=1):\n",
            "STOP: TOTAL NO. of ITERATIONS REACHED LIMIT.\n",
            "\n",
            "Increase the number of iterations (max_iter) or scale the data as shown in:\n",
            "    https://scikit-learn.org/stable/modules/preprocessing.html\n",
            "Please also refer to the documentation for alternative solver options:\n",
            "    https://scikit-learn.org/stable/modules/linear_model.html#logistic-regression\n",
            "  extra_warning_msg=_LOGISTIC_SOLVER_CONVERGENCE_MSG,\n"
          ]
        },
        {
          "output_type": "execute_result",
          "data": {
            "text/plain": [
              "LogisticRegression(class_weight='balanced', random_state=0)"
            ]
          },
          "metadata": {},
          "execution_count": 473
        }
      ]
    },
    {
      "cell_type": "code",
      "metadata": {
        "id": "yQbVmXXPv3nm",
        "colab": {
          "base_uri": "https://localhost:8080/"
        },
        "outputId": "8956b417-6bd0-474c-d5ea-8441b14e3148"
      },
      "source": [
        "#make predictions\n",
        "model.predict(X_test)"
      ],
      "execution_count": null,
      "outputs": [
        {
          "output_type": "execute_result",
          "data": {
            "text/plain": [
              "array([1, 0, 0, 0, 1, 0, 0, 0, 1, 0, 0, 0, 0, 0, 0, 0, 0, 0, 0, 0, 0, 0,\n",
              "       0, 1, 0, 1, 0, 0, 0, 0, 0, 1, 0, 0, 1, 0, 0, 0, 0, 0, 0, 1, 0, 1,\n",
              "       0, 0, 0, 0, 0, 1, 1, 1, 1, 0, 0, 0, 1, 0, 0, 0, 0, 0, 1, 0, 1, 0,\n",
              "       0, 0, 0, 0, 0, 0, 0, 1, 0, 0, 0, 0, 0, 1, 0, 0, 1, 0, 0, 0, 0, 0,\n",
              "       1, 1, 1, 1, 0, 0, 0, 0, 1, 0, 0, 0, 0, 0, 1, 0, 0, 0, 0, 0, 0, 0,\n",
              "       0, 0, 1, 0, 0, 0, 0, 0, 0, 0, 0, 0, 0, 0, 0, 1, 0, 0, 0, 1, 1, 0,\n",
              "       0, 0, 0, 0, 0, 0, 0, 1, 0, 0, 0, 0, 0, 1, 0, 0, 0, 0, 0, 0, 0, 0,\n",
              "       0, 0, 0, 1, 0, 0])"
            ]
          },
          "metadata": {},
          "execution_count": 466
        }
      ]
    },
    {
      "cell_type": "code",
      "metadata": {
        "id": "Hz_SKLCO_xU-"
      },
      "source": [
        "y_predict = model.predict(X_test)"
      ],
      "execution_count": null,
      "outputs": []
    },
    {
      "cell_type": "code",
      "metadata": {
        "colab": {
          "base_uri": "https://localhost:8080/"
        },
        "id": "MEOdHleWC3Ni",
        "outputId": "3b9b94ac-5e72-4cea-911c-8dc55cf38e32"
      },
      "source": [
        "#generating probabilities in sklearn\n",
        "\n",
        "model.predict_proba(X_test)[:,1]\n"
      ],
      "execution_count": null,
      "outputs": [
        {
          "output_type": "execute_result",
          "data": {
            "text/plain": [
              "array([1.00000000e+00, 1.61810324e-18, 6.22995886e-11, 6.76558107e-19,\n",
              "       9.77886662e-01, 2.27162520e-10, 2.65865893e-03, 6.09098867e-06,\n",
              "       1.00000000e+00, 1.03508966e-05, 1.00766469e-13, 1.21574797e-05,\n",
              "       1.98502265e-16, 3.91622380e-11, 2.61877543e-15, 4.12212000e-10,\n",
              "       3.71683567e-13, 1.92484982e-12, 2.08835116e-17, 1.01914299e-08,\n",
              "       2.07735975e-19, 3.78954999e-18, 1.07245576e-07, 1.00000000e+00,\n",
              "       4.04549208e-16, 1.00000000e+00, 1.42287013e-05, 1.15774639e-14,\n",
              "       9.04817398e-15, 2.52326640e-04, 1.57460655e-19, 9.99986148e-01,\n",
              "       1.56093969e-04, 1.03129294e-07, 1.00000000e+00, 8.75130551e-10,\n",
              "       1.00491947e-11, 1.66766721e-20, 1.00076436e-07, 1.21207261e-05,\n",
              "       4.66064233e-11, 1.00000000e+00, 6.43951919e-12, 1.00000000e+00,\n",
              "       1.51051287e-19, 2.84127738e-13, 1.46146977e-15, 3.43957839e-16,\n",
              "       1.72572516e-13, 9.99999858e-01, 9.99999840e-01, 1.00000000e+00,\n",
              "       9.98697507e-01, 1.58281989e-07, 7.48504238e-08, 7.77517250e-12,\n",
              "       1.00000000e+00, 4.08560628e-12, 3.87424698e-13, 1.50626505e-15,\n",
              "       1.26065315e-04, 7.14203824e-20, 1.00000000e+00, 2.41297034e-09,\n",
              "       1.00000000e+00, 7.51803320e-19, 3.23060550e-05, 2.65973950e-02,\n",
              "       1.89069594e-11, 7.84886291e-11, 7.84100678e-12, 3.52680642e-06,\n",
              "       5.80930509e-07, 1.00000000e+00, 3.07807800e-12, 1.11299207e-12,\n",
              "       1.35232002e-19, 3.10114852e-19, 9.99625116e-10, 1.00000000e+00,\n",
              "       2.25912400e-19, 3.56498626e-11, 1.00000000e+00, 1.84169673e-07,\n",
              "       8.44558198e-07, 7.54515055e-19, 2.18743241e-19, 3.87696988e-12,\n",
              "       1.00000000e+00, 1.00000000e+00, 1.00000000e+00, 1.00000000e+00,\n",
              "       2.15798570e-03, 1.92347477e-09, 8.63858512e-11, 3.40565828e-12,\n",
              "       1.00000000e+00, 4.51657467e-12, 1.55626395e-14, 1.12453578e-18,\n",
              "       9.61786875e-10, 6.29212480e-11, 1.00000000e+00, 1.76906690e-09,\n",
              "       4.55906526e-19, 4.76708758e-12, 1.98134179e-19, 2.87969181e-14,\n",
              "       4.52543053e-09, 2.80560582e-21, 1.09127393e-17, 2.73821822e-19,\n",
              "       1.00000000e+00, 4.64002376e-11, 8.79925839e-13, 1.07985455e-18,\n",
              "       2.31708617e-09, 1.68996812e-07, 3.34762964e-08, 1.24340168e-16,\n",
              "       5.00643355e-08, 3.77501419e-09, 3.63859842e-06, 6.71960841e-16,\n",
              "       3.10200264e-06, 1.00000000e+00, 1.33662373e-10, 2.25762992e-20,\n",
              "       4.28007726e-23, 1.00000000e+00, 1.00000000e+00, 1.02349251e-15,\n",
              "       1.59050505e-18, 4.07110510e-11, 1.01052408e-15, 2.02043340e-09,\n",
              "       8.14623846e-15, 3.96836550e-09, 4.98132588e-12, 1.00000000e+00,\n",
              "       1.98513817e-22, 1.37787761e-04, 1.86364068e-15, 9.65064474e-20,\n",
              "       1.80709980e-11, 1.00000000e+00, 1.98263656e-21, 6.30672593e-15,\n",
              "       6.89329726e-11, 6.55314675e-14, 1.26465842e-05, 4.79014901e-11,\n",
              "       2.01761955e-07, 4.51357003e-12, 5.98523486e-04, 1.04857605e-13,\n",
              "       1.18032702e-10, 9.70377180e-01, 2.57117671e-07, 2.68655013e-17])"
            ]
          },
          "metadata": {},
          "execution_count": 468
        }
      ]
    },
    {
      "cell_type": "code",
      "metadata": {
        "colab": {
          "base_uri": "https://localhost:8080/"
        },
        "id": "Sh7C_1CL5sIp",
        "outputId": "25185160-11c9-43e0-89d9-2104e4c7a1f8"
      },
      "source": [
        "#compute model accuracy \n",
        "\n",
        "model.score(X_train, y_train)\n",
        "print(model.score(X_test, y_test))"
      ],
      "execution_count": null,
      "outputs": [
        {
          "output_type": "stream",
          "name": "stdout",
          "text": [
            "1.0\n"
          ]
        }
      ]
    },
    {
      "cell_type": "code",
      "source": [
        "#print classification report \n",
        "\n",
        "print(classification_report(y_test, y_predict))"
      ],
      "metadata": {
        "colab": {
          "base_uri": "https://localhost:8080/"
        },
        "id": "l4oJxf0dDrup",
        "outputId": "74426381-6f93-4444-ad2b-12cdaa34f055"
      },
      "execution_count": null,
      "outputs": [
        {
          "output_type": "stream",
          "name": "stdout",
          "text": [
            "              precision    recall  f1-score   support\n",
            "\n",
            "           0       1.00      1.00      1.00       128\n",
            "           1       1.00      1.00      1.00        32\n",
            "\n",
            "    accuracy                           1.00       160\n",
            "   macro avg       1.00      1.00      1.00       160\n",
            "weighted avg       1.00      1.00      1.00       160\n",
            "\n"
          ]
        }
      ]
    },
    {
      "cell_type": "markdown",
      "source": [
        "**FIT SIMPLE MODEL #2**"
      ],
      "metadata": {
        "id": "5Sj8IgfOTaI6"
      }
    },
    {
      "cell_type": "code",
      "source": [
        "#load contents from Sklearn\n",
        "from sklearn.model_selection import train_test_split\n",
        "from sklearn.linear_model import LogisticRegression\n",
        "from sklearn import metrics\n",
        "\n",
        "# Instantiate the classifier\n",
        "model = LogisticRegression()\n",
        "\n",
        "#convert to binary\n",
        "data2['Customer'] = data2['Customer'].replace({'Yes' : 1, 'No': 0})\n",
        "\n",
        "#create feature/input variable(s)\n",
        "X = data2.drop(['Customer', 'ID', 'PhoneNumber', 'LeadSource', 'State' ] , axis=1)\n",
        "\n",
        "#create target variable\n",
        "y = leads['Customer']"
      ],
      "metadata": {
        "id": "TzNdYEHSTeZq"
      },
      "execution_count": null,
      "outputs": []
    },
    {
      "cell_type": "code",
      "source": [
        "#create training and testing sets \n",
        "X_train, X_test, y_train, y_test = train_test_split(X, y, test_size=0.2)\n",
        "\n",
        "#fit to training data\n",
        "model.fit(X_train, y_train)\n",
        "\n",
        "#make predictions\n",
        "y_predict = model.predict(X_test)\n",
        "\n",
        "y_predict"
      ],
      "metadata": {
        "colab": {
          "base_uri": "https://localhost:8080/"
        },
        "id": "wh3i156mUj8b",
        "outputId": "13f4ebf6-7f0c-4f61-e615-bd4f967d583f"
      },
      "execution_count": null,
      "outputs": [
        {
          "output_type": "execute_result",
          "data": {
            "text/plain": [
              "array(['No', 'Yes', 'Yes', 'Yes', 'No', 'No', 'No', 'Yes', 'No', 'No',\n",
              "       'No', 'No', 'Yes', 'No', 'Yes', 'Yes', 'No', 'No', 'No', 'No',\n",
              "       'No', 'No', 'No', 'No', 'Yes', 'No', 'Yes', 'No', 'No', 'Yes',\n",
              "       'No', 'No', 'No', 'No', 'No', 'No', 'No', 'No', 'No', 'Yes', 'No',\n",
              "       'No', 'No', 'No', 'No', 'No', 'Yes', 'No', 'Yes', 'No', 'No', 'No',\n",
              "       'Yes', 'No', 'Yes', 'Yes', 'No', 'No', 'No', 'No', 'Yes', 'No',\n",
              "       'Yes', 'No', 'No', 'No', 'Yes', 'Yes', 'No', 'No', 'No', 'No',\n",
              "       'Yes', 'Yes', 'No', 'No', 'No', 'No', 'Yes', 'No', 'Yes', 'No',\n",
              "       'No', 'Yes', 'No', 'No', 'Yes', 'No', 'Yes', 'Yes', 'No', 'No',\n",
              "       'Yes', 'Yes', 'No', 'Yes', 'Yes', 'Yes', 'No', 'Yes', 'No', 'Yes',\n",
              "       'No', 'No', 'Yes', 'Yes', 'Yes', 'Yes', 'Yes', 'No', 'No', 'No',\n",
              "       'No', 'No', 'No', 'No', 'Yes', 'No', 'No', 'Yes', 'No', 'No',\n",
              "       'Yes', 'No', 'No', 'No', 'No', 'No', 'No', 'No', 'No', 'No', 'Yes',\n",
              "       'No', 'No', 'No', 'No', 'No', 'No', 'No', 'No', 'No', 'No', 'No',\n",
              "       'Yes', 'No', 'No', 'Yes', 'No', 'Yes', 'No', 'No', 'No', 'Yes',\n",
              "       'No', 'No', 'No', 'No', 'Yes', 'No'], dtype=object)"
            ]
          },
          "metadata": {},
          "execution_count": 308
        }
      ]
    },
    {
      "cell_type": "code",
      "source": [
        "#generating probabilities in sklearn\n",
        "model.predict_proba(X_test)[:,1]\n",
        "\n",
        "#compute model accuracy \n",
        "model.score(X_train, y_train)\n",
        "print(model.score(X_test, y_test))"
      ],
      "metadata": {
        "colab": {
          "base_uri": "https://localhost:8080/"
        },
        "id": "eqOQPHmmUoKc",
        "outputId": "88310f61-b733-4030-aee2-21ee474f9a61"
      },
      "execution_count": null,
      "outputs": [
        {
          "output_type": "stream",
          "name": "stdout",
          "text": [
            "0.99375\n"
          ]
        }
      ]
    },
    {
      "cell_type": "code",
      "source": [
        "from sklearn.metrics import confusion_matrix\n",
        "\n",
        "cm = confusion_matrix(y_test, y_predict)\n",
        "\n",
        "print(cm)"
      ],
      "metadata": {
        "colab": {
          "base_uri": "https://localhost:8080/"
        },
        "id": "EYOj-xBjUs8Q",
        "outputId": "ffb8e367-b885-466b-b28a-d1bd3188ba3a"
      },
      "execution_count": null,
      "outputs": [
        {
          "output_type": "stream",
          "name": "stdout",
          "text": [
            "[[110   0]\n",
            " [  1  49]]\n"
          ]
        }
      ]
    },
    {
      "cell_type": "code",
      "source": [
        "from sklearn import metrics\n",
        "\n",
        "auc_score = metrics.roc_auc_score(y_test, y_predict)\n",
        "\n",
        "print(\"AUC Score:\",\"{:.2f}\".format(auc_score))"
      ],
      "metadata": {
        "colab": {
          "base_uri": "https://localhost:8080/",
          "height": 380
        },
        "id": "i-PG8FDRVHet",
        "outputId": "4a28f8a5-8aea-4934-f63b-8cdc9b2edaec"
      },
      "execution_count": null,
      "outputs": [
        {
          "output_type": "error",
          "ename": "ValueError",
          "evalue": "ignored",
          "traceback": [
            "\u001b[0;31m---------------------------------------------------------------------------\u001b[0m",
            "\u001b[0;31mValueError\u001b[0m                                Traceback (most recent call last)",
            "\u001b[0;32m<ipython-input-312-accfeef8e79a>\u001b[0m in \u001b[0;36m<module>\u001b[0;34m()\u001b[0m\n\u001b[1;32m      1\u001b[0m \u001b[0;32mfrom\u001b[0m \u001b[0msklearn\u001b[0m \u001b[0;32mimport\u001b[0m \u001b[0mmetrics\u001b[0m\u001b[0;34m\u001b[0m\u001b[0;34m\u001b[0m\u001b[0m\n\u001b[1;32m      2\u001b[0m \u001b[0;34m\u001b[0m\u001b[0m\n\u001b[0;32m----> 3\u001b[0;31m \u001b[0mauc_score\u001b[0m \u001b[0;34m=\u001b[0m \u001b[0mmetrics\u001b[0m\u001b[0;34m.\u001b[0m\u001b[0mroc_auc_score\u001b[0m\u001b[0;34m(\u001b[0m\u001b[0my_test\u001b[0m\u001b[0;34m,\u001b[0m \u001b[0my_predict\u001b[0m\u001b[0;34m)\u001b[0m\u001b[0;34m\u001b[0m\u001b[0;34m\u001b[0m\u001b[0m\n\u001b[0m\u001b[1;32m      4\u001b[0m \u001b[0;34m\u001b[0m\u001b[0m\n\u001b[1;32m      5\u001b[0m \u001b[0mprint\u001b[0m\u001b[0;34m(\u001b[0m\u001b[0;34m\"AUC Score:\"\u001b[0m\u001b[0;34m,\u001b[0m\u001b[0;34m\"{:.2f}\"\u001b[0m\u001b[0;34m.\u001b[0m\u001b[0mformat\u001b[0m\u001b[0;34m(\u001b[0m\u001b[0mauc_score\u001b[0m\u001b[0;34m)\u001b[0m\u001b[0;34m)\u001b[0m\u001b[0;34m\u001b[0m\u001b[0;34m\u001b[0m\u001b[0m\n",
            "\u001b[0;32m/usr/local/lib/python3.7/dist-packages/sklearn/metrics/_ranking.py\u001b[0m in \u001b[0;36mroc_auc_score\u001b[0;34m(y_true, y_score, average, sample_weight, max_fpr, multi_class, labels)\u001b[0m\n\u001b[1;32m    544\u001b[0m     \u001b[0my_type\u001b[0m \u001b[0;34m=\u001b[0m \u001b[0mtype_of_target\u001b[0m\u001b[0;34m(\u001b[0m\u001b[0my_true\u001b[0m\u001b[0;34m)\u001b[0m\u001b[0;34m\u001b[0m\u001b[0;34m\u001b[0m\u001b[0m\n\u001b[1;32m    545\u001b[0m     \u001b[0my_true\u001b[0m \u001b[0;34m=\u001b[0m \u001b[0mcheck_array\u001b[0m\u001b[0;34m(\u001b[0m\u001b[0my_true\u001b[0m\u001b[0;34m,\u001b[0m \u001b[0mensure_2d\u001b[0m\u001b[0;34m=\u001b[0m\u001b[0;32mFalse\u001b[0m\u001b[0;34m,\u001b[0m \u001b[0mdtype\u001b[0m\u001b[0;34m=\u001b[0m\u001b[0;32mNone\u001b[0m\u001b[0;34m)\u001b[0m\u001b[0;34m\u001b[0m\u001b[0;34m\u001b[0m\u001b[0m\n\u001b[0;32m--> 546\u001b[0;31m     \u001b[0my_score\u001b[0m \u001b[0;34m=\u001b[0m \u001b[0mcheck_array\u001b[0m\u001b[0;34m(\u001b[0m\u001b[0my_score\u001b[0m\u001b[0;34m,\u001b[0m \u001b[0mensure_2d\u001b[0m\u001b[0;34m=\u001b[0m\u001b[0;32mFalse\u001b[0m\u001b[0;34m)\u001b[0m\u001b[0;34m\u001b[0m\u001b[0;34m\u001b[0m\u001b[0m\n\u001b[0m\u001b[1;32m    547\u001b[0m \u001b[0;34m\u001b[0m\u001b[0m\n\u001b[1;32m    548\u001b[0m     if y_type == \"multiclass\" or (\n",
            "\u001b[0;32m/usr/local/lib/python3.7/dist-packages/sklearn/utils/validation.py\u001b[0m in \u001b[0;36mcheck_array\u001b[0;34m(array, accept_sparse, accept_large_sparse, dtype, order, copy, force_all_finite, ensure_2d, allow_nd, ensure_min_samples, ensure_min_features, estimator)\u001b[0m\n\u001b[1;32m    736\u001b[0m                     \u001b[0marray\u001b[0m \u001b[0;34m=\u001b[0m \u001b[0marray\u001b[0m\u001b[0;34m.\u001b[0m\u001b[0mastype\u001b[0m\u001b[0;34m(\u001b[0m\u001b[0mdtype\u001b[0m\u001b[0;34m,\u001b[0m \u001b[0mcasting\u001b[0m\u001b[0;34m=\u001b[0m\u001b[0;34m\"unsafe\"\u001b[0m\u001b[0;34m,\u001b[0m \u001b[0mcopy\u001b[0m\u001b[0;34m=\u001b[0m\u001b[0;32mFalse\u001b[0m\u001b[0;34m)\u001b[0m\u001b[0;34m\u001b[0m\u001b[0;34m\u001b[0m\u001b[0m\n\u001b[1;32m    737\u001b[0m                 \u001b[0;32melse\u001b[0m\u001b[0;34m:\u001b[0m\u001b[0;34m\u001b[0m\u001b[0;34m\u001b[0m\u001b[0m\n\u001b[0;32m--> 738\u001b[0;31m                     \u001b[0marray\u001b[0m \u001b[0;34m=\u001b[0m \u001b[0mnp\u001b[0m\u001b[0;34m.\u001b[0m\u001b[0masarray\u001b[0m\u001b[0;34m(\u001b[0m\u001b[0marray\u001b[0m\u001b[0;34m,\u001b[0m \u001b[0morder\u001b[0m\u001b[0;34m=\u001b[0m\u001b[0morder\u001b[0m\u001b[0;34m,\u001b[0m \u001b[0mdtype\u001b[0m\u001b[0;34m=\u001b[0m\u001b[0mdtype\u001b[0m\u001b[0;34m)\u001b[0m\u001b[0;34m\u001b[0m\u001b[0;34m\u001b[0m\u001b[0m\n\u001b[0m\u001b[1;32m    739\u001b[0m             \u001b[0;32mexcept\u001b[0m \u001b[0mComplexWarning\u001b[0m \u001b[0;32mas\u001b[0m \u001b[0mcomplex_warning\u001b[0m\u001b[0;34m:\u001b[0m\u001b[0;34m\u001b[0m\u001b[0;34m\u001b[0m\u001b[0m\n\u001b[1;32m    740\u001b[0m                 raise ValueError(\n",
            "\u001b[0;32m/usr/local/lib/python3.7/dist-packages/numpy/core/_asarray.py\u001b[0m in \u001b[0;36masarray\u001b[0;34m(a, dtype, order)\u001b[0m\n\u001b[1;32m     81\u001b[0m \u001b[0;34m\u001b[0m\u001b[0m\n\u001b[1;32m     82\u001b[0m     \"\"\"\n\u001b[0;32m---> 83\u001b[0;31m     \u001b[0;32mreturn\u001b[0m \u001b[0marray\u001b[0m\u001b[0;34m(\u001b[0m\u001b[0ma\u001b[0m\u001b[0;34m,\u001b[0m \u001b[0mdtype\u001b[0m\u001b[0;34m,\u001b[0m \u001b[0mcopy\u001b[0m\u001b[0;34m=\u001b[0m\u001b[0;32mFalse\u001b[0m\u001b[0;34m,\u001b[0m \u001b[0morder\u001b[0m\u001b[0;34m=\u001b[0m\u001b[0morder\u001b[0m\u001b[0;34m)\u001b[0m\u001b[0;34m\u001b[0m\u001b[0;34m\u001b[0m\u001b[0m\n\u001b[0m\u001b[1;32m     84\u001b[0m \u001b[0;34m\u001b[0m\u001b[0m\n\u001b[1;32m     85\u001b[0m \u001b[0;34m\u001b[0m\u001b[0m\n",
            "\u001b[0;31mValueError\u001b[0m: could not convert string to float: 'No'"
          ]
        }
      ]
    },
    {
      "cell_type": "markdown",
      "metadata": {
        "id": "Zn1_stU5OjUd"
      },
      "source": [
        "**Feature Scaling**\n",
        "\n",
        "Standardization - centers the distribution around the mean, calculates the number of stadard deviations way from the mean each point is"
      ]
    },
    {
      "cell_type": "code",
      "metadata": {
        "colab": {
          "base_uri": "https://localhost:8080/",
          "height": 200
        },
        "id": "hjTqEgLoPi9A",
        "outputId": "b7012543-5c6b-4793-9a7c-973f6b9ce02f"
      },
      "source": [
        "data.head()"
      ],
      "execution_count": null,
      "outputs": [
        {
          "output_type": "execute_result",
          "data": {
            "text/html": [
              "<div>\n",
              "<style scoped>\n",
              "    .dataframe tbody tr th:only-of-type {\n",
              "        vertical-align: middle;\n",
              "    }\n",
              "\n",
              "    .dataframe tbody tr th {\n",
              "        vertical-align: top;\n",
              "    }\n",
              "\n",
              "    .dataframe thead th {\n",
              "        text-align: right;\n",
              "    }\n",
              "</style>\n",
              "<table border=\"1\" class=\"dataframe\">\n",
              "  <thead>\n",
              "    <tr style=\"text-align: right;\">\n",
              "      <th></th>\n",
              "      <th>Account_Length</th>\n",
              "      <th>Vmail_Message</th>\n",
              "      <th>Day_Mins</th>\n",
              "      <th>Eve_Mins</th>\n",
              "      <th>Night_Mins</th>\n",
              "      <th>Intl_Mins</th>\n",
              "      <th>CustServ_Calls</th>\n",
              "      <th>Churn</th>\n",
              "      <th>Intl_Plan</th>\n",
              "      <th>Vmail_Plan</th>\n",
              "      <th>Day_Calls</th>\n",
              "      <th>Day_Charge</th>\n",
              "      <th>Eve_Calls</th>\n",
              "      <th>Eve_Charge</th>\n",
              "      <th>Night_Calls</th>\n",
              "      <th>Night_Charge</th>\n",
              "      <th>Intl_Calls</th>\n",
              "      <th>Intl_Charge</th>\n",
              "      <th>State</th>\n",
              "      <th>Area_Code</th>\n",
              "      <th>Phone</th>\n",
              "    </tr>\n",
              "  </thead>\n",
              "  <tbody>\n",
              "    <tr>\n",
              "      <th>0</th>\n",
              "      <td>128</td>\n",
              "      <td>25</td>\n",
              "      <td>265.1</td>\n",
              "      <td>197.4</td>\n",
              "      <td>244.7</td>\n",
              "      <td>10.0</td>\n",
              "      <td>1</td>\n",
              "      <td>no</td>\n",
              "      <td>no</td>\n",
              "      <td>yes</td>\n",
              "      <td>110</td>\n",
              "      <td>45.07</td>\n",
              "      <td>99</td>\n",
              "      <td>16.78</td>\n",
              "      <td>91</td>\n",
              "      <td>11.01</td>\n",
              "      <td>3</td>\n",
              "      <td>2.70</td>\n",
              "      <td>KS</td>\n",
              "      <td>415</td>\n",
              "      <td>382-4657</td>\n",
              "    </tr>\n",
              "    <tr>\n",
              "      <th>1</th>\n",
              "      <td>107</td>\n",
              "      <td>26</td>\n",
              "      <td>161.6</td>\n",
              "      <td>195.5</td>\n",
              "      <td>254.4</td>\n",
              "      <td>13.7</td>\n",
              "      <td>1</td>\n",
              "      <td>no</td>\n",
              "      <td>no</td>\n",
              "      <td>yes</td>\n",
              "      <td>123</td>\n",
              "      <td>27.47</td>\n",
              "      <td>103</td>\n",
              "      <td>16.62</td>\n",
              "      <td>103</td>\n",
              "      <td>11.45</td>\n",
              "      <td>3</td>\n",
              "      <td>3.70</td>\n",
              "      <td>OH</td>\n",
              "      <td>415</td>\n",
              "      <td>371-7191</td>\n",
              "    </tr>\n",
              "    <tr>\n",
              "      <th>2</th>\n",
              "      <td>137</td>\n",
              "      <td>0</td>\n",
              "      <td>243.4</td>\n",
              "      <td>121.2</td>\n",
              "      <td>162.6</td>\n",
              "      <td>12.2</td>\n",
              "      <td>0</td>\n",
              "      <td>no</td>\n",
              "      <td>no</td>\n",
              "      <td>no</td>\n",
              "      <td>114</td>\n",
              "      <td>41.38</td>\n",
              "      <td>110</td>\n",
              "      <td>10.30</td>\n",
              "      <td>104</td>\n",
              "      <td>7.32</td>\n",
              "      <td>5</td>\n",
              "      <td>3.29</td>\n",
              "      <td>NJ</td>\n",
              "      <td>415</td>\n",
              "      <td>358-1921</td>\n",
              "    </tr>\n",
              "    <tr>\n",
              "      <th>3</th>\n",
              "      <td>84</td>\n",
              "      <td>0</td>\n",
              "      <td>299.4</td>\n",
              "      <td>61.9</td>\n",
              "      <td>196.9</td>\n",
              "      <td>6.6</td>\n",
              "      <td>2</td>\n",
              "      <td>no</td>\n",
              "      <td>yes</td>\n",
              "      <td>no</td>\n",
              "      <td>71</td>\n",
              "      <td>50.90</td>\n",
              "      <td>88</td>\n",
              "      <td>5.26</td>\n",
              "      <td>89</td>\n",
              "      <td>8.86</td>\n",
              "      <td>7</td>\n",
              "      <td>1.78</td>\n",
              "      <td>OH</td>\n",
              "      <td>408</td>\n",
              "      <td>375-9999</td>\n",
              "    </tr>\n",
              "    <tr>\n",
              "      <th>4</th>\n",
              "      <td>75</td>\n",
              "      <td>0</td>\n",
              "      <td>166.7</td>\n",
              "      <td>148.3</td>\n",
              "      <td>186.9</td>\n",
              "      <td>10.1</td>\n",
              "      <td>3</td>\n",
              "      <td>no</td>\n",
              "      <td>yes</td>\n",
              "      <td>no</td>\n",
              "      <td>113</td>\n",
              "      <td>28.34</td>\n",
              "      <td>122</td>\n",
              "      <td>12.61</td>\n",
              "      <td>121</td>\n",
              "      <td>8.41</td>\n",
              "      <td>3</td>\n",
              "      <td>2.73</td>\n",
              "      <td>OK</td>\n",
              "      <td>415</td>\n",
              "      <td>330-6626</td>\n",
              "    </tr>\n",
              "  </tbody>\n",
              "</table>\n",
              "</div>"
            ],
            "text/plain": [
              "   Account_Length  Vmail_Message  Day_Mins  ...  State  Area_Code     Phone\n",
              "0             128             25     265.1  ...     KS        415  382-4657\n",
              "1             107             26     161.6  ...     OH        415  371-7191\n",
              "2             137              0     243.4  ...     NJ        415  358-1921\n",
              "3              84              0     299.4  ...     OH        408  375-9999\n",
              "4              75              0     166.7  ...     OK        415  330-6626\n",
              "\n",
              "[5 rows x 21 columns]"
            ]
          },
          "metadata": {},
          "execution_count": 15
        }
      ]
    },
    {
      "cell_type": "code",
      "metadata": {
        "colab": {
          "base_uri": "https://localhost:8080/",
          "height": 200
        },
        "id": "0HLG2GK3QEdC",
        "outputId": "65ad832a-d1a9-419f-c8d8-acbea3830e5d"
      },
      "source": [
        "from sklearn.preprocessing import StandardScaler\n",
        "\n",
        "data_scaled = StandardScaler().fit_transform(data)"
      ],
      "execution_count": null,
      "outputs": [
        {
          "output_type": "error",
          "ename": "NameError",
          "evalue": "ignored",
          "traceback": [
            "\u001b[0;31m---------------------------------------------------------------------------\u001b[0m",
            "\u001b[0;31mNameError\u001b[0m                                 Traceback (most recent call last)",
            "\u001b[0;32m<ipython-input-43-4aa72ee0bcd1>\u001b[0m in \u001b[0;36m<module>\u001b[0;34m()\u001b[0m\n\u001b[1;32m      1\u001b[0m \u001b[0;32mfrom\u001b[0m \u001b[0msklearn\u001b[0m\u001b[0;34m.\u001b[0m\u001b[0mpreprocessing\u001b[0m \u001b[0;32mimport\u001b[0m \u001b[0mStandardScaler\u001b[0m\u001b[0;34m\u001b[0m\u001b[0;34m\u001b[0m\u001b[0m\n\u001b[1;32m      2\u001b[0m \u001b[0;34m\u001b[0m\u001b[0m\n\u001b[0;32m----> 3\u001b[0;31m \u001b[0mdata_scaled\u001b[0m \u001b[0;34m=\u001b[0m \u001b[0mStandardScaler\u001b[0m\u001b[0;34m(\u001b[0m\u001b[0;34m)\u001b[0m\u001b[0;34m.\u001b[0m\u001b[0mfit_transform\u001b[0m\u001b[0;34m(\u001b[0m\u001b[0mdata\u001b[0m\u001b[0;34m)\u001b[0m\u001b[0;34m\u001b[0m\u001b[0;34m\u001b[0m\u001b[0m\n\u001b[0m",
            "\u001b[0;31mNameError\u001b[0m: name 'data' is not defined"
          ]
        }
      ]
    },
    {
      "cell_type": "code",
      "source": [
        "from sklearn.metrics import confusion_matrix, classification_report\n",
        "\n",
        "print(classification_report(y_test, y_predict))"
      ],
      "metadata": {
        "colab": {
          "base_uri": "https://localhost:8080/"
        },
        "id": "RBiqnLtORGTr",
        "outputId": "4062e344-1922-4335-9b29-2e1faf2dd279"
      },
      "execution_count": null,
      "outputs": [
        {
          "output_type": "stream",
          "name": "stdout",
          "text": [
            "              precision    recall  f1-score   support\n",
            "\n",
            "           0       0.73      1.00      0.84       117\n",
            "           1       0.00      0.00      0.00        43\n",
            "\n",
            "    accuracy                           0.73       160\n",
            "   macro avg       0.37      0.50      0.42       160\n",
            "weighted avg       0.53      0.73      0.62       160\n",
            "\n"
          ]
        },
        {
          "output_type": "stream",
          "name": "stderr",
          "text": [
            "/usr/local/lib/python3.7/dist-packages/sklearn/metrics/_classification.py:1308: UndefinedMetricWarning: Precision and F-score are ill-defined and being set to 0.0 in labels with no predicted samples. Use `zero_division` parameter to control this behavior.\n",
            "  _warn_prf(average, modifier, msg_start, len(result))\n",
            "/usr/local/lib/python3.7/dist-packages/sklearn/metrics/_classification.py:1308: UndefinedMetricWarning: Precision and F-score are ill-defined and being set to 0.0 in labels with no predicted samples. Use `zero_division` parameter to control this behavior.\n",
            "  _warn_prf(average, modifier, msg_start, len(result))\n",
            "/usr/local/lib/python3.7/dist-packages/sklearn/metrics/_classification.py:1308: UndefinedMetricWarning: Precision and F-score are ill-defined and being set to 0.0 in labels with no predicted samples. Use `zero_division` parameter to control this behavior.\n",
            "  _warn_prf(average, modifier, msg_start, len(result))\n"
          ]
        }
      ]
    },
    {
      "cell_type": "code",
      "metadata": {
        "colab": {
          "base_uri": "https://localhost:8080/",
          "height": 351
        },
        "id": "_YQW2jMzGNDh",
        "outputId": "c4406077-435a-453f-b75d-a1e1e854ae06"
      },
      "source": [
        "metrics.plot_roc_curve(model,X_test, y_test)"
      ],
      "execution_count": null,
      "outputs": [
        {
          "output_type": "stream",
          "name": "stderr",
          "text": [
            "/usr/local/lib/python3.7/dist-packages/sklearn/utils/deprecation.py:87: FutureWarning: Function plot_roc_curve is deprecated; Function `plot_roc_curve` is deprecated in 1.0 and will be removed in 1.2. Use one of the class methods: RocCurveDisplay.from_predictions or RocCurveDisplay.from_estimator.\n",
            "  warnings.warn(msg, category=FutureWarning)\n"
          ]
        },
        {
          "output_type": "execute_result",
          "data": {
            "text/plain": [
              "<sklearn.metrics._plot.roc_curve.RocCurveDisplay at 0x7fedfdbdcc10>"
            ]
          },
          "metadata": {},
          "execution_count": 127
        },
        {
          "output_type": "display_data",
          "data": {
            "image/png": "[encoded data removed]",
            "text/plain": [
              "<Figure size 432x288 with 1 Axes>"
            ]
          },
          "metadata": {
            "needs_background": "light"
          }
        }
      ]
    },
    {
      "cell_type": "code",
      "source": [
        "\n",
        "clf.fit(features,leads['Customer'])\n",
        " \n",
        "feature_importance=pd.DataFrame({'feature':list(features.columns),'feature_importance':[abs(i) for i in clf.coef_[0]]})\n",
        "feature_importance.sort_values('feature_importance',ascending=False)\n",
        " \n",
        "#if you don't want the absolute value\n",
        "#feature_importance=pd.DataFrame({'feature':list(features.columns),'feature_importance':[i for i in model.coef_[0]]})\n",
        "#feature_importance.sort_values('feature_importance',ascending=False)"
      ],
      "metadata": {
        "colab": {
          "base_uri": "https://localhost:8080/",
          "height": 143
        },
        "id": "petad9Xg9RKQ",
        "outputId": "de27cdb1-44ad-4b68-895b-c7fd4d6b328e"
      },
      "execution_count": null,
      "outputs": [
        {
          "output_type": "execute_result",
          "data": {
            "text/html": [
              "\n",
              "  <div id=\"df-910da794-c334-4707-b097-4d8f890c2c8f\">\n",
              "    <div class=\"colab-df-container\">\n",
              "      <div>\n",
              "<style scoped>\n",
              "    .dataframe tbody tr th:only-of-type {\n",
              "        vertical-align: middle;\n",
              "    }\n",
              "\n",
              "    .dataframe tbody tr th {\n",
              "        vertical-align: top;\n",
              "    }\n",
              "\n",
              "    .dataframe thead th {\n",
              "        text-align: right;\n",
              "    }\n",
              "</style>\n",
              "<table border=\"1\" class=\"dataframe\">\n",
              "  <thead>\n",
              "    <tr style=\"text-align: right;\">\n",
              "      <th></th>\n",
              "      <th>feature</th>\n",
              "      <th>feature_importance</th>\n",
              "    </tr>\n",
              "  </thead>\n",
              "  <tbody>\n",
              "    <tr>\n",
              "      <th>2</th>\n",
              "      <td>Print</td>\n",
              "      <td>1.015622</td>\n",
              "    </tr>\n",
              "    <tr>\n",
              "      <th>1</th>\n",
              "      <td>WebsiteVisits</td>\n",
              "      <td>0.231305</td>\n",
              "    </tr>\n",
              "    <tr>\n",
              "      <th>0</th>\n",
              "      <td>CompanySize</td>\n",
              "      <td>0.135410</td>\n",
              "    </tr>\n",
              "  </tbody>\n",
              "</table>\n",
              "</div>\n",
              "      <button class=\"colab-df-convert\" onclick=\"convertToInteractive('df-910da794-c334-4707-b097-4d8f890c2c8f')\"\n",
              "              title=\"Convert this dataframe to an interactive table.\"\n",
              "              style=\"display:none;\">\n",
              "        \n",
              "  <svg xmlns=\"http://www.w3.org/2000/svg\" height=\"24px\"viewBox=\"0 0 24 24\"\n",
              "       width=\"24px\">\n",
              "    <path d=\"M0 0h24v24H0V0z\" fill=\"none\"/>\n",
              "    <path d=\"M18.56 5.44l.94 2.06.94-2.06 2.06-.94-2.06-.94-.94-2.06-.94 2.06-2.06.94zm-11 1L8.5 8.5l.94-2.06 2.06-.94-2.06-.94L8.5 2.5l-.94 2.06-2.06.94zm10 10l.94 2.06.94-2.06 2.06-.94-2.06-.94-.94-2.06-.94 2.06-2.06.94z\"/><path d=\"M17.41 7.96l-1.37-1.37c-.4-.4-.92-.59-1.43-.59-.52 0-1.04.2-1.43.59L10.3 9.45l-7.72 7.72c-.78.78-.78 2.05 0 2.83L4 21.41c.39.39.9.59 1.41.59.51 0 1.02-.2 1.41-.59l7.78-7.78 2.81-2.81c.8-.78.8-2.07 0-2.86zM5.41 20L4 18.59l7.72-7.72 1.47 1.35L5.41 20z\"/>\n",
              "  </svg>\n",
              "      </button>\n",
              "      \n",
              "  <style>\n",
              "    .colab-df-container {\n",
              "      display:flex;\n",
              "      flex-wrap:wrap;\n",
              "      gap: 12px;\n",
              "    }\n",
              "\n",
              "    .colab-df-convert {\n",
              "      background-color: #E8F0FE;\n",
              "      border: none;\n",
              "      border-radius: 50%;\n",
              "      cursor: pointer;\n",
              "      display: none;\n",
              "      fill: #1967D2;\n",
              "      height: 32px;\n",
              "      padding: 0 0 0 0;\n",
              "      width: 32px;\n",
              "    }\n",
              "\n",
              "    .colab-df-convert:hover {\n",
              "      background-color: #E2EBFA;\n",
              "      box-shadow: 0px 1px 2px rgba(60, 64, 67, 0.3), 0px 1px 3px 1px rgba(60, 64, 67, 0.15);\n",
              "      fill: #174EA6;\n",
              "    }\n",
              "\n",
              "    [theme=dark] .colab-df-convert {\n",
              "      background-color: #3B4455;\n",
              "      fill: #D2E3FC;\n",
              "    }\n",
              "\n",
              "    [theme=dark] .colab-df-convert:hover {\n",
              "      background-color: #434B5C;\n",
              "      box-shadow: 0px 1px 3px 1px rgba(0, 0, 0, 0.15);\n",
              "      filter: drop-shadow(0px 1px 2px rgba(0, 0, 0, 0.3));\n",
              "      fill: #FFFFFF;\n",
              "    }\n",
              "  </style>\n",
              "\n",
              "      <script>\n",
              "        const buttonEl =\n",
              "          document.querySelector('#df-910da794-c334-4707-b097-4d8f890c2c8f button.colab-df-convert');\n",
              "        buttonEl.style.display =\n",
              "          google.colab.kernel.accessAllowed ? 'block' : 'none';\n",
              "\n",
              "        async function convertToInteractive(key) {\n",
              "          const element = document.querySelector('#df-910da794-c334-4707-b097-4d8f890c2c8f');\n",
              "          const dataTable =\n",
              "            await google.colab.kernel.invokeFunction('convertToInteractive',\n",
              "                                                     [key], {});\n",
              "          if (!dataTable) return;\n",
              "\n",
              "          const docLinkHtml = 'Like what you see? Visit the ' +\n",
              "            '<a target=\"_blank\" href=https://colab.research.google.com/notebooks/data_table.ipynb>data table notebook</a>'\n",
              "            + ' to learn more about interactive tables.';\n",
              "          element.innerHTML = '';\n",
              "          dataTable['output_type'] = 'display_data';\n",
              "          await google.colab.output.renderOutput(dataTable, element);\n",
              "          const docLink = document.createElement('div');\n",
              "          docLink.innerHTML = docLinkHtml;\n",
              "          element.appendChild(docLink);\n",
              "        }\n",
              "      </script>\n",
              "    </div>\n",
              "  </div>\n",
              "  "
            ],
            "text/plain": [
              "         feature  feature_importance\n",
              "2          Print            1.015622\n",
              "1  WebsiteVisits            0.231305\n",
              "0    CompanySize            0.135410"
            ]
          },
          "metadata": {},
          "execution_count": 180
        }
      ]
    },
    {
      "cell_type": "code",
      "metadata": {
        "colab": {
          "base_uri": "https://localhost:8080/",
          "height": 235
        },
        "id": "L4vwEj3LHqTe",
        "outputId": "e735fc07-3259-478c-b8e8-70a3dc86c1a8"
      },
      "source": [
        "#https://www.youtube.com/watch?v=uTrS5nXnzZ8\n",
        "\n",
        "# Feature Importance\n",
        "plot_model(best_model, plot = 'feature')\n",
        "\n",
        "\n",
        "# AUC Plot\n",
        "plot_model(best_model, plot = 'auc')"
      ],
      "execution_count": null,
      "outputs": [
        {
          "output_type": "error",
          "ename": "NameError",
          "evalue": "ignored",
          "traceback": [
            "\u001b[0;31m---------------------------------------------------------------------------\u001b[0m",
            "\u001b[0;31mNameError\u001b[0m                                 Traceback (most recent call last)",
            "\u001b[0;32m<ipython-input-94-b26b2f1aa7c3>\u001b[0m in \u001b[0;36m<module>\u001b[0;34m()\u001b[0m\n\u001b[1;32m      2\u001b[0m \u001b[0;34m\u001b[0m\u001b[0m\n\u001b[1;32m      3\u001b[0m \u001b[0;31m# Feature Importance\u001b[0m\u001b[0;34m\u001b[0m\u001b[0;34m\u001b[0m\u001b[0;34m\u001b[0m\u001b[0m\n\u001b[0;32m----> 4\u001b[0;31m \u001b[0mplot_model\u001b[0m\u001b[0;34m(\u001b[0m\u001b[0mbest_model\u001b[0m\u001b[0;34m,\u001b[0m \u001b[0mplot\u001b[0m \u001b[0;34m=\u001b[0m \u001b[0;34m'feature'\u001b[0m\u001b[0;34m)\u001b[0m\u001b[0;34m\u001b[0m\u001b[0;34m\u001b[0m\u001b[0m\n\u001b[0m\u001b[1;32m      5\u001b[0m \u001b[0;34m\u001b[0m\u001b[0m\n\u001b[1;32m      6\u001b[0m \u001b[0;34m\u001b[0m\u001b[0m\n",
            "\u001b[0;31mNameError\u001b[0m: name 'plot_model' is not defined"
          ]
        }
      ]
    },
    {
      "cell_type": "code",
      "metadata": {
        "id": "mN1V-sTGHsAc"
      },
      "source": [
        "def get_feature_importance(model, feature_names):\n",
        "  feature_importance = (\n",
        "      pd.DataFrame(\n",
        "          {\n",
        "              'variable': feature_names, #feature names\n",
        "           'coefficient':model.coef_[0] # feature coef\n",
        "           }\n",
        "      )\n",
        "      .round(decimals=2) \\\n",
        "      .sort_values('coefficient',ascending=False) \\\n",
        "      .style.bar(color=['read','greaen'], align='zero')\n",
        "\n",
        "  )\n",
        "  return feature_importance"
      ],
      "execution_count": null,
      "outputs": []
    },
    {
      "cell_type": "code",
      "metadata": {
        "colab": {
          "base_uri": "https://localhost:8080/",
          "height": 311
        },
        "id": "ZtIqw7w8Hit0",
        "outputId": "262ee042-b98f-4793-e153-fa7dacd83b8e"
      },
      "source": [
        "get_feature_importance(model, X_train.columns)"
      ],
      "execution_count": null,
      "outputs": [
        {
          "output_type": "error",
          "ename": "ValueError",
          "evalue": "ignored",
          "traceback": [
            "\u001b[0;31m---------------------------------------------------------------------------\u001b[0m",
            "\u001b[0;31mValueError\u001b[0m                                Traceback (most recent call last)",
            "\u001b[0;32m<ipython-input-103-f994779d7066>\u001b[0m in \u001b[0;36m<module>\u001b[0;34m()\u001b[0m\n\u001b[0;32m----> 1\u001b[0;31m \u001b[0mget_feature_importance\u001b[0m\u001b[0;34m(\u001b[0m\u001b[0mmodel\u001b[0m\u001b[0;34m,\u001b[0m \u001b[0mX_train\u001b[0m\u001b[0;34m.\u001b[0m\u001b[0mcolumns\u001b[0m\u001b[0;34m)\u001b[0m\u001b[0;34m\u001b[0m\u001b[0;34m\u001b[0m\u001b[0m\n\u001b[0m",
            "\u001b[0;32m<ipython-input-102-25c30dd5b141>\u001b[0m in \u001b[0;36mget_feature_importance\u001b[0;34m(model, feature_names)\u001b[0m\n\u001b[1;32m      4\u001b[0m           {\n\u001b[1;32m      5\u001b[0m               \u001b[0;34m'variable'\u001b[0m\u001b[0;34m:\u001b[0m \u001b[0mfeature_names\u001b[0m\u001b[0;34m,\u001b[0m \u001b[0;31m#feature names\u001b[0m\u001b[0;34m\u001b[0m\u001b[0;34m\u001b[0m\u001b[0m\n\u001b[0;32m----> 6\u001b[0;31m            \u001b[0;34m'coefficient'\u001b[0m\u001b[0;34m:\u001b[0m\u001b[0mmodel\u001b[0m\u001b[0;34m.\u001b[0m\u001b[0mcoef_\u001b[0m\u001b[0;34m[\u001b[0m\u001b[0;36m0\u001b[0m\u001b[0;34m]\u001b[0m \u001b[0;31m# feature coef\u001b[0m\u001b[0;34m\u001b[0m\u001b[0;34m\u001b[0m\u001b[0m\n\u001b[0m\u001b[1;32m      7\u001b[0m            }\n\u001b[1;32m      8\u001b[0m       )\n",
            "\u001b[0;32m/usr/local/lib/python3.7/dist-packages/pandas/core/frame.py\u001b[0m in \u001b[0;36m__init__\u001b[0;34m(self, data, index, columns, dtype, copy)\u001b[0m\n\u001b[1;32m    466\u001b[0m \u001b[0;34m\u001b[0m\u001b[0m\n\u001b[1;32m    467\u001b[0m         \u001b[0;32melif\u001b[0m \u001b[0misinstance\u001b[0m\u001b[0;34m(\u001b[0m\u001b[0mdata\u001b[0m\u001b[0;34m,\u001b[0m \u001b[0mdict\u001b[0m\u001b[0;34m)\u001b[0m\u001b[0;34m:\u001b[0m\u001b[0;34m\u001b[0m\u001b[0;34m\u001b[0m\u001b[0m\n\u001b[0;32m--> 468\u001b[0;31m             \u001b[0mmgr\u001b[0m \u001b[0;34m=\u001b[0m \u001b[0minit_dict\u001b[0m\u001b[0;34m(\u001b[0m\u001b[0mdata\u001b[0m\u001b[0;34m,\u001b[0m \u001b[0mindex\u001b[0m\u001b[0;34m,\u001b[0m \u001b[0mcolumns\u001b[0m\u001b[0;34m,\u001b[0m \u001b[0mdtype\u001b[0m\u001b[0;34m=\u001b[0m\u001b[0mdtype\u001b[0m\u001b[0;34m)\u001b[0m\u001b[0;34m\u001b[0m\u001b[0;34m\u001b[0m\u001b[0m\n\u001b[0m\u001b[1;32m    469\u001b[0m         \u001b[0;32melif\u001b[0m \u001b[0misinstance\u001b[0m\u001b[0;34m(\u001b[0m\u001b[0mdata\u001b[0m\u001b[0;34m,\u001b[0m \u001b[0mma\u001b[0m\u001b[0;34m.\u001b[0m\u001b[0mMaskedArray\u001b[0m\u001b[0;34m)\u001b[0m\u001b[0;34m:\u001b[0m\u001b[0;34m\u001b[0m\u001b[0;34m\u001b[0m\u001b[0m\n\u001b[1;32m    470\u001b[0m             \u001b[0;32mimport\u001b[0m \u001b[0mnumpy\u001b[0m\u001b[0;34m.\u001b[0m\u001b[0mma\u001b[0m\u001b[0;34m.\u001b[0m\u001b[0mmrecords\u001b[0m \u001b[0;32mas\u001b[0m \u001b[0mmrecords\u001b[0m\u001b[0;34m\u001b[0m\u001b[0;34m\u001b[0m\u001b[0m\n",
            "\u001b[0;32m/usr/local/lib/python3.7/dist-packages/pandas/core/internals/construction.py\u001b[0m in \u001b[0;36minit_dict\u001b[0;34m(data, index, columns, dtype)\u001b[0m\n\u001b[1;32m    281\u001b[0m             \u001b[0marr\u001b[0m \u001b[0;32mif\u001b[0m \u001b[0;32mnot\u001b[0m \u001b[0mis_datetime64tz_dtype\u001b[0m\u001b[0;34m(\u001b[0m\u001b[0marr\u001b[0m\u001b[0;34m)\u001b[0m \u001b[0;32melse\u001b[0m \u001b[0marr\u001b[0m\u001b[0;34m.\u001b[0m\u001b[0mcopy\u001b[0m\u001b[0;34m(\u001b[0m\u001b[0;34m)\u001b[0m \u001b[0;32mfor\u001b[0m \u001b[0marr\u001b[0m \u001b[0;32min\u001b[0m \u001b[0marrays\u001b[0m\u001b[0;34m\u001b[0m\u001b[0;34m\u001b[0m\u001b[0m\n\u001b[1;32m    282\u001b[0m         ]\n\u001b[0;32m--> 283\u001b[0;31m     \u001b[0;32mreturn\u001b[0m \u001b[0marrays_to_mgr\u001b[0m\u001b[0;34m(\u001b[0m\u001b[0marrays\u001b[0m\u001b[0;34m,\u001b[0m \u001b[0mdata_names\u001b[0m\u001b[0;34m,\u001b[0m \u001b[0mindex\u001b[0m\u001b[0;34m,\u001b[0m \u001b[0mcolumns\u001b[0m\u001b[0;34m,\u001b[0m \u001b[0mdtype\u001b[0m\u001b[0;34m=\u001b[0m\u001b[0mdtype\u001b[0m\u001b[0;34m)\u001b[0m\u001b[0;34m\u001b[0m\u001b[0;34m\u001b[0m\u001b[0m\n\u001b[0m\u001b[1;32m    284\u001b[0m \u001b[0;34m\u001b[0m\u001b[0m\n\u001b[1;32m    285\u001b[0m \u001b[0;34m\u001b[0m\u001b[0m\n",
            "\u001b[0;32m/usr/local/lib/python3.7/dist-packages/pandas/core/internals/construction.py\u001b[0m in \u001b[0;36marrays_to_mgr\u001b[0;34m(arrays, arr_names, index, columns, dtype, verify_integrity)\u001b[0m\n\u001b[1;32m     76\u001b[0m         \u001b[0;31m# figure out the index, if necessary\u001b[0m\u001b[0;34m\u001b[0m\u001b[0;34m\u001b[0m\u001b[0;34m\u001b[0m\u001b[0m\n\u001b[1;32m     77\u001b[0m         \u001b[0;32mif\u001b[0m \u001b[0mindex\u001b[0m \u001b[0;32mis\u001b[0m \u001b[0;32mNone\u001b[0m\u001b[0;34m:\u001b[0m\u001b[0;34m\u001b[0m\u001b[0;34m\u001b[0m\u001b[0m\n\u001b[0;32m---> 78\u001b[0;31m             \u001b[0mindex\u001b[0m \u001b[0;34m=\u001b[0m \u001b[0mextract_index\u001b[0m\u001b[0;34m(\u001b[0m\u001b[0marrays\u001b[0m\u001b[0;34m)\u001b[0m\u001b[0;34m\u001b[0m\u001b[0;34m\u001b[0m\u001b[0m\n\u001b[0m\u001b[1;32m     79\u001b[0m         \u001b[0;32melse\u001b[0m\u001b[0;34m:\u001b[0m\u001b[0;34m\u001b[0m\u001b[0;34m\u001b[0m\u001b[0m\n\u001b[1;32m     80\u001b[0m             \u001b[0mindex\u001b[0m \u001b[0;34m=\u001b[0m \u001b[0mensure_index\u001b[0m\u001b[0;34m(\u001b[0m\u001b[0mindex\u001b[0m\u001b[0;34m)\u001b[0m\u001b[0;34m\u001b[0m\u001b[0;34m\u001b[0m\u001b[0m\n",
            "\u001b[0;32m/usr/local/lib/python3.7/dist-packages/pandas/core/internals/construction.py\u001b[0m in \u001b[0;36mextract_index\u001b[0;34m(data)\u001b[0m\n\u001b[1;32m    395\u001b[0m             \u001b[0mlengths\u001b[0m \u001b[0;34m=\u001b[0m \u001b[0mlist\u001b[0m\u001b[0;34m(\u001b[0m\u001b[0mset\u001b[0m\u001b[0;34m(\u001b[0m\u001b[0mraw_lengths\u001b[0m\u001b[0;34m)\u001b[0m\u001b[0;34m)\u001b[0m\u001b[0;34m\u001b[0m\u001b[0;34m\u001b[0m\u001b[0m\n\u001b[1;32m    396\u001b[0m             \u001b[0;32mif\u001b[0m \u001b[0mlen\u001b[0m\u001b[0;34m(\u001b[0m\u001b[0mlengths\u001b[0m\u001b[0;34m)\u001b[0m \u001b[0;34m>\u001b[0m \u001b[0;36m1\u001b[0m\u001b[0;34m:\u001b[0m\u001b[0;34m\u001b[0m\u001b[0;34m\u001b[0m\u001b[0m\n\u001b[0;32m--> 397\u001b[0;31m                 \u001b[0;32mraise\u001b[0m \u001b[0mValueError\u001b[0m\u001b[0;34m(\u001b[0m\u001b[0;34m\"arrays must all be same length\"\u001b[0m\u001b[0;34m)\u001b[0m\u001b[0;34m\u001b[0m\u001b[0;34m\u001b[0m\u001b[0m\n\u001b[0m\u001b[1;32m    398\u001b[0m \u001b[0;34m\u001b[0m\u001b[0m\n\u001b[1;32m    399\u001b[0m             \u001b[0;32mif\u001b[0m \u001b[0mhave_dicts\u001b[0m\u001b[0;34m:\u001b[0m\u001b[0;34m\u001b[0m\u001b[0;34m\u001b[0m\u001b[0m\n",
            "\u001b[0;31mValueError\u001b[0m: arrays must all be same length"
          ]
        }
      ]
    },
    {
      "cell_type": "code",
      "metadata": {
        "colab": {
          "base_uri": "https://localhost:8080/"
        },
        "id": "ucHttdQMIngl",
        "outputId": "4bdea013-fb8e-4275-f7ce-5e3a4769159c"
      },
      "source": [
        "dict(zip(leads.columns, clf.coef_[0]))"
      ],
      "execution_count": null,
      "outputs": [
        {
          "output_type": "execute_result",
          "data": {
            "text/plain": [
              "{'Adwords': -0.7861118027760264,\n",
              " 'Alabama': -0.2379194353313747,\n",
              " 'Alaska': 0.17362854082179707,\n",
              " 'Arizona': 0.09197157491761304,\n",
              " 'Arkansas': 0.764635634773775,\n",
              " 'California': -0.022535137627348628,\n",
              " 'Colorado': 1.868091962976355,\n",
              " 'CompanySize': -0.13388979539303472,\n",
              " 'Connecticut': 1.054443702589907,\n",
              " 'Customer': 0.6659808217779407,\n",
              " 'Delaware': -0.5772440425173901,\n",
              " 'EmailScore': 0.22277034859692438,\n",
              " 'Florida': 0.4151196287665127,\n",
              " 'Georgia': -0.17587976003478198,\n",
              " 'Hawaii': 0.01837891292982315,\n",
              " 'Idaho': -0.6400347525534746,\n",
              " 'Illinois': 0.9791601493185923,\n",
              " 'Indiana': -0.014760553693792738,\n",
              " 'Iowa': -0.5009884508984265,\n",
              " 'Kansas': -0.04357455051325115,\n",
              " 'Kentucky': -0.7890126408048073,\n",
              " 'Louisiana': -0.1227010286101562,\n",
              " 'Maine': 1.6366951002930419,\n",
              " 'Maryland': -0.37862600040878513,\n",
              " 'Massachussets': -0.14377107247116147,\n",
              " 'Michigan': -0.07751972367491683,\n",
              " 'Minnesota': -0.24680734209757543,\n",
              " 'Mississippi': -0.40566250223833406,\n",
              " 'Missouri': -0.2987444305405718,\n",
              " 'Montana': -0.41860795456071076,\n",
              " 'Nebraska': -0.3453781859920435,\n",
              " 'Nevada': -0.11068546594663446,\n",
              " 'New Hampshire': 2.0074559921284836,\n",
              " 'New Jersey': -0.28435454021554885,\n",
              " 'New Mexico': 1.1829639027555352,\n",
              " 'New York': -0.4800315123174616,\n",
              " 'North Carolina': -0.01930267021783927,\n",
              " 'North Dakota': 0.5558666787548556,\n",
              " 'Ohio': -0.5557350837775196,\n",
              " 'Oklahoma': -0.3438118451147014,\n",
              " 'Oregon': 0.31397752789608696,\n",
              " 'Pennsylvania': -0.7406057097272087,\n",
              " 'Print': 0.22783564207947793,\n",
              " 'Rhode Island': -0.1461416516960942,\n",
              " 'South Carolina': -0.4396581996007214,\n",
              " 'South Dakota': -0.6202584317409764,\n",
              " 'Tennessee': -0.11736596502352953,\n",
              " 'Texas': 0.11315346791455769,\n",
              " 'Tradeshow': 0.574778766405054,\n",
              " 'Utah': -0.2730527924490407,\n",
              " 'Vermont': 0.009970526742655545,\n",
              " 'Virginia': -0.6630497872592199,\n",
              " 'Washington': 0.00037151378265232854,\n",
              " 'Webinar': -0.1876588633446349,\n",
              " 'WebsiteVisits': 0.22909678361821603,\n",
              " 'West Virginia': -0.07807248858330909,\n",
              " 'Wisconsin': -0.0038488182926718737}"
            ]
          },
          "metadata": {},
          "execution_count": 179
        }
      ]
    },
    {
      "cell_type": "markdown",
      "source": [
        "**Approach #1**"
      ],
      "metadata": {
        "id": "fBOVGWvx_oxH"
      }
    },
    {
      "cell_type": "code",
      "source": [
        "#https://machinelearningmastery.com/calculate-feature-importance-with-python/\n",
        "\n",
        "import sklearn\n",
        "print(sklearn.__version__)\n",
        "\n",
        "from sklearn.datasets import make_classification\n",
        "from sklearn.linear_model import LogisticRegression\n",
        "from matplotlib import pyplot"
      ],
      "metadata": {
        "colab": {
          "base_uri": "https://localhost:8080/"
        },
        "id": "CkySNBTj9OSD",
        "outputId": "d24130cc-2fd1-434c-f601-39f66d4bd987"
      },
      "execution_count": null,
      "outputs": [
        {
          "output_type": "stream",
          "name": "stdout",
          "text": [
            "1.0.1\n"
          ]
        }
      ]
    },
    {
      "cell_type": "code",
      "source": [
        "print(leads.columns.values.tolist())"
      ],
      "metadata": {
        "colab": {
          "base_uri": "https://localhost:8080/"
        },
        "id": "mVoLnTDP-mAA",
        "outputId": "cfc7361b-5b22-4c5a-9ca2-6846f2f07e9b"
      },
      "execution_count": null,
      "outputs": [
        {
          "output_type": "stream",
          "name": "stdout",
          "text": [
            "['CompanySize', 'WebsiteVisits', 'EmailScore', 'Customer', 'Adwords', 'Print', 'Tradeshow', 'Webinar', 'Alabama', 'Alaska', 'Arizona', 'Arkansas', 'California', 'Colorado', 'Connecticut', 'Delaware', 'Florida', 'Georgia', 'Hawaii', 'Idaho', 'Illinois', 'Indiana', 'Iowa', 'Kansas', 'Kentucky', 'Louisiana', 'Maine', 'Maryland', 'Massachussets', 'Michigan', 'Minnesota', 'Mississippi', 'Missouri', 'Montana', 'Nebraska', 'Nevada', 'New Hampshire', 'New Jersey', 'New Mexico', 'New York', 'North Carolina', 'North Dakota', 'Ohio', 'Oklahoma', 'Oregon', 'Pennsylvania', 'Rhode Island', 'South Carolina', 'South Dakota', 'Tennessee', 'Texas', 'Utah', 'Vermont', 'Virginia', 'Washington', 'West Virginia', 'Wisconsin', 'Wyoming']\n"
          ]
        }
      ]
    },
    {
      "cell_type": "code",
      "source": [
        "#get importance\n",
        "importance = clf.coef_[0]\n",
        "\n",
        "#summarize importance\n",
        "for i,v in enumerate(importance):\n",
        "\tprint('Feature: %0d, Score: %.5f' % (i,v))"
      ],
      "metadata": {
        "colab": {
          "base_uri": "https://localhost:8080/"
        },
        "id": "PMHWfaTx9--G",
        "outputId": "23b0d214-feed-4bd4-de53-6ac38fd0bfeb"
      },
      "execution_count": null,
      "outputs": [
        {
          "output_type": "stream",
          "name": "stdout",
          "text": [
            "Feature: 0, Score: -0.13389\n",
            "Feature: 1, Score: 0.22910\n",
            "Feature: 2, Score: 0.22277\n",
            "Feature: 3, Score: 0.66598\n",
            "Feature: 4, Score: -0.78611\n",
            "Feature: 5, Score: 0.22784\n",
            "Feature: 6, Score: 0.57478\n",
            "Feature: 7, Score: -0.18766\n",
            "Feature: 8, Score: -0.23792\n",
            "Feature: 9, Score: 0.17363\n",
            "Feature: 10, Score: 0.09197\n",
            "Feature: 11, Score: 0.76464\n",
            "Feature: 12, Score: -0.02254\n",
            "Feature: 13, Score: 1.86809\n",
            "Feature: 14, Score: 1.05444\n",
            "Feature: 15, Score: -0.57724\n",
            "Feature: 16, Score: 0.41512\n",
            "Feature: 17, Score: -0.17588\n",
            "Feature: 18, Score: 0.01838\n",
            "Feature: 19, Score: -0.64003\n",
            "Feature: 20, Score: 0.97916\n",
            "Feature: 21, Score: -0.01476\n",
            "Feature: 22, Score: -0.50099\n",
            "Feature: 23, Score: -0.04357\n",
            "Feature: 24, Score: -0.78901\n",
            "Feature: 25, Score: -0.12270\n",
            "Feature: 26, Score: 1.63670\n",
            "Feature: 27, Score: -0.37863\n",
            "Feature: 28, Score: -0.14377\n",
            "Feature: 29, Score: -0.07752\n",
            "Feature: 30, Score: -0.24681\n",
            "Feature: 31, Score: -0.40566\n",
            "Feature: 32, Score: -0.29874\n",
            "Feature: 33, Score: -0.41861\n",
            "Feature: 34, Score: -0.34538\n",
            "Feature: 35, Score: -0.11069\n",
            "Feature: 36, Score: 2.00746\n",
            "Feature: 37, Score: -0.28435\n",
            "Feature: 38, Score: 1.18296\n",
            "Feature: 39, Score: -0.48003\n",
            "Feature: 40, Score: -0.01930\n",
            "Feature: 41, Score: 0.55587\n",
            "Feature: 42, Score: -0.55574\n",
            "Feature: 43, Score: -0.34381\n",
            "Feature: 44, Score: 0.31398\n",
            "Feature: 45, Score: -0.74061\n",
            "Feature: 46, Score: -0.14614\n",
            "Feature: 47, Score: -0.43966\n",
            "Feature: 48, Score: -0.62026\n",
            "Feature: 49, Score: -0.11737\n",
            "Feature: 50, Score: 0.11315\n",
            "Feature: 51, Score: -0.27305\n",
            "Feature: 52, Score: 0.00997\n",
            "Feature: 53, Score: -0.66305\n",
            "Feature: 54, Score: 0.00037\n",
            "Feature: 55, Score: -0.07807\n",
            "Feature: 56, Score: -0.00385\n"
          ]
        }
      ]
    },
    {
      "cell_type": "code",
      "source": [
        "#https://stackoverflow.com/questions/34052115/how-to-find-the-importance-of-the-features-for-a-logistic-regression-model\n",
        "\n",
        "print(clf.coef_)"
      ],
      "metadata": {
        "colab": {
          "base_uri": "https://localhost:8080/"
        },
        "id": "Aobkut326xno",
        "outputId": "be31bf46-94ca-44c7-e0d2-eeb02f718359"
      },
      "execution_count": null,
      "outputs": [
        {
          "output_type": "stream",
          "name": "stdout",
          "text": [
            "[[-1.33889795e-01  2.29096784e-01  2.22770349e-01  6.65980822e-01\n",
            "  -7.86111803e-01  2.27835642e-01  5.74778766e-01 -1.87658863e-01\n",
            "  -2.37919435e-01  1.73628541e-01  9.19715749e-02  7.64635635e-01\n",
            "  -2.25351376e-02  1.86809196e+00  1.05444370e+00 -5.77244043e-01\n",
            "   4.15119629e-01 -1.75879760e-01  1.83789129e-02 -6.40034753e-01\n",
            "   9.79160149e-01 -1.47605537e-02 -5.00988451e-01 -4.35745505e-02\n",
            "  -7.89012641e-01 -1.22701029e-01  1.63669510e+00 -3.78626000e-01\n",
            "  -1.43771072e-01 -7.75197237e-02 -2.46807342e-01 -4.05662502e-01\n",
            "  -2.98744431e-01 -4.18607955e-01 -3.45378186e-01 -1.10685466e-01\n",
            "   2.00745599e+00 -2.84354540e-01  1.18296390e+00 -4.80031512e-01\n",
            "  -1.93026702e-02  5.55866679e-01 -5.55735084e-01 -3.43811845e-01\n",
            "   3.13977528e-01 -7.40605710e-01 -1.46141652e-01 -4.39658200e-01\n",
            "  -6.20258432e-01 -1.17365965e-01  1.13153468e-01 -2.73052792e-01\n",
            "   9.97052674e-03 -6.63049787e-01  3.71513783e-04 -7.80724886e-02\n",
            "  -3.84881829e-03]]\n"
          ]
        }
      ]
    },
    {
      "cell_type": "code",
      "source": [
        "#plot importance\n",
        "\n",
        "pyplot.bar([x for x in range(len(importance))], importance)\n",
        "pyplot.show()"
      ],
      "metadata": {
        "colab": {
          "base_uri": "https://localhost:8080/",
          "height": 265
        },
        "id": "1Ws_U6kF-Eas",
        "outputId": "4df984ca-c716-4eb3-f31c-424b12f0edcf"
      },
      "execution_count": null,
      "outputs": [
        {
          "output_type": "display_data",
          "data": {
            "image/png": "[encoded data removed]",
            "text/plain": [
              "<Figure size 432x288 with 1 Axes>"
            ]
          },
          "metadata": {
            "needs_background": "light"
          }
        }
      ]
    },
    {
      "cell_type": "code",
      "source": [
        "print(classification_report(y_test,preds))\n"
      ],
      "metadata": {
        "colab": {
          "base_uri": "https://localhost:8080/"
        },
        "id": "_3d10quvQCNT",
        "outputId": "11f50b05-b1fa-492c-b1db-cdc5a63bb804"
      },
      "execution_count": 432,
      "outputs": [
        {
          "output_type": "stream",
          "name": "stdout",
          "text": [
            "              precision    recall  f1-score   support\n",
            "\n",
            "           0       0.98      0.91      0.94       122\n",
            "           1       0.77      0.95      0.85        38\n",
            "\n",
            "    accuracy                           0.92       160\n",
            "   macro avg       0.87      0.93      0.90       160\n",
            "weighted avg       0.93      0.92      0.92       160\n",
            "\n"
          ]
        }
      ]
    }
  ]
}